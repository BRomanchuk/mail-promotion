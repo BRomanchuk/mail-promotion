{
 "cells": [
  {
   "cell_type": "markdown",
   "id": "b3a53f2a-6bf3-4a01-a6e1-c9bbb4ad9413",
   "metadata": {},
   "source": [
    "# Re-activation test model\n",
    "\n",
    "## Overview:\n",
    "\n",
    "You are being provided a file with combined series of historical mail promotional files.  The purpose of these campaigns are to “re-activate” people who used to donate a lot to a charity, however in recent months or years have stopped giving. Heuristic financial information from within many charities suggest that there is a lower cost to raise a dollar by re-activating lapsed donors then say acquiring a cold donor who is unfamiliar with the charity.  Many charities have large lapsed data segments in their databases making this a field of strong interest for the charity.\n",
    "\n",
    "## Goal:\n",
    "\n",
    "Generally your goal in a production scenario could be to use a model to drive the most names (largest lapsed mailing) possible at break even, since long term value suggests re-activated donors go on to become very valuable.\n",
    "<br><br>\n",
    "In the interest of brevity we will only be looking at Area under the ROC to determine success and keep the task simple in its goal.  Although, the actual response amount (GIFT) is provided in the data (except for blind validation file), this is going to be response driven only.\n",
    "<br><br>\n",
    "Although we are looking to see your model “work”, we are most interested in your process, questions you may have as you work, creativity and process.  So aside from delivering the blind validation file, please deliver any notes and data visualizations from the project so we can follow your thought process.  In other words sell us on your methodology. \n",
    "<br><br>\n",
    "You may use any learning algorithm of your choosing and environment.  Although, this is a classic supervised learning scenario, we are not putting any constraints on how you choose to build a solution. \n",
    "\n",
    "## Data:\n",
    "\n",
    "You have 2 files provided.  1 for training and validation and 1 for blind validation to send us back when you have provided a score.\n",
    "<br><br>\n",
    "Much of the work on the data has been done for you.  Using the client’s internal database we have created accurate snapshots for you of what the data looked like for each campaign at the time it was sent with of course who responded.   As a ‘data scientist’ with VeraData you will be provided with an expert to handle ETL and work with you so you can focus on the actual analytics.\n",
    "<br><br>\n",
    "Also, in the interest of time as well as computational resource efficiency, we have limited the variables provided to you and the number of records you have in your file.  This will make the data easier for you to manage as apposed to the 1000+ variables and 1000000+ records that will be available to you in a production environment.  As mentioned before we are more looking to assess your thought process not burn up your personal computer. You are provided below with the description of some client’s fields and the most other fields are third-party data that we received without descriptions."
   ]
  },
  {
   "cell_type": "code",
   "execution_count": 1,
   "id": "12693170-276b-42ee-90f5-b31fb470412b",
   "metadata": {},
   "outputs": [],
   "source": [
    "import numpy as np\n",
    "import pandas as pd\n",
    "import matplotlib.pyplot as plt"
   ]
  },
  {
   "cell_type": "code",
   "execution_count": 2,
   "id": "aafa5e9c-a87b-4141-9134-3ed39dc6e91f",
   "metadata": {},
   "outputs": [],
   "source": [
    "train_df = pd.read_csv('./mail-promotion/mail-promotion/data/train.csv', delimiter='|')\n",
    "test_df = pd.read_csv('./mail-promotion/mail-promotion/data/test.csv', delimiter='|')"
   ]
  },
  {
   "cell_type": "code",
   "execution_count": 3,
   "id": "3504dade-be93-4b86-8d1c-a8ab0caf4936",
   "metadata": {},
   "outputs": [
    {
     "data": {
      "text/html": [
       "<div>\n",
       "<style scoped>\n",
       "    .dataframe tbody tr th:only-of-type {\n",
       "        vertical-align: middle;\n",
       "    }\n",
       "\n",
       "    .dataframe tbody tr th {\n",
       "        vertical-align: top;\n",
       "    }\n",
       "\n",
       "    .dataframe thead th {\n",
       "        text-align: right;\n",
       "    }\n",
       "</style>\n",
       "<table border=\"1\" class=\"dataframe\">\n",
       "  <thead>\n",
       "    <tr style=\"text-align: right;\">\n",
       "      <th></th>\n",
       "      <th>Unnamed: 0</th>\n",
       "      <th>VC_ID</th>\n",
       "      <th>VC_DATEMAIL</th>\n",
       "      <th>VC_DATERESP</th>\n",
       "      <th>VC_GIFT</th>\n",
       "      <th>VC_CATHA</th>\n",
       "      <th>VC_CATHMC</th>\n",
       "      <th>PX_WO_CRR</th>\n",
       "      <th>PX_WO_CRR6MTH</th>\n",
       "      <th>ax_donation_contribution_c</th>\n",
       "      <th>...</th>\n",
       "      <th>ax_scuba_diving</th>\n",
       "      <th>ax_adult_age_ranges_present_in_household_unknown_gender_18_24</th>\n",
       "      <th>ax_childrens_age_ranges_present_in_hhld_reseller_age_00_02_female</th>\n",
       "      <th>ax_home_owner_type_detail_rp</th>\n",
       "      <th>ax_home_market_value_deciles_estimated_rp</th>\n",
       "      <th>ax_home_property_type_rp</th>\n",
       "      <th>PX_WO_PMD</th>\n",
       "      <th>ax_home_loan_date_3_rp_year</th>\n",
       "      <th>PX_WO_PR</th>\n",
       "      <th>ax_sex</th>\n",
       "    </tr>\n",
       "  </thead>\n",
       "  <tbody>\n",
       "    <tr>\n",
       "      <th>0</th>\n",
       "      <td>0</td>\n",
       "      <td>326417533784</td>\n",
       "      <td>2012-08-11</td>\n",
       "      <td>NaN</td>\n",
       "      <td>NaN</td>\n",
       "      <td>8</td>\n",
       "      <td>8</td>\n",
       "      <td>0.2754</td>\n",
       "      <td>0.2754</td>\n",
       "      <td>1.0</td>\n",
       "      <td>...</td>\n",
       "      <td>NaN</td>\n",
       "      <td>NaN</td>\n",
       "      <td>NaN</td>\n",
       "      <td>O</td>\n",
       "      <td>10.0</td>\n",
       "      <td>R</td>\n",
       "      <td>1998-07-01</td>\n",
       "      <td>NaN</td>\n",
       "      <td>1998-07-22</td>\n",
       "      <td>0.0</td>\n",
       "    </tr>\n",
       "    <tr>\n",
       "      <th>1</th>\n",
       "      <td>1</td>\n",
       "      <td>472446525086</td>\n",
       "      <td>2017-08-01</td>\n",
       "      <td>NaN</td>\n",
       "      <td>NaN</td>\n",
       "      <td>3</td>\n",
       "      <td>3</td>\n",
       "      <td>0.0526</td>\n",
       "      <td>0.0526</td>\n",
       "      <td>NaN</td>\n",
       "      <td>...</td>\n",
       "      <td>NaN</td>\n",
       "      <td>NaN</td>\n",
       "      <td>NaN</td>\n",
       "      <td>O</td>\n",
       "      <td>4.0</td>\n",
       "      <td>R</td>\n",
       "      <td>2011-10-03</td>\n",
       "      <td>NaN</td>\n",
       "      <td>2013-08-15</td>\n",
       "      <td>0.0</td>\n",
       "    </tr>\n",
       "    <tr>\n",
       "      <th>2</th>\n",
       "      <td>2</td>\n",
       "      <td>438087357784</td>\n",
       "      <td>2017-01-10</td>\n",
       "      <td>NaN</td>\n",
       "      <td>NaN</td>\n",
       "      <td>8</td>\n",
       "      <td>9</td>\n",
       "      <td>0.1111</td>\n",
       "      <td>0.1111</td>\n",
       "      <td>NaN</td>\n",
       "      <td>...</td>\n",
       "      <td>NaN</td>\n",
       "      <td>NaN</td>\n",
       "      <td>NaN</td>\n",
       "      <td>NaN</td>\n",
       "      <td>NaN</td>\n",
       "      <td>NaN</td>\n",
       "      <td>2011-03-28</td>\n",
       "      <td>NaN</td>\n",
       "      <td>2011-05-06</td>\n",
       "      <td>1.0</td>\n",
       "    </tr>\n",
       "    <tr>\n",
       "      <th>3</th>\n",
       "      <td>3</td>\n",
       "      <td>472446537663</td>\n",
       "      <td>2017-08-01</td>\n",
       "      <td>NaN</td>\n",
       "      <td>NaN</td>\n",
       "      <td>7</td>\n",
       "      <td>8</td>\n",
       "      <td>0.1058</td>\n",
       "      <td>0.1058</td>\n",
       "      <td>1.0</td>\n",
       "      <td>...</td>\n",
       "      <td>NaN</td>\n",
       "      <td>NaN</td>\n",
       "      <td>NaN</td>\n",
       "      <td>O</td>\n",
       "      <td>7.0</td>\n",
       "      <td>R</td>\n",
       "      <td>2000-04-10</td>\n",
       "      <td>NaN</td>\n",
       "      <td>2000-09-21</td>\n",
       "      <td>0.0</td>\n",
       "    </tr>\n",
       "    <tr>\n",
       "      <th>4</th>\n",
       "      <td>4</td>\n",
       "      <td>326417580816</td>\n",
       "      <td>2012-08-11</td>\n",
       "      <td>NaN</td>\n",
       "      <td>NaN</td>\n",
       "      <td>3</td>\n",
       "      <td>5</td>\n",
       "      <td>0.1117</td>\n",
       "      <td>0.1117</td>\n",
       "      <td>1.0</td>\n",
       "      <td>...</td>\n",
       "      <td>NaN</td>\n",
       "      <td>NaN</td>\n",
       "      <td>NaN</td>\n",
       "      <td>O</td>\n",
       "      <td>1.0</td>\n",
       "      <td>R</td>\n",
       "      <td>2003-08-18</td>\n",
       "      <td>NaN</td>\n",
       "      <td>2003-09-11</td>\n",
       "      <td>NaN</td>\n",
       "    </tr>\n",
       "  </tbody>\n",
       "</table>\n",
       "<p>5 rows × 38 columns</p>\n",
       "</div>"
      ],
      "text/plain": [
       "   Unnamed: 0         VC_ID VC_DATEMAIL VC_DATERESP  VC_GIFT  VC_CATHA  \\\n",
       "0           0  326417533784  2012-08-11         NaN      NaN         8   \n",
       "1           1  472446525086  2017-08-01         NaN      NaN         3   \n",
       "2           2  438087357784  2017-01-10         NaN      NaN         8   \n",
       "3           3  472446537663  2017-08-01         NaN      NaN         7   \n",
       "4           4  326417580816  2012-08-11         NaN      NaN         3   \n",
       "\n",
       "   VC_CATHMC  PX_WO_CRR  PX_WO_CRR6MTH  ax_donation_contribution_c  ...  \\\n",
       "0          8     0.2754         0.2754                         1.0  ...   \n",
       "1          3     0.0526         0.0526                         NaN  ...   \n",
       "2          9     0.1111         0.1111                         NaN  ...   \n",
       "3          8     0.1058         0.1058                         1.0  ...   \n",
       "4          5     0.1117         0.1117                         1.0  ...   \n",
       "\n",
       "   ax_scuba_diving  \\\n",
       "0              NaN   \n",
       "1              NaN   \n",
       "2              NaN   \n",
       "3              NaN   \n",
       "4              NaN   \n",
       "\n",
       "   ax_adult_age_ranges_present_in_household_unknown_gender_18_24  \\\n",
       "0                                                NaN               \n",
       "1                                                NaN               \n",
       "2                                                NaN               \n",
       "3                                                NaN               \n",
       "4                                                NaN               \n",
       "\n",
       "   ax_childrens_age_ranges_present_in_hhld_reseller_age_00_02_female  \\\n",
       "0                                                NaN                   \n",
       "1                                                NaN                   \n",
       "2                                                NaN                   \n",
       "3                                                NaN                   \n",
       "4                                                NaN                   \n",
       "\n",
       "   ax_home_owner_type_detail_rp ax_home_market_value_deciles_estimated_rp  \\\n",
       "0                             O                                      10.0   \n",
       "1                             O                                       4.0   \n",
       "2                           NaN                                       NaN   \n",
       "3                             O                                       7.0   \n",
       "4                             O                                       1.0   \n",
       "\n",
       "  ax_home_property_type_rp   PX_WO_PMD ax_home_loan_date_3_rp_year  \\\n",
       "0                        R  1998-07-01                         NaN   \n",
       "1                        R  2011-10-03                         NaN   \n",
       "2                      NaN  2011-03-28                         NaN   \n",
       "3                        R  2000-04-10                         NaN   \n",
       "4                        R  2003-08-18                         NaN   \n",
       "\n",
       "     PX_WO_PR ax_sex  \n",
       "0  1998-07-22    0.0  \n",
       "1  2013-08-15    0.0  \n",
       "2  2011-05-06    1.0  \n",
       "3  2000-09-21    0.0  \n",
       "4  2003-09-11    NaN  \n",
       "\n",
       "[5 rows x 38 columns]"
      ]
     },
     "execution_count": 3,
     "metadata": {},
     "output_type": "execute_result"
    }
   ],
   "source": [
    "train_df.head()"
   ]
  },
  {
   "cell_type": "code",
   "execution_count": 4,
   "id": "1dc99dae-8911-48ca-ad16-49771b2accf3",
   "metadata": {},
   "outputs": [
    {
     "data": {
      "text/plain": [
       "Index(['Unnamed: 0', 'VC_ID', 'VC_DATEMAIL', 'VC_DATERESP', 'VC_GIFT',\n",
       "       'VC_CATHA', 'VC_CATHMC', 'PX_WO_CRR', 'PX_WO_CRR6MTH',\n",
       "       'ax_donation_contribution_c', 'ax_religious_inspirational',\n",
       "       'ax_apparel_mens_big_and_tall_c', 'ax_books_and_music_books_c',\n",
       "       'ax_adult_age_ranges_present_in_household_females_75',\n",
       "       'ax_rfm_total_offline_orders_under_50_range_rng',\n",
       "       'ax_rfm_total_offline_orders_rng', 'ax_personicx_digital_cluster',\n",
       "       'ax_income_range_premium_sc', 'ax_income_range_broad_sc',\n",
       "       'VC_DATEMAILLAST', 'PX_WO_CR', 'ax_rfm_last_offline_purchase_date',\n",
       "       'PX_WO_CMD', 'VC_DATEGIFTLAST', 'ax_spose_income', 'VC_GIFTMAX1Y',\n",
       "       'PX_international_relief_CAG', 'PX_international_relief_CAG6MTH',\n",
       "       'ax_scuba_diving',\n",
       "       'ax_adult_age_ranges_present_in_household_unknown_gender_18_24',\n",
       "       'ax_childrens_age_ranges_present_in_hhld_reseller_age_00_02_female',\n",
       "       'ax_home_owner_type_detail_rp',\n",
       "       'ax_home_market_value_deciles_estimated_rp', 'ax_home_property_type_rp',\n",
       "       'PX_WO_PMD', 'ax_home_loan_date_3_rp_year', 'PX_WO_PR', 'ax_sex'],\n",
       "      dtype='object')"
      ]
     },
     "execution_count": 4,
     "metadata": {},
     "output_type": "execute_result"
    }
   ],
   "source": [
    "train_df.columns"
   ]
  },
  {
   "cell_type": "code",
   "execution_count": 5,
   "id": "f627eb7a-5029-4131-aa3d-398095653b28",
   "metadata": {},
   "outputs": [],
   "source": [
    "# train_df['days_btw_mails'] = (pd.to_datetime(train_df['VC_DATERESP']) - pd.to_datetime(train_df['VC_DATEMAIL']))\n",
    "# test_df['days_btw_mails'] = (pd.to_datetime(test_df['VC_DATERESP']) - pd.to_datetime(test_df['VC_DATEMAIL']))"
   ]
  },
  {
   "cell_type": "markdown",
   "id": "1bc65f7d-f0e3-430d-903a-0c474c5e1fe8",
   "metadata": {},
   "source": [
    "##"
   ]
  },
  {
   "cell_type": "code",
   "execution_count": 6,
   "id": "26d6641e-dd94-4024-84b8-12dd2e88ef31",
   "metadata": {},
   "outputs": [],
   "source": [
    "# mask with those VCs that responded\n",
    "resp_mask = train_df['VC_DATERESP'].notna()"
   ]
  },
  {
   "cell_type": "code",
   "execution_count": 7,
   "id": "7d5d9b8d-c48d-4c30-9cb0-1591bd13cc52",
   "metadata": {},
   "outputs": [
    {
     "data": {
      "text/html": [
       "<div>\n",
       "<style scoped>\n",
       "    .dataframe tbody tr th:only-of-type {\n",
       "        vertical-align: middle;\n",
       "    }\n",
       "\n",
       "    .dataframe tbody tr th {\n",
       "        vertical-align: top;\n",
       "    }\n",
       "\n",
       "    .dataframe thead th {\n",
       "        text-align: right;\n",
       "    }\n",
       "</style>\n",
       "<table border=\"1\" class=\"dataframe\">\n",
       "  <thead>\n",
       "    <tr style=\"text-align: right;\">\n",
       "      <th></th>\n",
       "      <th>Unnamed: 0</th>\n",
       "      <th>VC_ID</th>\n",
       "      <th>VC_DATEMAIL</th>\n",
       "      <th>VC_DATERESP</th>\n",
       "      <th>VC_GIFT</th>\n",
       "      <th>VC_CATHA</th>\n",
       "      <th>VC_CATHMC</th>\n",
       "      <th>PX_WO_CRR</th>\n",
       "      <th>PX_WO_CRR6MTH</th>\n",
       "      <th>ax_donation_contribution_c</th>\n",
       "      <th>...</th>\n",
       "      <th>ax_scuba_diving</th>\n",
       "      <th>ax_adult_age_ranges_present_in_household_unknown_gender_18_24</th>\n",
       "      <th>ax_childrens_age_ranges_present_in_hhld_reseller_age_00_02_female</th>\n",
       "      <th>ax_home_owner_type_detail_rp</th>\n",
       "      <th>ax_home_market_value_deciles_estimated_rp</th>\n",
       "      <th>ax_home_property_type_rp</th>\n",
       "      <th>PX_WO_PMD</th>\n",
       "      <th>ax_home_loan_date_3_rp_year</th>\n",
       "      <th>PX_WO_PR</th>\n",
       "      <th>ax_sex</th>\n",
       "    </tr>\n",
       "  </thead>\n",
       "  <tbody>\n",
       "    <tr>\n",
       "      <th>29</th>\n",
       "      <td>29</td>\n",
       "      <td>317828196065</td>\n",
       "      <td>2013-01-05</td>\n",
       "      <td>2013-02-01</td>\n",
       "      <td>20.0</td>\n",
       "      <td>9</td>\n",
       "      <td>9</td>\n",
       "      <td>NaN</td>\n",
       "      <td>NaN</td>\n",
       "      <td>1.0</td>\n",
       "      <td>...</td>\n",
       "      <td>NaN</td>\n",
       "      <td>NaN</td>\n",
       "      <td>NaN</td>\n",
       "      <td>O</td>\n",
       "      <td>6.0</td>\n",
       "      <td>R</td>\n",
       "      <td>NaN</td>\n",
       "      <td>NaN</td>\n",
       "      <td>NaN</td>\n",
       "      <td>NaN</td>\n",
       "    </tr>\n",
       "    <tr>\n",
       "      <th>62</th>\n",
       "      <td>62</td>\n",
       "      <td>412317292523</td>\n",
       "      <td>2015-10-01</td>\n",
       "      <td>2015-11-30</td>\n",
       "      <td>5.0</td>\n",
       "      <td>2</td>\n",
       "      <td>2</td>\n",
       "      <td>0.0909</td>\n",
       "      <td>0.0909</td>\n",
       "      <td>NaN</td>\n",
       "      <td>...</td>\n",
       "      <td>NaN</td>\n",
       "      <td>NaN</td>\n",
       "      <td>NaN</td>\n",
       "      <td>O</td>\n",
       "      <td>5.0</td>\n",
       "      <td>R</td>\n",
       "      <td>2005-09-01</td>\n",
       "      <td>NaN</td>\n",
       "      <td>2006-08-22</td>\n",
       "      <td>0.0</td>\n",
       "    </tr>\n",
       "    <tr>\n",
       "      <th>64</th>\n",
       "      <td>64</td>\n",
       "      <td>412317315760</td>\n",
       "      <td>2015-07-16</td>\n",
       "      <td>2015-10-26</td>\n",
       "      <td>15.0</td>\n",
       "      <td>2</td>\n",
       "      <td>2</td>\n",
       "      <td>0.0000</td>\n",
       "      <td>0.0000</td>\n",
       "      <td>1.0</td>\n",
       "      <td>...</td>\n",
       "      <td>NaN</td>\n",
       "      <td>NaN</td>\n",
       "      <td>NaN</td>\n",
       "      <td>NaN</td>\n",
       "      <td>NaN</td>\n",
       "      <td>NaN</td>\n",
       "      <td>2008-06-02</td>\n",
       "      <td>NaN</td>\n",
       "      <td>NaN</td>\n",
       "      <td>NaN</td>\n",
       "    </tr>\n",
       "  </tbody>\n",
       "</table>\n",
       "<p>3 rows × 38 columns</p>\n",
       "</div>"
      ],
      "text/plain": [
       "    Unnamed: 0         VC_ID VC_DATEMAIL VC_DATERESP  VC_GIFT  VC_CATHA  \\\n",
       "29          29  317828196065  2013-01-05  2013-02-01     20.0         9   \n",
       "62          62  412317292523  2015-10-01  2015-11-30      5.0         2   \n",
       "64          64  412317315760  2015-07-16  2015-10-26     15.0         2   \n",
       "\n",
       "    VC_CATHMC  PX_WO_CRR  PX_WO_CRR6MTH  ax_donation_contribution_c  ...  \\\n",
       "29          9        NaN            NaN                         1.0  ...   \n",
       "62          2     0.0909         0.0909                         NaN  ...   \n",
       "64          2     0.0000         0.0000                         1.0  ...   \n",
       "\n",
       "    ax_scuba_diving  \\\n",
       "29              NaN   \n",
       "62              NaN   \n",
       "64              NaN   \n",
       "\n",
       "    ax_adult_age_ranges_present_in_household_unknown_gender_18_24  \\\n",
       "29                                                NaN               \n",
       "62                                                NaN               \n",
       "64                                                NaN               \n",
       "\n",
       "    ax_childrens_age_ranges_present_in_hhld_reseller_age_00_02_female  \\\n",
       "29                                                NaN                   \n",
       "62                                                NaN                   \n",
       "64                                                NaN                   \n",
       "\n",
       "    ax_home_owner_type_detail_rp ax_home_market_value_deciles_estimated_rp  \\\n",
       "29                             O                                       6.0   \n",
       "62                             O                                       5.0   \n",
       "64                           NaN                                       NaN   \n",
       "\n",
       "   ax_home_property_type_rp   PX_WO_PMD ax_home_loan_date_3_rp_year  \\\n",
       "29                        R         NaN                         NaN   \n",
       "62                        R  2005-09-01                         NaN   \n",
       "64                      NaN  2008-06-02                         NaN   \n",
       "\n",
       "      PX_WO_PR ax_sex  \n",
       "29         NaN    NaN  \n",
       "62  2006-08-22    0.0  \n",
       "64         NaN    NaN  \n",
       "\n",
       "[3 rows x 38 columns]"
      ]
     },
     "execution_count": 7,
     "metadata": {},
     "output_type": "execute_result"
    }
   ],
   "source": [
    "train_df.loc[resp_mask].head(3)"
   ]
  },
  {
   "cell_type": "code",
   "execution_count": 8,
   "id": "cd2cbd42-5565-4134-9925-e85fc58bb5cc",
   "metadata": {},
   "outputs": [
    {
     "data": {
      "text/plain": [
       "<matplotlib.collections.PathCollection at 0x7f9692ee4c70>"
      ]
     },
     "execution_count": 8,
     "metadata": {},
     "output_type": "execute_result"
    },
    {
     "data": {
      "image/png": "[encoded data removed]",
      "text/plain": [
       "<Figure size 432x288 with 1 Axes>"
      ]
     },
     "metadata": {
      "needs_background": "light"
     },
     "output_type": "display_data"
    }
   ],
   "source": [
    "plt.scatter(train_df['VC_CATHA'], train_df['VC_CATHMC'])"
   ]
  },
  {
   "cell_type": "code",
   "execution_count": 9,
   "id": "6a8a2a9a-7cf2-47a5-822e-bee2ebf76e11",
   "metadata": {},
   "outputs": [
    {
     "data": {
      "text/html": [
       "<div>\n",
       "<style scoped>\n",
       "    .dataframe tbody tr th:only-of-type {\n",
       "        vertical-align: middle;\n",
       "    }\n",
       "\n",
       "    .dataframe tbody tr th {\n",
       "        vertical-align: top;\n",
       "    }\n",
       "\n",
       "    .dataframe thead th {\n",
       "        text-align: right;\n",
       "    }\n",
       "</style>\n",
       "<table border=\"1\" class=\"dataframe\">\n",
       "  <thead>\n",
       "    <tr style=\"text-align: right;\">\n",
       "      <th></th>\n",
       "      <th>VC_CATHA</th>\n",
       "      <th>PX_WO_CRR6MTH</th>\n",
       "    </tr>\n",
       "  </thead>\n",
       "  <tbody>\n",
       "    <tr>\n",
       "      <th>VC_CATHA</th>\n",
       "      <td>1.000000</td>\n",
       "      <td>0.031066</td>\n",
       "    </tr>\n",
       "    <tr>\n",
       "      <th>PX_WO_CRR6MTH</th>\n",
       "      <td>0.031066</td>\n",
       "      <td>1.000000</td>\n",
       "    </tr>\n",
       "  </tbody>\n",
       "</table>\n",
       "</div>"
      ],
      "text/plain": [
       "               VC_CATHA  PX_WO_CRR6MTH\n",
       "VC_CATHA       1.000000       0.031066\n",
       "PX_WO_CRR6MTH  0.031066       1.000000"
      ]
     },
     "execution_count": 9,
     "metadata": {},
     "output_type": "execute_result"
    }
   ],
   "source": [
    "train_df[['VC_CATHA', 'PX_WO_CRR6MTH']].corr()"
   ]
  },
  {
   "cell_type": "markdown",
   "id": "ee3fada4-e335-4556-afc2-1647e5385d36",
   "metadata": {},
   "source": [
    "## PX_WO_CRR and PX_WO_CRR6MTH are duplicates"
   ]
  },
  {
   "cell_type": "code",
   "execution_count": 10,
   "id": "3cd4b0af-29ba-4b1f-b6db-491f9b6fcfcc",
   "metadata": {
    "tags": []
   },
   "outputs": [
    {
     "data": {
      "text/plain": [
       "<matplotlib.collections.PathCollection at 0x7f9693b04520>"
      ]
     },
     "execution_count": 10,
     "metadata": {},
     "output_type": "execute_result"
    },
    {
     "data": {
      "image/png": "[encoded data removed]",
      "text/plain": [
       "<Figure size 432x288 with 1 Axes>"
      ]
     },
     "metadata": {
      "needs_background": "light"
     },
     "output_type": "display_data"
    }
   ],
   "source": [
    "plt.scatter(train_df['PX_WO_CRR'], train_df['PX_WO_CRR6MTH'])"
   ]
  },
  {
   "cell_type": "code",
   "execution_count": 11,
   "id": "fe1e37e8-122b-4bf4-a43e-2fce2911873c",
   "metadata": {},
   "outputs": [
    {
     "data": {
      "text/html": [
       "<div>\n",
       "<style scoped>\n",
       "    .dataframe tbody tr th:only-of-type {\n",
       "        vertical-align: middle;\n",
       "    }\n",
       "\n",
       "    .dataframe tbody tr th {\n",
       "        vertical-align: top;\n",
       "    }\n",
       "\n",
       "    .dataframe thead th {\n",
       "        text-align: right;\n",
       "    }\n",
       "</style>\n",
       "<table border=\"1\" class=\"dataframe\">\n",
       "  <thead>\n",
       "    <tr style=\"text-align: right;\">\n",
       "      <th></th>\n",
       "      <th>PX_WO_CRR</th>\n",
       "      <th>PX_WO_CRR6MTH</th>\n",
       "    </tr>\n",
       "  </thead>\n",
       "  <tbody>\n",
       "    <tr>\n",
       "      <th>PX_WO_CRR</th>\n",
       "      <td>1.0</td>\n",
       "      <td>1.0</td>\n",
       "    </tr>\n",
       "    <tr>\n",
       "      <th>PX_WO_CRR6MTH</th>\n",
       "      <td>1.0</td>\n",
       "      <td>1.0</td>\n",
       "    </tr>\n",
       "  </tbody>\n",
       "</table>\n",
       "</div>"
      ],
      "text/plain": [
       "               PX_WO_CRR  PX_WO_CRR6MTH\n",
       "PX_WO_CRR            1.0            1.0\n",
       "PX_WO_CRR6MTH        1.0            1.0"
      ]
     },
     "execution_count": 11,
     "metadata": {},
     "output_type": "execute_result"
    }
   ],
   "source": [
    "train_df[['PX_WO_CRR', 'PX_WO_CRR6MTH']].corr()"
   ]
  },
  {
   "cell_type": "code",
   "execution_count": 12,
   "id": "367206c2-bc4f-4a2f-aa9d-ae3d134b06e2",
   "metadata": {
    "tags": []
   },
   "outputs": [
    {
     "data": {
      "text/html": [
       "<div>\n",
       "<style scoped>\n",
       "    .dataframe tbody tr th:only-of-type {\n",
       "        vertical-align: middle;\n",
       "    }\n",
       "\n",
       "    .dataframe tbody tr th {\n",
       "        vertical-align: top;\n",
       "    }\n",
       "\n",
       "    .dataframe thead th {\n",
       "        text-align: right;\n",
       "    }\n",
       "</style>\n",
       "<table border=\"1\" class=\"dataframe\">\n",
       "  <thead>\n",
       "    <tr style=\"text-align: right;\">\n",
       "      <th></th>\n",
       "      <th>PX_WO_CRR</th>\n",
       "      <th>PX_WO_CRR6MTH</th>\n",
       "    </tr>\n",
       "  </thead>\n",
       "  <tbody>\n",
       "    <tr>\n",
       "      <th>PX_WO_CRR</th>\n",
       "      <td>1.0</td>\n",
       "      <td>1.0</td>\n",
       "    </tr>\n",
       "    <tr>\n",
       "      <th>PX_WO_CRR6MTH</th>\n",
       "      <td>1.0</td>\n",
       "      <td>1.0</td>\n",
       "    </tr>\n",
       "  </tbody>\n",
       "</table>\n",
       "</div>"
      ],
      "text/plain": [
       "               PX_WO_CRR  PX_WO_CRR6MTH\n",
       "PX_WO_CRR            1.0            1.0\n",
       "PX_WO_CRR6MTH        1.0            1.0"
      ]
     },
     "execution_count": 12,
     "metadata": {},
     "output_type": "execute_result"
    }
   ],
   "source": [
    "test_df[['PX_WO_CRR', 'PX_WO_CRR6MTH']].corr()"
   ]
  },
  {
   "cell_type": "code",
   "execution_count": 13,
   "id": "daa4c82d-88a5-44e0-9fae-24133b4d2019",
   "metadata": {},
   "outputs": [],
   "source": [
    "# drop duplicated column\n",
    "train_df.drop(columns=['PX_WO_CRR6MTH'], inplace=True)\n",
    "test_df.drop(columns=['PX_WO_CRR6MTH'], inplace=True)"
   ]
  },
  {
   "cell_type": "markdown",
   "id": "31769f1d-f02e-429f-abee-50de41cbd01c",
   "metadata": {},
   "source": [
    "## 'ax_donation_contribution_c' and other binary variables\n",
    "as we can see, 'ax_donation_contribution_c' is binary variable, so we can feel it with ones and zeros"
   ]
  },
  {
   "cell_type": "code",
   "execution_count": 14,
   "id": "fc8b7c71-3d77-4358-b790-05f51238e11b",
   "metadata": {},
   "outputs": [
    {
     "data": {
      "text/plain": [
       "(1.0    111858\n",
       " Name: ax_donation_contribution_c, dtype: int64,\n",
       " 1.0    28026\n",
       " Name: ax_donation_contribution_c, dtype: int64)"
      ]
     },
     "execution_count": 14,
     "metadata": {},
     "output_type": "execute_result"
    }
   ],
   "source": [
    "train_df['ax_donation_contribution_c'].value_counts(), test_df['ax_donation_contribution_c'].value_counts()"
   ]
  },
  {
   "cell_type": "code",
   "execution_count": 15,
   "id": "acb110b6-def4-47fa-b892-c82bda646da0",
   "metadata": {
    "tags": []
   },
   "outputs": [
    {
     "name": "stdout",
     "output_type": "stream",
     "text": [
      "200000 50000\n",
      "185518 49087\n",
      "23 23\n",
      "135 122\n",
      "142 126\n",
      "5001 3770\n",
      "1 1\n",
      "1 1\n",
      "1 1\n",
      "1 1\n",
      "1 1\n",
      "20 20\n",
      "20 20\n",
      "49 49\n",
      "28 28\n",
      "13 13\n",
      "571 449\n",
      "5013 3862\n",
      "4397 3387\n",
      "1984 1544\n",
      "5968 4454\n",
      "112438 32722\n",
      "60 37\n",
      "128 63\n",
      "128 63\n",
      "1 1\n",
      "1 1\n",
      "1 1\n",
      "2 2\n",
      "10 10\n",
      "3 3\n",
      "2455 1821\n",
      "2477 1607\n",
      "6712 5784\n",
      "2 2\n"
     ]
    }
   ],
   "source": [
    "# print the number of unique values in each column\n",
    "for col in test_df.columns:\n",
    "    print(len(train_df[col].value_counts()), len(test_df[col].value_counts()))"
   ]
  },
  {
   "cell_type": "code",
   "execution_count": 16,
   "id": "0a860f1c-f3c1-4fcb-a980-e4cdd0c7e196",
   "metadata": {},
   "outputs": [],
   "source": [
    "# if the number of unique values is 1, then the column is binary and we fill values with 1 and NaNs with 0 \n",
    "for col in test_df.columns:\n",
    "    if len(train_df[col].value_counts()) == 1 and len(test_df[col].value_counts()) == 1:\n",
    "        train_df[col] = train_df[col].apply(lambda x: 1 if x == x else 0)  # NaN isn't equal to itself\n",
    "        test_df[col] = test_df[col].apply(lambda x: 1 if x == x else 0)"
   ]
  },
  {
   "cell_type": "code",
   "execution_count": 17,
   "id": "8f389822-36a3-4d1d-a8c3-8468057b5dc0",
   "metadata": {},
   "outputs": [
    {
     "name": "stdout",
     "output_type": "stream",
     "text": [
      "200000 50000\n",
      "185518 49087\n",
      "23 23\n",
      "135 122\n",
      "142 126\n",
      "5001 3770\n",
      "2 2\n",
      "2 2\n",
      "2 2\n",
      "2 2\n",
      "2 2\n",
      "20 20\n",
      "20 20\n",
      "49 49\n",
      "28 28\n",
      "13 13\n",
      "571 449\n",
      "5013 3862\n",
      "4397 3387\n",
      "1984 1544\n",
      "5968 4454\n",
      "112438 32722\n",
      "60 37\n",
      "128 63\n",
      "128 63\n",
      "2 2\n",
      "2 2\n",
      "2 2\n",
      "2 2\n",
      "10 10\n",
      "3 3\n",
      "2455 1821\n",
      "2477 1607\n",
      "6712 5784\n",
      "2 2\n"
     ]
    }
   ],
   "source": [
    "# check the existence of binary NaNs\n",
    "for col in test_df.columns:\n",
    "    print(len(train_df[col].value_counts()), len(test_df[col].value_counts()))"
   ]
  },
  {
   "cell_type": "markdown",
   "id": "3f7059dd-6868-484d-8d68-f49b0ee35ae0",
   "metadata": {},
   "source": [
    "# Non-binary variables"
   ]
  },
  {
   "cell_type": "code",
   "execution_count": 18,
   "id": "6dc89a49-14a0-41c4-8740-b399e4d73dbc",
   "metadata": {},
   "outputs": [
    {
     "name": "stdout",
     "output_type": "stream",
     "text": [
      "Unnamed: 0\n",
      "VC_ID\n",
      "VC_DATEMAIL\n",
      "VC_CATHA\n",
      "VC_CATHMC\n",
      "PX_WO_CRR\n",
      "ax_rfm_total_offline_orders_under_50_range_rng\n",
      "ax_rfm_total_offline_orders_rng\n",
      "ax_personicx_digital_cluster\n",
      "ax_income_range_premium_sc\n",
      "ax_income_range_broad_sc\n",
      "VC_DATEMAILLAST\n",
      "PX_WO_CR\n",
      "ax_rfm_last_offline_purchase_date\n",
      "PX_WO_CMD\n",
      "VC_DATEGIFTLAST\n",
      "ax_spose_income\n",
      "VC_GIFTMAX1Y\n",
      "PX_international_relief_CAG\n",
      "PX_international_relief_CAG6MTH\n",
      "ax_home_owner_type_detail_rp\n",
      "ax_home_market_value_deciles_estimated_rp\n",
      "ax_home_property_type_rp\n",
      "PX_WO_PMD\n",
      "ax_home_loan_date_3_rp_year\n",
      "PX_WO_PR\n",
      "ax_sex\n"
     ]
    }
   ],
   "source": [
    "for col in test_df.columns:\n",
    "    if len(train_df[col].unique()) > 2 or len(test_df[col].unique()) > 2:\n",
    "        print(col)"
   ]
  },
  {
   "cell_type": "markdown",
   "id": "80b5ca72-b8f5-47dd-8bff-52e26559134b",
   "metadata": {},
   "source": [
    "## ax_rfm_total_offline_orders_under_50_range_rng"
   ]
  },
  {
   "cell_type": "code",
   "execution_count": 19,
   "id": "f3fd30ad-0227-4b1a-bf6c-a45c3b61cdf5",
   "metadata": {},
   "outputs": [
    {
     "data": {
      "text/plain": [
       "K    29141\n",
       "A    17677\n",
       "L    14121\n",
       "B    13238\n",
       "C    10118\n",
       "O     9125\n",
       "D     8595\n",
       "M     7877\n",
       "E     7613\n",
       "F     6685\n",
       "G     5831\n",
       "H     5505\n",
       "N     5130\n",
       "I     4879\n",
       "J     4486\n",
       "P     1913\n",
       "Q      642\n",
       "R      265\n",
       "T      163\n",
       "S       98\n",
       "Name: ax_rfm_total_offline_orders_under_50_range_rng, dtype: int64"
      ]
     },
     "execution_count": 19,
     "metadata": {},
     "output_type": "execute_result"
    }
   ],
   "source": [
    "train_df['ax_rfm_total_offline_orders_under_50_range_rng'].value_counts()"
   ]
  },
  {
   "cell_type": "code",
   "execution_count": 20,
   "id": "fd6206a7-dbf9-4738-bdbd-e2f8943aa7a3",
   "metadata": {},
   "outputs": [
    {
     "data": {
      "text/plain": [
       "46898"
      ]
     },
     "execution_count": 20,
     "metadata": {},
     "output_type": "execute_result"
    }
   ],
   "source": [
    "(~train_df['ax_rfm_total_offline_orders_under_50_range_rng'].notna()).sum()"
   ]
  },
  {
   "cell_type": "code",
   "execution_count": 21,
   "id": "e761c82a-acf9-46fc-969f-9d27304ce8f1",
   "metadata": {},
   "outputs": [],
   "source": [
    "# there are a lot of NaNs (~2 times more than the most frequent value), so we should fill them with a unique value\n",
    "train_df['ax_rfm_total_offline_orders_under_50_range_rng'].fillna('_NaN', inplace=True)\n",
    "test_df['ax_rfm_total_offline_orders_under_50_range_rng'].fillna('_NaN', inplace=True)"
   ]
  },
  {
   "cell_type": "markdown",
   "id": "e1459aac-b30b-4665-b08f-4dbfd2ad35a4",
   "metadata": {},
   "source": [
    "## ax_rfm_total_offline_orders_rng"
   ]
  },
  {
   "cell_type": "code",
   "execution_count": 22,
   "id": "65c4f66c-9ee4-4600-b1ea-ada8fad04249",
   "metadata": {},
   "outputs": [
    {
     "data": {
      "text/plain": [
       "K    31357\n",
       "L    16727\n",
       "O    13079\n",
       "A    13019\n",
       "B    11840\n",
       "M     9842\n",
       "C     8719\n",
       "D     7778\n",
       "N     6766\n",
       "E     6650\n",
       "F     6351\n",
       "G     5565\n",
       "H     5267\n",
       "I     4925\n",
       "J     4487\n",
       "P     3146\n",
       "Q     1024\n",
       "R      434\n",
       "T      267\n",
       "S      223\n",
       "Name: ax_rfm_total_offline_orders_rng, dtype: int64"
      ]
     },
     "execution_count": 22,
     "metadata": {},
     "output_type": "execute_result"
    }
   ],
   "source": [
    "train_df['ax_rfm_total_offline_orders_rng'].value_counts()"
   ]
  },
  {
   "cell_type": "code",
   "execution_count": 23,
   "id": "c8a2a22d-c2ff-4b8a-9940-a1c0815ac1bf",
   "metadata": {},
   "outputs": [
    {
     "data": {
      "text/plain": [
       "42534"
      ]
     },
     "execution_count": 23,
     "metadata": {},
     "output_type": "execute_result"
    }
   ],
   "source": [
    "(~train_df['ax_rfm_total_offline_orders_rng'].notna()).sum()"
   ]
  },
  {
   "cell_type": "code",
   "execution_count": 24,
   "id": "0a259de5-294f-4c36-952a-9e2838e68c00",
   "metadata": {},
   "outputs": [],
   "source": [
    "# there are a lot of NaNs (~2 times more than the most frequent value), so we should fill them with a unique value\n",
    "train_df['ax_rfm_total_offline_orders_rng'].fillna('_NaN', inplace=True)\n",
    "test_df['ax_rfm_total_offline_orders_rng'].fillna('_NaN', inplace=True)"
   ]
  },
  {
   "cell_type": "markdown",
   "id": "8873f5a4-ec3a-43a8-af74-8fbaa59dc8a6",
   "metadata": {},
   "source": [
    "## ax_personicx_digital_cluster"
   ]
  },
  {
   "cell_type": "code",
   "execution_count": 25,
   "id": "0343cb24-75ac-4f14-a802-457038e53f23",
   "metadata": {},
   "outputs": [
    {
     "data": {
      "text/plain": [
       "0"
      ]
     },
     "execution_count": 25,
     "metadata": {},
     "output_type": "execute_result"
    }
   ],
   "source": [
    "(~train_df['ax_personicx_digital_cluster'].notna()).sum()"
   ]
  },
  {
   "cell_type": "markdown",
   "id": "ccb22a97-9518-426e-8532-8ee7593bd406",
   "metadata": {},
   "source": [
    "## ax_income_range_premium_sc"
   ]
  },
  {
   "cell_type": "code",
   "execution_count": 26,
   "id": "a17d6ab8-f929-47c1-a2f4-a14bf5db3948",
   "metadata": {},
   "outputs": [
    {
     "data": {
      "text/plain": [
       "A    29643\n",
       "D    23649\n",
       "F    17970\n",
       "C    16235\n",
       "1    14853\n",
       "E    12207\n",
       "2    11850\n",
       "G    10692\n",
       "N     9607\n",
       "K     8465\n",
       "H     6481\n",
       "J     6343\n",
       "B     6043\n",
       "I     5940\n",
       "L     4148\n",
       "O     3104\n",
       "M     2757\n",
       "P     1120\n",
       "T      903\n",
       "U      858\n",
       "R      857\n",
       "S      729\n",
       "Y      444\n",
       "X      441\n",
       "V      413\n",
       "Q      348\n",
       "W      209\n",
       "Z      141\n",
       "Name: ax_income_range_premium_sc, dtype: int64"
      ]
     },
     "execution_count": 26,
     "metadata": {},
     "output_type": "execute_result"
    }
   ],
   "source": [
    "train_df['ax_income_range_premium_sc'].value_counts()"
   ]
  },
  {
   "cell_type": "code",
   "execution_count": 27,
   "id": "b25827a0-9b2d-4b9d-a674-a471ce3116c3",
   "metadata": {},
   "outputs": [
    {
     "data": {
      "text/plain": [
       "3550"
      ]
     },
     "execution_count": 27,
     "metadata": {},
     "output_type": "execute_result"
    }
   ],
   "source": [
    "(~train_df['ax_income_range_premium_sc'].notna()).sum()"
   ]
  },
  {
   "cell_type": "code",
   "execution_count": 28,
   "id": "2834be78-88c6-4acd-b397-f46eebf6e39e",
   "metadata": {},
   "outputs": [
    {
     "data": {
      "text/plain": [
       "938"
      ]
     },
     "execution_count": 28,
     "metadata": {},
     "output_type": "execute_result"
    }
   ],
   "source": [
    "(~test_df['ax_income_range_premium_sc'].notna()).sum()"
   ]
  },
  {
   "cell_type": "code",
   "execution_count": 29,
   "id": "a8baf3a8-99a6-4d37-8426-4cf79dc17172",
   "metadata": {},
   "outputs": [],
   "source": [
    "# we can fill NaNs with the most frequent value -- 'A'\n",
    "train_df['ax_income_range_premium_sc'].fillna('A', inplace=True)\n",
    "test_df['ax_income_range_premium_sc'].fillna('A', inplace=True)"
   ]
  },
  {
   "cell_type": "markdown",
   "id": "9728408d-8a9f-44e8-9146-785f23805489",
   "metadata": {},
   "source": [
    "## ax_income_range_broad_sc"
   ]
  },
  {
   "cell_type": "code",
   "execution_count": 30,
   "id": "acf56c99-199b-45fa-b896-250a287146c6",
   "metadata": {},
   "outputs": [
    {
     "data": {
      "text/plain": [
       "3347"
      ]
     },
     "execution_count": 30,
     "metadata": {},
     "output_type": "execute_result"
    }
   ],
   "source": [
    "(~train_df['ax_income_range_broad_sc'].notna()).sum()"
   ]
  },
  {
   "cell_type": "code",
   "execution_count": 31,
   "id": "ae6091c4-07e6-4f48-98f1-17cc6ed08180",
   "metadata": {},
   "outputs": [
    {
     "data": {
      "text/plain": [
       "882"
      ]
     },
     "execution_count": 31,
     "metadata": {},
     "output_type": "execute_result"
    }
   ],
   "source": [
    "(~test_df['ax_income_range_broad_sc'].notna()).sum()"
   ]
  },
  {
   "cell_type": "code",
   "execution_count": 32,
   "id": "8c290d63-1a59-4eb9-9d39-dab0a93b1ce5",
   "metadata": {},
   "outputs": [
    {
     "data": {
      "text/plain": [
       "A    58043\n",
       "E    24436\n",
       "F    23282\n",
       "D    22278\n",
       "G    18670\n",
       "C    15116\n",
       "I    12548\n",
       "H     9965\n",
       "B     5697\n",
       "M     1807\n",
       "L     1757\n",
       "K     1595\n",
       "J     1459\n",
       "Name: ax_income_range_broad_sc, dtype: int64"
      ]
     },
     "execution_count": 32,
     "metadata": {},
     "output_type": "execute_result"
    }
   ],
   "source": [
    "train_df['ax_income_range_broad_sc'].value_counts()"
   ]
  },
  {
   "cell_type": "code",
   "execution_count": 33,
   "id": "3552481d-1347-4243-89ac-010edaa8a527",
   "metadata": {},
   "outputs": [],
   "source": [
    "# we can fill NaNs with the most frequent value -- 'A'\n",
    "train_df['ax_income_range_broad_sc'].fillna('A', inplace=True)\n",
    "test_df['ax_income_range_broad_sc'].fillna('A', inplace=True)"
   ]
  },
  {
   "cell_type": "markdown",
   "id": "97383762-618c-4f02-9658-59463d233fef",
   "metadata": {},
   "source": [
    "VC_DATEMAILLAST\n",
    "PX_WO_CR\n",
    "ax_rfm_last_offline_purchase_date\n",
    "PX_WO_CMD\n",
    "VC_DATEGIFTLAST\n",
    "ax_spose_income\n",
    "VC_GIFTMAX1Y\n",
    "PX_international_relief_CAG\n",
    "PX_international_relief_CAG6MTH\n",
    "ax_home_owner_type_detail_rp\n",
    "ax_home_market_value_deciles_estimated_rp\n",
    "ax_home_property_type_rp\n",
    "PX_WO_PMD\n",
    "ax_home_loan_date_3_rp_year\n",
    "PX_WO_PR\n",
    "ax_sex"
   ]
  },
  {
   "cell_type": "markdown",
   "id": "180b95d1-9e7e-4055-add8-a06057c9cd3e",
   "metadata": {},
   "source": [
    "## VC_DATEMAILLAST"
   ]
  },
  {
   "cell_type": "code",
   "execution_count": 34,
   "id": "61a4ff46-a365-42a3-b57d-6f9635288bf3",
   "metadata": {},
   "outputs": [
    {
     "data": {
      "text/plain": [
       "1451"
      ]
     },
     "execution_count": 34,
     "metadata": {},
     "output_type": "execute_result"
    }
   ],
   "source": [
    "(~train_df['VC_DATEMAILLAST'].notna()).sum()"
   ]
  },
  {
   "cell_type": "code",
   "execution_count": null,
   "id": "824721b9-a9e8-42b1-b05e-9bfa70af4fbc",
   "metadata": {},
   "outputs": [],
   "source": []
  },
  {
   "cell_type": "markdown",
   "id": "e10b3084-9b44-4d90-a36a-ba02685f8e06",
   "metadata": {},
   "source": [
    "## PX_WO_CR"
   ]
  },
  {
   "cell_type": "code",
   "execution_count": 35,
   "id": "b94912a8-a2ed-4d6c-bbeb-cba711981c02",
   "metadata": {},
   "outputs": [
    {
     "data": {
      "text/plain": [
       "38409"
      ]
     },
     "execution_count": 35,
     "metadata": {},
     "output_type": "execute_result"
    }
   ],
   "source": [
    "(~train_df['PX_WO_CR'].notna()).sum()"
   ]
  },
  {
   "cell_type": "code",
   "execution_count": 36,
   "id": "0f475ec9-294a-497c-ae9e-251061bde64a",
   "metadata": {},
   "outputs": [
    {
     "data": {
      "text/plain": [
       "0    2011-08-04\n",
       "1    2016-06-30\n",
       "2    2016-03-17\n",
       "3    2016-09-19\n",
       "4    2011-05-09\n",
       "Name: PX_WO_CR, dtype: object"
      ]
     },
     "execution_count": 36,
     "metadata": {},
     "output_type": "execute_result"
    }
   ],
   "source": [
    "train_df['PX_WO_CR'].head()"
   ]
  },
  {
   "cell_type": "markdown",
   "id": "a05badd6-867f-418a-a7a8-0e8ae1d0b97f",
   "metadata": {},
   "source": [
    "## ax_rfm_last_offline_purchase_date"
   ]
  },
  {
   "cell_type": "code",
   "execution_count": 37,
   "id": "068f00a7-e022-43dd-bb56-b71f56d4e8bc",
   "metadata": {},
   "outputs": [
    {
     "data": {
      "text/plain": [
       "15383"
      ]
     },
     "execution_count": 37,
     "metadata": {},
     "output_type": "execute_result"
    }
   ],
   "source": [
    "(~train_df['ax_rfm_last_offline_purchase_date'].notna()).sum()"
   ]
  },
  {
   "cell_type": "code",
   "execution_count": 38,
   "id": "1dd6df92-2dcb-47c5-802a-2f7a66a680c7",
   "metadata": {},
   "outputs": [
    {
     "data": {
      "text/plain": [
       "0    2018-01-02\n",
       "1    2017-01-27\n",
       "2           NaN\n",
       "3    2018-04-20\n",
       "4    2017-08-12\n",
       "Name: ax_rfm_last_offline_purchase_date, dtype: object"
      ]
     },
     "execution_count": 38,
     "metadata": {},
     "output_type": "execute_result"
    }
   ],
   "source": [
    "train_df['ax_rfm_last_offline_purchase_date'].head()"
   ]
  },
  {
   "cell_type": "markdown",
   "id": "9432c579-86d3-4c07-b22a-58744f9369f5",
   "metadata": {},
   "source": [
    "## PX_WO_CMD"
   ]
  },
  {
   "cell_type": "code",
   "execution_count": 39,
   "id": "2f153843-2453-4d94-bd17-05c1f308756d",
   "metadata": {},
   "outputs": [
    {
     "data": {
      "text/plain": [
       "11572"
      ]
     },
     "execution_count": 39,
     "metadata": {},
     "output_type": "execute_result"
    }
   ],
   "source": [
    "(~train_df['PX_WO_CMD'].notna()).sum()"
   ]
  },
  {
   "cell_type": "code",
   "execution_count": 40,
   "id": "793ade41-c2c3-4045-a125-ddb5942405fc",
   "metadata": {},
   "outputs": [
    {
     "data": {
      "text/plain": [
       "0    2012-07-03\n",
       "1    2017-07-05\n",
       "2    2016-11-22\n",
       "3    2017-07-21\n",
       "4    2012-08-03\n",
       "Name: PX_WO_CMD, dtype: object"
      ]
     },
     "execution_count": 40,
     "metadata": {},
     "output_type": "execute_result"
    }
   ],
   "source": [
    "train_df['PX_WO_CMD'].head()"
   ]
  },
  {
   "cell_type": "markdown",
   "id": "0b3cd86a-2922-4469-ae02-33c5f86117d0",
   "metadata": {},
   "source": [
    "## VC_DATEGIFTLAST"
   ]
  },
  {
   "cell_type": "code",
   "execution_count": 41,
   "id": "80632d2a-36d2-4791-97c0-8686eebba822",
   "metadata": {},
   "outputs": [
    {
     "data": {
      "text/plain": [
       "61500"
      ]
     },
     "execution_count": 41,
     "metadata": {},
     "output_type": "execute_result"
    }
   ],
   "source": [
    "(~train_df['VC_DATEGIFTLAST'].notna()).sum()"
   ]
  },
  {
   "cell_type": "code",
   "execution_count": 42,
   "id": "1e498304-0752-48b5-8bf8-8b15a8f11b03",
   "metadata": {},
   "outputs": [
    {
     "data": {
      "text/plain": [
       "0    2010-12-22\n",
       "1           NaN\n",
       "2    2014-09-30\n",
       "3    2015-08-19\n",
       "4    2010-03-16\n",
       "Name: VC_DATEGIFTLAST, dtype: object"
      ]
     },
     "execution_count": 42,
     "metadata": {},
     "output_type": "execute_result"
    }
   ],
   "source": [
    "train_df['VC_DATEGIFTLAST'].head()"
   ]
  },
  {
   "cell_type": "markdown",
   "id": "6531245d-25e3-4f17-bf88-04b38be7edaf",
   "metadata": {},
   "source": [
    "## ax_spose_income\n"
   ]
  },
  {
   "cell_type": "code",
   "execution_count": 43,
   "id": "971cccd3-c1e3-4789-a550-512666f2f983",
   "metadata": {},
   "outputs": [
    {
     "data": {
      "text/plain": [
       "61949"
      ]
     },
     "execution_count": 43,
     "metadata": {},
     "output_type": "execute_result"
    }
   ],
   "source": [
    "(~train_df['ax_spose_income'].notna()).sum()"
   ]
  },
  {
   "cell_type": "code",
   "execution_count": 44,
   "id": "5be77d8d-4fc7-4e78-a2e0-10005b9f779b",
   "metadata": {},
   "outputs": [
    {
     "data": {
      "text/plain": [
       "0    419196.262254\n",
       "1              NaN\n",
       "2     95485.609475\n",
       "3    624150.039045\n",
       "4              NaN\n",
       "Name: ax_spose_income, dtype: float64"
      ]
     },
     "execution_count": 44,
     "metadata": {},
     "output_type": "execute_result"
    }
   ],
   "source": [
    "train_df['ax_spose_income'].head()"
   ]
  },
  {
   "cell_type": "code",
   "execution_count": 45,
   "id": "b9047cad-1669-4cd9-b4dd-803b91475b80",
   "metadata": {},
   "outputs": [
    {
     "data": {
      "text/plain": [
       "-127091.260742"
      ]
     },
     "execution_count": 45,
     "metadata": {},
     "output_type": "execute_result"
    }
   ],
   "source": [
    "train_df['ax_spose_income'].min()"
   ]
  },
  {
   "cell_type": "code",
   "execution_count": 46,
   "id": "018a6d8b-e77b-470c-ba8d-d4afdcc0f2d4",
   "metadata": {},
   "outputs": [
    {
     "data": {
      "text/plain": [
       "190590   -127091.260742\n",
       "108847   -112676.908106\n",
       "30010    -112676.908106\n",
       "124531    -99331.001222\n",
       "178621    -91163.715492\n",
       "31216     -90249.185878\n",
       "7007      -87046.565371\n",
       "74483     -77501.734791\n",
       "51416     -65497.519236\n",
       "153335    -65497.519236\n",
       "Name: ax_spose_income, dtype: float64"
      ]
     },
     "execution_count": 46,
     "metadata": {},
     "output_type": "execute_result"
    }
   ],
   "source": [
    "train_df['ax_spose_income'].sort_values().head(10)"
   ]
  },
  {
   "cell_type": "code",
   "execution_count": 47,
   "id": "6c7ef4b7-d897-4af4-ac3f-ba0f1f2879c9",
   "metadata": {},
   "outputs": [
    {
     "data": {
      "text/plain": [
       "5351    -127091.260742\n",
       "43642   -113007.869447\n",
       "3033     -91163.715492\n",
       "32614    -58310.472215\n",
       "5245     -54589.188995\n",
       "26880    -48986.347361\n",
       "43602    -39960.299670\n",
       "24283    -38564.714704\n",
       "47268    -14926.748381\n",
       "16202    -12024.908776\n",
       "Name: ax_spose_income, dtype: float64"
      ]
     },
     "execution_count": 47,
     "metadata": {},
     "output_type": "execute_result"
    }
   ],
   "source": [
    "test_df['ax_spose_income'].sort_values().head(10)"
   ]
  },
  {
   "cell_type": "code",
   "execution_count": 48,
   "id": "a058249d-f64b-4d75-a498-b70e83e3a917",
   "metadata": {},
   "outputs": [
    {
     "data": {
      "text/plain": [
       "102"
      ]
     },
     "execution_count": 48,
     "metadata": {},
     "output_type": "execute_result"
    }
   ],
   "source": [
    "len(train_df[train_df['ax_spose_income'] < 0])"
   ]
  },
  {
   "cell_type": "code",
   "execution_count": 49,
   "id": "60f6795f-7a47-4516-8210-94aa6212f73b",
   "metadata": {},
   "outputs": [
    {
     "data": {
      "text/plain": [
       "22"
      ]
     },
     "execution_count": 49,
     "metadata": {},
     "output_type": "execute_result"
    }
   ],
   "source": [
    "len(test_df[test_df['ax_spose_income'] < 0])"
   ]
  },
  {
   "cell_type": "code",
   "execution_count": 50,
   "id": "781d517c-a0fa-43f8-8ead-b33e02ca2ebf",
   "metadata": {},
   "outputs": [],
   "source": [
    "# TODO deal with income less than 0"
   ]
  },
  {
   "cell_type": "markdown",
   "id": "0b8416ef-6fdf-43c3-9d7d-a3d060b663a4",
   "metadata": {},
   "source": [
    "## VC_GIFTMAX1Y\n"
   ]
  },
  {
   "cell_type": "code",
   "execution_count": 51,
   "id": "1827b4f3-c367-470c-8ca0-9d41bae3f33a",
   "metadata": {},
   "outputs": [
    {
     "data": {
      "text/plain": [
       "193713"
      ]
     },
     "execution_count": 51,
     "metadata": {},
     "output_type": "execute_result"
    }
   ],
   "source": [
    "(~train_df['VC_GIFTMAX1Y'].notna()).sum()"
   ]
  },
  {
   "cell_type": "code",
   "execution_count": 52,
   "id": "8055562e-44ef-460c-b6e4-e485a0d41ca6",
   "metadata": {},
   "outputs": [
    {
     "data": {
      "text/plain": [
       "1.0"
      ]
     },
     "execution_count": 52,
     "metadata": {},
     "output_type": "execute_result"
    }
   ],
   "source": [
    "train_df['VC_GIFTMAX1Y'].min()"
   ]
  },
  {
   "cell_type": "code",
   "execution_count": 53,
   "id": "6d7f6d31-b97e-4907-8606-801b5c00c4ae",
   "metadata": {},
   "outputs": [
    {
     "data": {
      "text/plain": [
       "34     25.0\n",
       "48     20.0\n",
       "65     50.0\n",
       "84     15.0\n",
       "117    20.0\n",
       "Name: VC_GIFTMAX1Y, dtype: float64"
      ]
     },
     "execution_count": 53,
     "metadata": {},
     "output_type": "execute_result"
    }
   ],
   "source": [
    "train_df[train_df['VC_GIFTMAX1Y'].notna()]['VC_GIFTMAX1Y'].head()"
   ]
  },
  {
   "cell_type": "markdown",
   "id": "1199480e-10b6-492b-893d-ef317c9c0122",
   "metadata": {},
   "source": [
    "## PX_international_relief_CAG\n"
   ]
  },
  {
   "cell_type": "code",
   "execution_count": 54,
   "id": "0cca0d79-13cb-4086-b139-209548b3260e",
   "metadata": {},
   "outputs": [
    {
     "data": {
      "text/plain": [
       "196739"
      ]
     },
     "execution_count": 54,
     "metadata": {},
     "output_type": "execute_result"
    }
   ],
   "source": [
    "(~train_df['PX_international_relief_CAG'].notna()).sum()"
   ]
  },
  {
   "cell_type": "code",
   "execution_count": 55,
   "id": "f4f63400-0c07-418a-84da-56f524e7e083",
   "metadata": {},
   "outputs": [
    {
     "data": {
      "text/plain": [
       "25    43.26\n",
       "38    12.50\n",
       "40     2.00\n",
       "49    10.00\n",
       "77     5.00\n",
       "Name: PX_international_relief_CAG, dtype: float64"
      ]
     },
     "execution_count": 55,
     "metadata": {},
     "output_type": "execute_result"
    }
   ],
   "source": [
    "train_df[train_df['PX_international_relief_CAG'].notna()]['PX_international_relief_CAG'].head()"
   ]
  },
  {
   "cell_type": "markdown",
   "id": "139a0ad2-1504-4ad0-965b-7eca22bb906e",
   "metadata": {},
   "source": [
    "## PX_international_relief_CAG6MTH\n"
   ]
  },
  {
   "cell_type": "code",
   "execution_count": 56,
   "id": "a28ef9c3-0a88-4f9a-a55f-4eba7acaf2ab",
   "metadata": {},
   "outputs": [
    {
     "data": {
      "text/plain": [
       "196739"
      ]
     },
     "execution_count": 56,
     "metadata": {},
     "output_type": "execute_result"
    }
   ],
   "source": [
    "(~train_df['PX_international_relief_CAG6MTH'].notna()).sum()"
   ]
  },
  {
   "cell_type": "code",
   "execution_count": 57,
   "id": "1a196f1e-22b1-4344-a64c-84788fe4e17d",
   "metadata": {},
   "outputs": [
    {
     "data": {
      "text/plain": [
       "25    43.26\n",
       "38    12.50\n",
       "40     2.00\n",
       "49    10.00\n",
       "77     5.00\n",
       "Name: PX_international_relief_CAG, dtype: float64"
      ]
     },
     "execution_count": 57,
     "metadata": {},
     "output_type": "execute_result"
    }
   ],
   "source": [
    "train_df[train_df['PX_international_relief_CAG6MTH'].notna()]['PX_international_relief_CAG'].head()"
   ]
  },
  {
   "cell_type": "code",
   "execution_count": 58,
   "id": "1a420f36-7eb2-4434-aa0a-ceab43fe87da",
   "metadata": {},
   "outputs": [
    {
     "data": {
      "text/html": [
       "<div>\n",
       "<style scoped>\n",
       "    .dataframe tbody tr th:only-of-type {\n",
       "        vertical-align: middle;\n",
       "    }\n",
       "\n",
       "    .dataframe tbody tr th {\n",
       "        vertical-align: top;\n",
       "    }\n",
       "\n",
       "    .dataframe thead th {\n",
       "        text-align: right;\n",
       "    }\n",
       "</style>\n",
       "<table border=\"1\" class=\"dataframe\">\n",
       "  <thead>\n",
       "    <tr style=\"text-align: right;\">\n",
       "      <th></th>\n",
       "      <th>PX_international_relief_CAG6MTH</th>\n",
       "      <th>PX_international_relief_CAG</th>\n",
       "    </tr>\n",
       "  </thead>\n",
       "  <tbody>\n",
       "    <tr>\n",
       "      <th>PX_international_relief_CAG6MTH</th>\n",
       "      <td>1.0</td>\n",
       "      <td>1.0</td>\n",
       "    </tr>\n",
       "    <tr>\n",
       "      <th>PX_international_relief_CAG</th>\n",
       "      <td>1.0</td>\n",
       "      <td>1.0</td>\n",
       "    </tr>\n",
       "  </tbody>\n",
       "</table>\n",
       "</div>"
      ],
      "text/plain": [
       "                                 PX_international_relief_CAG6MTH  \\\n",
       "PX_international_relief_CAG6MTH                              1.0   \n",
       "PX_international_relief_CAG                                  1.0   \n",
       "\n",
       "                                 PX_international_relief_CAG  \n",
       "PX_international_relief_CAG6MTH                          1.0  \n",
       "PX_international_relief_CAG                              1.0  "
      ]
     },
     "execution_count": 58,
     "metadata": {},
     "output_type": "execute_result"
    }
   ],
   "source": [
    "train_df[['PX_international_relief_CAG6MTH', 'PX_international_relief_CAG']].corr()"
   ]
  },
  {
   "cell_type": "code",
   "execution_count": 59,
   "id": "26ffba9d-b98e-4953-b4a8-01359852d0a8",
   "metadata": {},
   "outputs": [
    {
     "data": {
      "text/html": [
       "<div>\n",
       "<style scoped>\n",
       "    .dataframe tbody tr th:only-of-type {\n",
       "        vertical-align: middle;\n",
       "    }\n",
       "\n",
       "    .dataframe tbody tr th {\n",
       "        vertical-align: top;\n",
       "    }\n",
       "\n",
       "    .dataframe thead th {\n",
       "        text-align: right;\n",
       "    }\n",
       "</style>\n",
       "<table border=\"1\" class=\"dataframe\">\n",
       "  <thead>\n",
       "    <tr style=\"text-align: right;\">\n",
       "      <th></th>\n",
       "      <th>PX_international_relief_CAG6MTH</th>\n",
       "      <th>PX_international_relief_CAG</th>\n",
       "    </tr>\n",
       "  </thead>\n",
       "  <tbody>\n",
       "    <tr>\n",
       "      <th>PX_international_relief_CAG6MTH</th>\n",
       "      <td>1.0</td>\n",
       "      <td>1.0</td>\n",
       "    </tr>\n",
       "    <tr>\n",
       "      <th>PX_international_relief_CAG</th>\n",
       "      <td>1.0</td>\n",
       "      <td>1.0</td>\n",
       "    </tr>\n",
       "  </tbody>\n",
       "</table>\n",
       "</div>"
      ],
      "text/plain": [
       "                                 PX_international_relief_CAG6MTH  \\\n",
       "PX_international_relief_CAG6MTH                              1.0   \n",
       "PX_international_relief_CAG                                  1.0   \n",
       "\n",
       "                                 PX_international_relief_CAG  \n",
       "PX_international_relief_CAG6MTH                          1.0  \n",
       "PX_international_relief_CAG                              1.0  "
      ]
     },
     "execution_count": 59,
     "metadata": {},
     "output_type": "execute_result"
    }
   ],
   "source": [
    "test_df[['PX_international_relief_CAG6MTH', 'PX_international_relief_CAG']].corr()"
   ]
  },
  {
   "cell_type": "markdown",
   "id": "88fdf49c-bdff-47e1-a3f7-b7c20860a6a4",
   "metadata": {},
   "source": [
    "## Variables 'PX_international_relief_CAG6MTH' and 'PX_international_relief_CAG' are the same"
   ]
  },
  {
   "cell_type": "code",
   "execution_count": 60,
   "id": "3b48bd2b-2912-4643-a8de-c1bd5f82236b",
   "metadata": {},
   "outputs": [],
   "source": [
    "train_df.drop(columns=['PX_international_relief_CAG6MTH'], inplace=True)\n",
    "test_df.drop(columns=['PX_international_relief_CAG6MTH'], inplace=True)"
   ]
  },
  {
   "cell_type": "markdown",
   "id": "f83b5a83-46f6-44c1-9e5e-e07289c81d50",
   "metadata": {},
   "source": [
    "## ax_home_owner_type_detail_rp"
   ]
  },
  {
   "cell_type": "code",
   "execution_count": 61,
   "id": "ad4f652a-01c5-4d26-b0e5-10ba1d27eb6c",
   "metadata": {},
   "outputs": [
    {
     "data": {
      "text/plain": [
       "72663"
      ]
     },
     "execution_count": 61,
     "metadata": {},
     "output_type": "execute_result"
    }
   ],
   "source": [
    "(~train_df['ax_home_owner_type_detail_rp'].notna()).sum()"
   ]
  },
  {
   "cell_type": "code",
   "execution_count": 62,
   "id": "0489be18-923c-4f22-8108-5e163be6e0fb",
   "metadata": {},
   "outputs": [
    {
     "data": {
      "text/plain": [
       "18137"
      ]
     },
     "execution_count": 62,
     "metadata": {},
     "output_type": "execute_result"
    }
   ],
   "source": [
    "(~test_df['ax_home_owner_type_detail_rp'].notna()).sum()"
   ]
  },
  {
   "cell_type": "code",
   "execution_count": 63,
   "id": "86187b74-4099-4080-b5ea-abbdcc309759",
   "metadata": {},
   "outputs": [
    {
     "data": {
      "text/plain": [
       "O    127140\n",
       "H       197\n",
       "Name: ax_home_owner_type_detail_rp, dtype: int64"
      ]
     },
     "execution_count": 63,
     "metadata": {},
     "output_type": "execute_result"
    }
   ],
   "source": [
    "train_df['ax_home_owner_type_detail_rp'].value_counts()"
   ]
  },
  {
   "cell_type": "code",
   "execution_count": 64,
   "id": "d291a154-0a4c-4960-bab9-7dd35931a08d",
   "metadata": {},
   "outputs": [
    {
     "data": {
      "text/plain": [
       "O    31824\n",
       "H       39\n",
       "Name: ax_home_owner_type_detail_rp, dtype: int64"
      ]
     },
     "execution_count": 64,
     "metadata": {},
     "output_type": "execute_result"
    }
   ],
   "source": [
    "test_df['ax_home_owner_type_detail_rp'].value_counts()"
   ]
  },
  {
   "cell_type": "code",
   "execution_count": 65,
   "id": "0f38938a-cb16-4ba7-b976-96905c6b15a8",
   "metadata": {},
   "outputs": [],
   "source": [
    "# there are a lot of NaNs, so we should fill them with unique value\n",
    "train_df['ax_home_owner_type_detail_rp'].fillna('_NaN', inplace=True)\n",
    "test_df['ax_home_owner_type_detail_rp'].fillna('_NaN', inplace=True)"
   ]
  },
  {
   "cell_type": "markdown",
   "id": "9c531b1b-9b1c-4dc1-b04a-c343c19526cf",
   "metadata": {},
   "source": [
    "## ax_home_market_value_deciles_estimated_rp\n"
   ]
  },
  {
   "cell_type": "code",
   "execution_count": 66,
   "id": "3716c5b2-c623-4959-9c99-453066f7500e",
   "metadata": {},
   "outputs": [
    {
     "data": {
      "text/plain": [
       "58689"
      ]
     },
     "execution_count": 66,
     "metadata": {},
     "output_type": "execute_result"
    }
   ],
   "source": [
    "(~train_df['ax_home_market_value_deciles_estimated_rp'].notna()).sum()"
   ]
  },
  {
   "cell_type": "code",
   "execution_count": 67,
   "id": "cc35cb32-2068-4a42-a084-40b99272a67d",
   "metadata": {},
   "outputs": [
    {
     "data": {
      "text/plain": [
       "0    10.0\n",
       "1     4.0\n",
       "2     NaN\n",
       "3     7.0\n",
       "4     1.0\n",
       "Name: ax_home_market_value_deciles_estimated_rp, dtype: float64"
      ]
     },
     "execution_count": 67,
     "metadata": {},
     "output_type": "execute_result"
    }
   ],
   "source": [
    "train_df['ax_home_market_value_deciles_estimated_rp'].head()"
   ]
  },
  {
   "cell_type": "code",
   "execution_count": 68,
   "id": "bb129bc8-924e-403a-840d-748a57f03a3a",
   "metadata": {},
   "outputs": [
    {
     "data": {
      "text/html": [
       "<div>\n",
       "<style scoped>\n",
       "    .dataframe tbody tr th:only-of-type {\n",
       "        vertical-align: middle;\n",
       "    }\n",
       "\n",
       "    .dataframe tbody tr th {\n",
       "        vertical-align: top;\n",
       "    }\n",
       "\n",
       "    .dataframe thead th {\n",
       "        text-align: right;\n",
       "    }\n",
       "</style>\n",
       "<table border=\"1\" class=\"dataframe\">\n",
       "  <thead>\n",
       "    <tr style=\"text-align: right;\">\n",
       "      <th></th>\n",
       "      <th>Unnamed: 0</th>\n",
       "      <th>VC_ID</th>\n",
       "      <th>VC_DATEMAIL</th>\n",
       "      <th>VC_DATERESP</th>\n",
       "      <th>VC_GIFT</th>\n",
       "      <th>VC_CATHA</th>\n",
       "      <th>VC_CATHMC</th>\n",
       "      <th>PX_WO_CRR</th>\n",
       "      <th>ax_donation_contribution_c</th>\n",
       "      <th>ax_religious_inspirational</th>\n",
       "      <th>...</th>\n",
       "      <th>ax_scuba_diving</th>\n",
       "      <th>ax_adult_age_ranges_present_in_household_unknown_gender_18_24</th>\n",
       "      <th>ax_childrens_age_ranges_present_in_hhld_reseller_age_00_02_female</th>\n",
       "      <th>ax_home_owner_type_detail_rp</th>\n",
       "      <th>ax_home_market_value_deciles_estimated_rp</th>\n",
       "      <th>ax_home_property_type_rp</th>\n",
       "      <th>PX_WO_PMD</th>\n",
       "      <th>ax_home_loan_date_3_rp_year</th>\n",
       "      <th>PX_WO_PR</th>\n",
       "      <th>ax_sex</th>\n",
       "    </tr>\n",
       "  </thead>\n",
       "  <tbody>\n",
       "  </tbody>\n",
       "</table>\n",
       "<p>0 rows × 36 columns</p>\n",
       "</div>"
      ],
      "text/plain": [
       "Empty DataFrame\n",
       "Columns: [Unnamed: 0, VC_ID, VC_DATEMAIL, VC_DATERESP, VC_GIFT, VC_CATHA, VC_CATHMC, PX_WO_CRR, ax_donation_contribution_c, ax_religious_inspirational, ax_apparel_mens_big_and_tall_c, ax_books_and_music_books_c, ax_adult_age_ranges_present_in_household_females_75, ax_rfm_total_offline_orders_under_50_range_rng, ax_rfm_total_offline_orders_rng, ax_personicx_digital_cluster, ax_income_range_premium_sc, ax_income_range_broad_sc, VC_DATEMAILLAST, PX_WO_CR, ax_rfm_last_offline_purchase_date, PX_WO_CMD, VC_DATEGIFTLAST, ax_spose_income, VC_GIFTMAX1Y, PX_international_relief_CAG, ax_scuba_diving, ax_adult_age_ranges_present_in_household_unknown_gender_18_24, ax_childrens_age_ranges_present_in_hhld_reseller_age_00_02_female, ax_home_owner_type_detail_rp, ax_home_market_value_deciles_estimated_rp, ax_home_property_type_rp, PX_WO_PMD, ax_home_loan_date_3_rp_year, PX_WO_PR, ax_sex]\n",
       "Index: []\n",
       "\n",
       "[0 rows x 36 columns]"
      ]
     },
     "execution_count": 68,
     "metadata": {},
     "output_type": "execute_result"
    }
   ],
   "source": [
    "train_df[train_df['ax_home_market_value_deciles_estimated_rp'] <= 0]"
   ]
  },
  {
   "cell_type": "code",
   "execution_count": 69,
   "id": "bda2551a-a034-47c1-9aea-eb6c1add3abb",
   "metadata": {},
   "outputs": [
    {
     "data": {
      "text/html": [
       "<div>\n",
       "<style scoped>\n",
       "    .dataframe tbody tr th:only-of-type {\n",
       "        vertical-align: middle;\n",
       "    }\n",
       "\n",
       "    .dataframe tbody tr th {\n",
       "        vertical-align: top;\n",
       "    }\n",
       "\n",
       "    .dataframe thead th {\n",
       "        text-align: right;\n",
       "    }\n",
       "</style>\n",
       "<table border=\"1\" class=\"dataframe\">\n",
       "  <thead>\n",
       "    <tr style=\"text-align: right;\">\n",
       "      <th></th>\n",
       "      <th>Unnamed: 0</th>\n",
       "      <th>VC_ID</th>\n",
       "      <th>VC_DATEMAIL</th>\n",
       "      <th>VC_CATHA</th>\n",
       "      <th>VC_CATHMC</th>\n",
       "      <th>PX_WO_CRR</th>\n",
       "      <th>ax_donation_contribution_c</th>\n",
       "      <th>ax_religious_inspirational</th>\n",
       "      <th>ax_apparel_mens_big_and_tall_c</th>\n",
       "      <th>ax_books_and_music_books_c</th>\n",
       "      <th>...</th>\n",
       "      <th>ax_scuba_diving</th>\n",
       "      <th>ax_adult_age_ranges_present_in_household_unknown_gender_18_24</th>\n",
       "      <th>ax_childrens_age_ranges_present_in_hhld_reseller_age_00_02_female</th>\n",
       "      <th>ax_home_owner_type_detail_rp</th>\n",
       "      <th>ax_home_market_value_deciles_estimated_rp</th>\n",
       "      <th>ax_home_property_type_rp</th>\n",
       "      <th>PX_WO_PMD</th>\n",
       "      <th>ax_home_loan_date_3_rp_year</th>\n",
       "      <th>PX_WO_PR</th>\n",
       "      <th>ax_sex</th>\n",
       "    </tr>\n",
       "  </thead>\n",
       "  <tbody>\n",
       "  </tbody>\n",
       "</table>\n",
       "<p>0 rows × 34 columns</p>\n",
       "</div>"
      ],
      "text/plain": [
       "Empty DataFrame\n",
       "Columns: [Unnamed: 0, VC_ID, VC_DATEMAIL, VC_CATHA, VC_CATHMC, PX_WO_CRR, ax_donation_contribution_c, ax_religious_inspirational, ax_apparel_mens_big_and_tall_c, ax_books_and_music_books_c, ax_adult_age_ranges_present_in_household_females_75, ax_rfm_total_offline_orders_under_50_range_rng, ax_rfm_total_offline_orders_rng, ax_personicx_digital_cluster, ax_income_range_premium_sc, ax_income_range_broad_sc, VC_DATEMAILLAST, PX_WO_CR, ax_rfm_last_offline_purchase_date, PX_WO_CMD, VC_DATEGIFTLAST, ax_spose_income, VC_GIFTMAX1Y, PX_international_relief_CAG, ax_scuba_diving, ax_adult_age_ranges_present_in_household_unknown_gender_18_24, ax_childrens_age_ranges_present_in_hhld_reseller_age_00_02_female, ax_home_owner_type_detail_rp, ax_home_market_value_deciles_estimated_rp, ax_home_property_type_rp, PX_WO_PMD, ax_home_loan_date_3_rp_year, PX_WO_PR, ax_sex]\n",
       "Index: []\n",
       "\n",
       "[0 rows x 34 columns]"
      ]
     },
     "execution_count": 69,
     "metadata": {},
     "output_type": "execute_result"
    }
   ],
   "source": [
    "test_df[test_df['ax_home_market_value_deciles_estimated_rp'] <= 0]"
   ]
  },
  {
   "cell_type": "code",
   "execution_count": 70,
   "id": "ccbc1b2e-3cb3-4baf-a26f-05e2085f1aca",
   "metadata": {},
   "outputs": [],
   "source": [
    "# we can fill NaNs with zeros\n",
    "train_df['ax_home_market_value_deciles_estimated_rp'].fillna(0, inplace=True)\n",
    "test_df['ax_home_market_value_deciles_estimated_rp'].fillna(0, inplace=True)"
   ]
  },
  {
   "cell_type": "markdown",
   "id": "2e36fd8d-7d34-427e-ae55-2dba1aced97d",
   "metadata": {},
   "source": [
    "## ax_home_property_type_rp\n"
   ]
  },
  {
   "cell_type": "code",
   "execution_count": 71,
   "id": "c7ffac32-529a-44f9-acf2-a9b1467e8864",
   "metadata": {},
   "outputs": [
    {
     "data": {
      "text/plain": [
       "39763"
      ]
     },
     "execution_count": 71,
     "metadata": {},
     "output_type": "execute_result"
    }
   ],
   "source": [
    "(~train_df['ax_home_property_type_rp'].notna()).sum()"
   ]
  },
  {
   "cell_type": "code",
   "execution_count": 72,
   "id": "2098f35e-ba94-4a55-af0b-569c155fea9e",
   "metadata": {},
   "outputs": [
    {
     "data": {
      "text/plain": [
       "10085"
      ]
     },
     "execution_count": 72,
     "metadata": {},
     "output_type": "execute_result"
    }
   ],
   "source": [
    "(~test_df['ax_home_property_type_rp'].notna()).sum()"
   ]
  },
  {
   "cell_type": "code",
   "execution_count": 73,
   "id": "dfa5a319-a7b6-4129-8487-f634860ca93d",
   "metadata": {},
   "outputs": [
    {
     "data": {
      "text/plain": [
       "R    158191\n",
       "M      1366\n",
       "G       680\n",
       "Name: ax_home_property_type_rp, dtype: int64"
      ]
     },
     "execution_count": 73,
     "metadata": {},
     "output_type": "execute_result"
    }
   ],
   "source": [
    "train_df['ax_home_property_type_rp'].value_counts()"
   ]
  },
  {
   "cell_type": "code",
   "execution_count": 74,
   "id": "db30534f-f264-49b1-937c-39171f736095",
   "metadata": {},
   "outputs": [
    {
     "data": {
      "text/plain": [
       "R    39406\n",
       "M      356\n",
       "G      153\n",
       "Name: ax_home_property_type_rp, dtype: int64"
      ]
     },
     "execution_count": 74,
     "metadata": {},
     "output_type": "execute_result"
    }
   ],
   "source": [
    "test_df['ax_home_property_type_rp'].value_counts()"
   ]
  },
  {
   "cell_type": "code",
   "execution_count": 75,
   "id": "5e9934ec-ef2a-41c1-be79-dd39575e59a4",
   "metadata": {},
   "outputs": [],
   "source": [
    "# we can feel NaN values with the most frequent category\n",
    "train_df['ax_home_property_type_rp'].fillna('R', inplace=True)\n",
    "test_df['ax_home_property_type_rp'].fillna('R', inplace=True)"
   ]
  },
  {
   "cell_type": "markdown",
   "id": "4b9e33fb-0ed1-4f42-9035-7fd7dc84c66e",
   "metadata": {},
   "source": [
    "## PX_WO_PMD - date\n"
   ]
  },
  {
   "cell_type": "code",
   "execution_count": 76,
   "id": "e130a832-e126-4a33-8c94-47607f610ff4",
   "metadata": {},
   "outputs": [
    {
     "data": {
      "text/plain": [
       "11572"
      ]
     },
     "execution_count": 76,
     "metadata": {},
     "output_type": "execute_result"
    }
   ],
   "source": [
    "(~train_df['PX_WO_PMD'].notna()).sum()"
   ]
  },
  {
   "cell_type": "code",
   "execution_count": 77,
   "id": "70d54c1b-f134-4c72-b16b-9f6373681f82",
   "metadata": {},
   "outputs": [
    {
     "data": {
      "text/plain": [
       "0    1998-07-01\n",
       "1    2011-10-03\n",
       "2    2011-03-28\n",
       "3    2000-04-10\n",
       "4    2003-08-18\n",
       "Name: PX_WO_PMD, dtype: object"
      ]
     },
     "execution_count": 77,
     "metadata": {},
     "output_type": "execute_result"
    }
   ],
   "source": [
    "train_df['PX_WO_PMD'].head()"
   ]
  },
  {
   "cell_type": "markdown",
   "id": "7e7a6b52-be43-428f-87b9-a1ea45da9ed4",
   "metadata": {},
   "source": [
    "## ax_home_loan_date_3_rp_year - date\n"
   ]
  },
  {
   "cell_type": "code",
   "execution_count": 78,
   "id": "1e955ebc-a071-4c02-8571-6e05a1c22ae9",
   "metadata": {},
   "outputs": [
    {
     "data": {
      "text/plain": [
       "171839"
      ]
     },
     "execution_count": 78,
     "metadata": {},
     "output_type": "execute_result"
    }
   ],
   "source": [
    "(~train_df['ax_home_loan_date_3_rp_year'].notna()).sum()"
   ]
  },
  {
   "cell_type": "code",
   "execution_count": 79,
   "id": "79d1c0fa-2ebe-4c97-9b15-bf4b68a22743",
   "metadata": {},
   "outputs": [
    {
     "data": {
      "text/plain": [
       "7     2017-01-01\n",
       "12    2003-01-01\n",
       "27    2011-02-28\n",
       "28    2017-01-01\n",
       "52    2010-02-09\n",
       "Name: ax_home_loan_date_3_rp_year, dtype: object"
      ]
     },
     "execution_count": 79,
     "metadata": {},
     "output_type": "execute_result"
    }
   ],
   "source": [
    "train_df[train_df['ax_home_loan_date_3_rp_year'].notna()]['ax_home_loan_date_3_rp_year'].head()"
   ]
  },
  {
   "cell_type": "markdown",
   "id": "0392b134-ca9a-41ee-a825-9c46b814eeed",
   "metadata": {},
   "source": [
    "## PX_WO_PR\n"
   ]
  },
  {
   "cell_type": "code",
   "execution_count": 80,
   "id": "e339ccd1-6879-48f3-be08-cb46807f5413",
   "metadata": {},
   "outputs": [
    {
     "data": {
      "text/plain": [
       "38409"
      ]
     },
     "execution_count": 80,
     "metadata": {},
     "output_type": "execute_result"
    }
   ],
   "source": [
    "(~train_df['PX_WO_PR'].notna()).sum()"
   ]
  },
  {
   "cell_type": "code",
   "execution_count": 81,
   "id": "6bcf21db-2559-4534-88c9-93adea55d233",
   "metadata": {},
   "outputs": [
    {
     "data": {
      "text/plain": [
       "0    1998-07-22\n",
       "1    2013-08-15\n",
       "2    2011-05-06\n",
       "3    2000-09-21\n",
       "4    2003-09-11\n",
       "Name: PX_WO_PR, dtype: object"
      ]
     },
     "execution_count": 81,
     "metadata": {},
     "output_type": "execute_result"
    }
   ],
   "source": [
    "train_df[train_df['PX_WO_PR'].notna()]['PX_WO_PR'].head()"
   ]
  },
  {
   "cell_type": "markdown",
   "id": "2df6e859-7685-4c97-bdba-37c61c5d650f",
   "metadata": {},
   "source": [
    "## ax_sex"
   ]
  },
  {
   "cell_type": "code",
   "execution_count": 82,
   "id": "e9109519-735a-4b2d-a220-5e100aa7b1db",
   "metadata": {},
   "outputs": [
    {
     "data": {
      "text/plain": [
       "68342"
      ]
     },
     "execution_count": 82,
     "metadata": {},
     "output_type": "execute_result"
    }
   ],
   "source": [
    "(~train_df['ax_sex'].notna()).sum()"
   ]
  },
  {
   "cell_type": "code",
   "execution_count": 83,
   "id": "3bcbd5ba-e480-4b4b-8237-63953ba2e2af",
   "metadata": {},
   "outputs": [
    {
     "data": {
      "text/plain": [
       "0    0.0\n",
       "1    0.0\n",
       "2    1.0\n",
       "3    0.0\n",
       "5    0.0\n",
       "Name: ax_sex, dtype: float64"
      ]
     },
     "execution_count": 83,
     "metadata": {},
     "output_type": "execute_result"
    }
   ],
   "source": [
    "train_df[train_df['ax_sex'].notna()]['ax_sex'].head()"
   ]
  },
  {
   "cell_type": "code",
   "execution_count": 84,
   "id": "2a41616e-6075-4d40-854b-c15352840cf1",
   "metadata": {},
   "outputs": [
    {
     "data": {
      "text/plain": [
       "1.0    66019\n",
       "0.0    65639\n",
       "Name: ax_sex, dtype: int64"
      ]
     },
     "execution_count": 84,
     "metadata": {},
     "output_type": "execute_result"
    }
   ],
   "source": [
    "train_df['ax_sex'].value_counts()"
   ]
  },
  {
   "cell_type": "code",
   "execution_count": 85,
   "id": "ba31bd06-6fee-4008-9e67-4921bfb74f45",
   "metadata": {},
   "outputs": [
    {
     "data": {
      "text/plain": [
       "1.0    2896\n",
       "0.0    2868\n",
       "Name: ax_sex, dtype: int64"
      ]
     },
     "execution_count": 85,
     "metadata": {},
     "output_type": "execute_result"
    }
   ],
   "source": [
    "train_df.loc[resp_mask, 'ax_sex'].value_counts()"
   ]
  },
  {
   "cell_type": "code",
   "execution_count": 86,
   "id": "caa13338-d9c7-45b8-b1c6-224a09650c35",
   "metadata": {},
   "outputs": [
    {
     "data": {
      "text/plain": [
       "3044"
      ]
     },
     "execution_count": 86,
     "metadata": {},
     "output_type": "execute_result"
    }
   ],
   "source": [
    "train_df.loc[resp_mask, 'ax_sex'].isna().sum()"
   ]
  },
  {
   "cell_type": "code",
   "execution_count": 87,
   "id": "1e0d8d94-26bf-4edc-90c5-73c4465f1a22",
   "metadata": {},
   "outputs": [],
   "source": [
    "train_df['ax_sex'].fillna(2, inplace=True)\n",
    "test_df['ax_sex'].fillna(2, inplace=True)"
   ]
  },
  {
   "cell_type": "code",
   "execution_count": 88,
   "id": "2ef7588b-c71a-49a1-908c-2e61a4050fde",
   "metadata": {},
   "outputs": [
    {
     "data": {
      "text/html": [
       "<div>\n",
       "<style scoped>\n",
       "    .dataframe tbody tr th:only-of-type {\n",
       "        vertical-align: middle;\n",
       "    }\n",
       "\n",
       "    .dataframe tbody tr th {\n",
       "        vertical-align: top;\n",
       "    }\n",
       "\n",
       "    .dataframe thead th {\n",
       "        text-align: right;\n",
       "    }\n",
       "</style>\n",
       "<table border=\"1\" class=\"dataframe\">\n",
       "  <thead>\n",
       "    <tr style=\"text-align: right;\">\n",
       "      <th></th>\n",
       "      <th>VC_GIFT</th>\n",
       "    </tr>\n",
       "    <tr>\n",
       "      <th>ax_sex</th>\n",
       "      <th></th>\n",
       "    </tr>\n",
       "  </thead>\n",
       "  <tbody>\n",
       "    <tr>\n",
       "      <th>0.0</th>\n",
       "      <td>40440.74</td>\n",
       "    </tr>\n",
       "    <tr>\n",
       "      <th>1.0</th>\n",
       "      <td>41492.35</td>\n",
       "    </tr>\n",
       "    <tr>\n",
       "      <th>2.0</th>\n",
       "      <td>42452.56</td>\n",
       "    </tr>\n",
       "  </tbody>\n",
       "</table>\n",
       "</div>"
      ],
      "text/plain": [
       "         VC_GIFT\n",
       "ax_sex          \n",
       "0.0     40440.74\n",
       "1.0     41492.35\n",
       "2.0     42452.56"
      ]
     },
     "execution_count": 88,
     "metadata": {},
     "output_type": "execute_result"
    }
   ],
   "source": [
    "train_df.loc[resp_mask].groupby('ax_sex').agg({'VC_GIFT': 'sum'})"
   ]
  },
  {
   "cell_type": "code",
   "execution_count": 89,
   "id": "17b65d8f-b608-4f6b-aed4-e8254e273a5a",
   "metadata": {},
   "outputs": [],
   "source": [
    "train_df['ax_sex'] = train_df['ax_sex'].apply(lambda x: str(int(x)))\n",
    "test_df['ax_sex'] = test_df['ax_sex'].apply(lambda x: str(int(x)))"
   ]
  },
  {
   "cell_type": "code",
   "execution_count": 90,
   "id": "7a58e791-53e7-4038-8fe0-2bc7f8f12bf6",
   "metadata": {},
   "outputs": [],
   "source": [
    "# it seems that sex is not a factor that influences the gift amount"
   ]
  },
  {
   "cell_type": "markdown",
   "id": "12d8d3d8-efd8-48ce-a5d8-65eb975b390c",
   "metadata": {},
   "source": [
    "# NaNs in other variables"
   ]
  },
  {
   "cell_type": "code",
   "execution_count": 91,
   "id": "edd1fcc4-443d-41f7-820c-80b3310659df",
   "metadata": {},
   "outputs": [
    {
     "data": {
      "text/plain": [
       "Unnamed: 0                                                                0\n",
       "VC_ID                                                                     0\n",
       "VC_DATEMAIL                                                               0\n",
       "VC_DATERESP                                                          191192\n",
       "VC_GIFT                                                              191192\n",
       "VC_CATHA                                                                  0\n",
       "VC_CATHMC                                                                 0\n",
       "PX_WO_CRR                                                             11572\n",
       "ax_donation_contribution_c                                                0\n",
       "ax_religious_inspirational                                                0\n",
       "ax_apparel_mens_big_and_tall_c                                            0\n",
       "ax_books_and_music_books_c                                                0\n",
       "ax_adult_age_ranges_present_in_household_females_75                       0\n",
       "ax_rfm_total_offline_orders_under_50_range_rng                            0\n",
       "ax_rfm_total_offline_orders_rng                                           0\n",
       "ax_personicx_digital_cluster                                              0\n",
       "ax_income_range_premium_sc                                                0\n",
       "ax_income_range_broad_sc                                                  0\n",
       "VC_DATEMAILLAST                                                        1451\n",
       "PX_WO_CR                                                              38409\n",
       "ax_rfm_last_offline_purchase_date                                     15383\n",
       "PX_WO_CMD                                                             11572\n",
       "VC_DATEGIFTLAST                                                       61500\n",
       "ax_spose_income                                                       61949\n",
       "VC_GIFTMAX1Y                                                         193713\n",
       "PX_international_relief_CAG                                          196739\n",
       "ax_scuba_diving                                                           0\n",
       "ax_adult_age_ranges_present_in_household_unknown_gender_18_24             0\n",
       "ax_childrens_age_ranges_present_in_hhld_reseller_age_00_02_female         0\n",
       "ax_home_owner_type_detail_rp                                              0\n",
       "ax_home_market_value_deciles_estimated_rp                                 0\n",
       "ax_home_property_type_rp                                                  0\n",
       "PX_WO_PMD                                                             11572\n",
       "ax_home_loan_date_3_rp_year                                          171839\n",
       "PX_WO_PR                                                              38409\n",
       "ax_sex                                                                    0\n",
       "dtype: int64"
      ]
     },
     "execution_count": 91,
     "metadata": {},
     "output_type": "execute_result"
    }
   ],
   "source": [
    "train_df.isna().sum()"
   ]
  },
  {
   "cell_type": "code",
   "execution_count": 100,
   "id": "5894d00e-a33c-4642-aaa7-23bbbac2fe70",
   "metadata": {},
   "outputs": [],
   "source": [
    "y = train_df[(train_df['PX_international_relief_CAG'].notna()) & (train_df['VC_GIFT'].notna())]['VC_GIFT']"
   ]
  },
  {
   "cell_type": "code",
   "execution_count": 101,
   "id": "ccde2bab-2867-4799-8c4b-668929bfd211",
   "metadata": {},
   "outputs": [],
   "source": [
    "x = train_df[(train_df['PX_international_relief_CAG'].notna()) & (train_df['VC_GIFT'].notna())]['PX_international_relief_CAG']"
   ]
  },
  {
   "cell_type": "code",
   "execution_count": 102,
   "id": "ba0f2ccf-6d2c-4b33-8800-f2588978f7ec",
   "metadata": {},
   "outputs": [
    {
     "data": {
      "text/plain": [
       "<matplotlib.collections.PathCollection at 0x7f96932f9430>"
      ]
     },
     "execution_count": 102,
     "metadata": {},
     "output_type": "execute_result"
    },
    {
     "data": {
      "image/png": "[encoded data removed]",
      "text/plain": [
       "<Figure size 432x288 with 1 Axes>"
      ]
     },
     "metadata": {
      "needs_background": "light"
     },
     "output_type": "display_data"
    }
   ],
   "source": [
    "plt.scatter(x, y)"
   ]
  },
  {
   "cell_type": "code",
   "execution_count": null,
   "id": "f2c954c2-de5b-4b08-b916-687dddbe2ece",
   "metadata": {},
   "outputs": [],
   "source": []
  },
  {
   "cell_type": "code",
   "execution_count": 107,
   "id": "c323e31f-3135-4308-927d-4ccec0f0906f",
   "metadata": {},
   "outputs": [],
   "source": [
    "train_df.loc[:, ['VC_GIFT', 'PX_international_relief_CAG']].fillna(0, inplace=True)"
   ]
  },
  {
   "cell_type": "code",
   "execution_count": 110,
   "id": "2f39ff21-2a99-4aff-b984-00212d6cee27",
   "metadata": {},
   "outputs": [
    {
     "data": {
      "text/plain": [
       "VC_GIFT                                                              1.000000\n",
       "PX_international_relief_CAG                                          0.590409\n",
       "VC_GIFTMAX1Y                                                         0.189179\n",
       "VC_CATHMC                                                            0.173130\n",
       "VC_CATHA                                                             0.173046\n",
       "ax_books_and_music_books_c                                           0.065318\n",
       "VC_ID                                                                0.048866\n",
       "ax_scuba_diving                                                      0.023892\n",
       "ax_donation_contribution_c                                           0.019245\n",
       "ax_religious_inspirational                                           0.013803\n",
       "ax_childrens_age_ranges_present_in_hhld_reseller_age_00_02_female    0.010111\n",
       "Unnamed: 0                                                           0.001879\n",
       "ax_adult_age_ranges_present_in_household_females_75                 -0.003284\n",
       "ax_apparel_mens_big_and_tall_c                                      -0.006785\n",
       "ax_adult_age_ranges_present_in_household_unknown_gender_18_24       -0.008153\n",
       "ax_home_market_value_deciles_estimated_rp                           -0.023157\n",
       "ax_spose_income                                                     -0.033027\n",
       "ax_personicx_digital_cluster                                        -0.044437\n",
       "PX_WO_CRR                                                           -0.082198\n",
       "Name: VC_GIFT, dtype: float64"
      ]
     },
     "execution_count": 110,
     "metadata": {},
     "output_type": "execute_result"
    }
   ],
   "source": [
    "train_df.corr()['VC_GIFT'].sort_values(ascending=False)"
   ]
  },
  {
   "cell_type": "code",
   "execution_count": 111,
   "id": "298c3adc-0b81-4338-b9b9-d89749647775",
   "metadata": {},
   "outputs": [],
   "source": [
    "from sklearn.ensemble import RandomForestRegressor as rf"
   ]
  },
  {
   "cell_type": "code",
   "execution_count": 117,
   "id": "92db3f1c-7478-45c7-9e88-cdbb59ad07cd",
   "metadata": {},
   "outputs": [],
   "source": [
    "model = rf(n_estimators=150, max_depth=2)"
   ]
  },
  {
   "cell_type": "code",
   "execution_count": null,
   "id": "d3fb903f-38a5-4d50-a24e-bfc1e641f1f2",
   "metadata": {},
   "outputs": [],
   "source": []
  },
  {
   "cell_type": "code",
   "execution_count": 118,
   "id": "297ca0b1-9f69-418e-bdb6-e4d70dab11d2",
   "metadata": {},
   "outputs": [
    {
     "ename": "ValueError",
     "evalue": "could not convert string to float: '2012-08-11'",
     "output_type": "error",
     "traceback": [
      "\u001b[0;31m---------------------------------------------------------------------------\u001b[0m",
      "\u001b[0;31mValueError\u001b[0m                                Traceback (most recent call last)",
      "\u001b[0;32m<ipython-input-118-85bbb42caecd>\u001b[0m in \u001b[0;36m<module>\u001b[0;34m\u001b[0m\n\u001b[0;32m----> 1\u001b[0;31m \u001b[0mmodel\u001b[0m\u001b[0;34m.\u001b[0m\u001b[0mfit\u001b[0m\u001b[0;34m(\u001b[0m\u001b[0mX\u001b[0m\u001b[0;34m=\u001b[0m\u001b[0mtrain_df\u001b[0m\u001b[0;34m.\u001b[0m\u001b[0mdrop\u001b[0m\u001b[0;34m(\u001b[0m\u001b[0mcolumns\u001b[0m\u001b[0;34m=\u001b[0m\u001b[0;34m[\u001b[0m\u001b[0;34m'VC_GIFT'\u001b[0m\u001b[0;34m,\u001b[0m \u001b[0;34m'VC_DATERESP'\u001b[0m\u001b[0;34m]\u001b[0m\u001b[0;34m)\u001b[0m\u001b[0;34m,\u001b[0m \u001b[0my\u001b[0m\u001b[0;34m=\u001b[0m\u001b[0mtrain_df\u001b[0m\u001b[0;34m[\u001b[0m\u001b[0;34m'VC_GIFT'\u001b[0m\u001b[0;34m]\u001b[0m\u001b[0;34m)\u001b[0m\u001b[0;34m\u001b[0m\u001b[0;34m\u001b[0m\u001b[0m\n\u001b[0m",
      "\u001b[0;32m~/opt/anaconda3/lib/python3.8/site-packages/sklearn/ensemble/_forest.py\u001b[0m in \u001b[0;36mfit\u001b[0;34m(self, X, y, sample_weight)\u001b[0m\n\u001b[1;32m    302\u001b[0m                 \u001b[0;34m\"sparse multilabel-indicator for y is not supported.\"\u001b[0m\u001b[0;34m\u001b[0m\u001b[0;34m\u001b[0m\u001b[0m\n\u001b[1;32m    303\u001b[0m             )\n\u001b[0;32m--> 304\u001b[0;31m         X, y = self._validate_data(X, y, multi_output=True,\n\u001b[0m\u001b[1;32m    305\u001b[0m                                    accept_sparse=\"csc\", dtype=DTYPE)\n\u001b[1;32m    306\u001b[0m         \u001b[0;32mif\u001b[0m \u001b[0msample_weight\u001b[0m \u001b[0;32mis\u001b[0m \u001b[0;32mnot\u001b[0m \u001b[0;32mNone\u001b[0m\u001b[0;34m:\u001b[0m\u001b[0;34m\u001b[0m\u001b[0;34m\u001b[0m\u001b[0m\n",
      "\u001b[0;32m~/opt/anaconda3/lib/python3.8/site-packages/sklearn/base.py\u001b[0m in \u001b[0;36m_validate_data\u001b[0;34m(self, X, y, reset, validate_separately, **check_params)\u001b[0m\n\u001b[1;32m    431\u001b[0m                 \u001b[0my\u001b[0m \u001b[0;34m=\u001b[0m \u001b[0mcheck_array\u001b[0m\u001b[0;34m(\u001b[0m\u001b[0my\u001b[0m\u001b[0;34m,\u001b[0m \u001b[0;34m**\u001b[0m\u001b[0mcheck_y_params\u001b[0m\u001b[0;34m)\u001b[0m\u001b[0;34m\u001b[0m\u001b[0;34m\u001b[0m\u001b[0m\n\u001b[1;32m    432\u001b[0m             \u001b[0;32melse\u001b[0m\u001b[0;34m:\u001b[0m\u001b[0;34m\u001b[0m\u001b[0;34m\u001b[0m\u001b[0m\n\u001b[0;32m--> 433\u001b[0;31m                 \u001b[0mX\u001b[0m\u001b[0;34m,\u001b[0m \u001b[0my\u001b[0m \u001b[0;34m=\u001b[0m \u001b[0mcheck_X_y\u001b[0m\u001b[0;34m(\u001b[0m\u001b[0mX\u001b[0m\u001b[0;34m,\u001b[0m \u001b[0my\u001b[0m\u001b[0;34m,\u001b[0m \u001b[0;34m**\u001b[0m\u001b[0mcheck_params\u001b[0m\u001b[0;34m)\u001b[0m\u001b[0;34m\u001b[0m\u001b[0;34m\u001b[0m\u001b[0m\n\u001b[0m\u001b[1;32m    434\u001b[0m             \u001b[0mout\u001b[0m \u001b[0;34m=\u001b[0m \u001b[0mX\u001b[0m\u001b[0;34m,\u001b[0m \u001b[0my\u001b[0m\u001b[0;34m\u001b[0m\u001b[0;34m\u001b[0m\u001b[0m\n\u001b[1;32m    435\u001b[0m \u001b[0;34m\u001b[0m\u001b[0m\n",
      "\u001b[0;32m~/opt/anaconda3/lib/python3.8/site-packages/sklearn/utils/validation.py\u001b[0m in \u001b[0;36minner_f\u001b[0;34m(*args, **kwargs)\u001b[0m\n\u001b[1;32m     61\u001b[0m             \u001b[0mextra_args\u001b[0m \u001b[0;34m=\u001b[0m \u001b[0mlen\u001b[0m\u001b[0;34m(\u001b[0m\u001b[0margs\u001b[0m\u001b[0;34m)\u001b[0m \u001b[0;34m-\u001b[0m \u001b[0mlen\u001b[0m\u001b[0;34m(\u001b[0m\u001b[0mall_args\u001b[0m\u001b[0;34m)\u001b[0m\u001b[0;34m\u001b[0m\u001b[0;34m\u001b[0m\u001b[0m\n\u001b[1;32m     62\u001b[0m             \u001b[0;32mif\u001b[0m \u001b[0mextra_args\u001b[0m \u001b[0;34m<=\u001b[0m \u001b[0;36m0\u001b[0m\u001b[0;34m:\u001b[0m\u001b[0;34m\u001b[0m\u001b[0;34m\u001b[0m\u001b[0m\n\u001b[0;32m---> 63\u001b[0;31m                 \u001b[0;32mreturn\u001b[0m \u001b[0mf\u001b[0m\u001b[0;34m(\u001b[0m\u001b[0;34m*\u001b[0m\u001b[0margs\u001b[0m\u001b[0;34m,\u001b[0m \u001b[0;34m**\u001b[0m\u001b[0mkwargs\u001b[0m\u001b[0;34m)\u001b[0m\u001b[0;34m\u001b[0m\u001b[0;34m\u001b[0m\u001b[0m\n\u001b[0m\u001b[1;32m     64\u001b[0m \u001b[0;34m\u001b[0m\u001b[0m\n\u001b[1;32m     65\u001b[0m             \u001b[0;31m# extra_args > 0\u001b[0m\u001b[0;34m\u001b[0m\u001b[0;34m\u001b[0m\u001b[0;34m\u001b[0m\u001b[0m\n",
      "\u001b[0;32m~/opt/anaconda3/lib/python3.8/site-packages/sklearn/utils/validation.py\u001b[0m in \u001b[0;36mcheck_X_y\u001b[0;34m(X, y, accept_sparse, accept_large_sparse, dtype, order, copy, force_all_finite, ensure_2d, allow_nd, multi_output, ensure_min_samples, ensure_min_features, y_numeric, estimator)\u001b[0m\n\u001b[1;32m    812\u001b[0m         \u001b[0;32mraise\u001b[0m \u001b[0mValueError\u001b[0m\u001b[0;34m(\u001b[0m\u001b[0;34m\"y cannot be None\"\u001b[0m\u001b[0;34m)\u001b[0m\u001b[0;34m\u001b[0m\u001b[0;34m\u001b[0m\u001b[0m\n\u001b[1;32m    813\u001b[0m \u001b[0;34m\u001b[0m\u001b[0m\n\u001b[0;32m--> 814\u001b[0;31m     X = check_array(X, accept_sparse=accept_sparse,\n\u001b[0m\u001b[1;32m    815\u001b[0m                     \u001b[0maccept_large_sparse\u001b[0m\u001b[0;34m=\u001b[0m\u001b[0maccept_large_sparse\u001b[0m\u001b[0;34m,\u001b[0m\u001b[0;34m\u001b[0m\u001b[0;34m\u001b[0m\u001b[0m\n\u001b[1;32m    816\u001b[0m                     \u001b[0mdtype\u001b[0m\u001b[0;34m=\u001b[0m\u001b[0mdtype\u001b[0m\u001b[0;34m,\u001b[0m \u001b[0morder\u001b[0m\u001b[0;34m=\u001b[0m\u001b[0morder\u001b[0m\u001b[0;34m,\u001b[0m \u001b[0mcopy\u001b[0m\u001b[0;34m=\u001b[0m\u001b[0mcopy\u001b[0m\u001b[0;34m,\u001b[0m\u001b[0;34m\u001b[0m\u001b[0;34m\u001b[0m\u001b[0m\n",
      "\u001b[0;32m~/opt/anaconda3/lib/python3.8/site-packages/sklearn/utils/validation.py\u001b[0m in \u001b[0;36minner_f\u001b[0;34m(*args, **kwargs)\u001b[0m\n\u001b[1;32m     61\u001b[0m             \u001b[0mextra_args\u001b[0m \u001b[0;34m=\u001b[0m \u001b[0mlen\u001b[0m\u001b[0;34m(\u001b[0m\u001b[0margs\u001b[0m\u001b[0;34m)\u001b[0m \u001b[0;34m-\u001b[0m \u001b[0mlen\u001b[0m\u001b[0;34m(\u001b[0m\u001b[0mall_args\u001b[0m\u001b[0;34m)\u001b[0m\u001b[0;34m\u001b[0m\u001b[0;34m\u001b[0m\u001b[0m\n\u001b[1;32m     62\u001b[0m             \u001b[0;32mif\u001b[0m \u001b[0mextra_args\u001b[0m \u001b[0;34m<=\u001b[0m \u001b[0;36m0\u001b[0m\u001b[0;34m:\u001b[0m\u001b[0;34m\u001b[0m\u001b[0;34m\u001b[0m\u001b[0m\n\u001b[0;32m---> 63\u001b[0;31m                 \u001b[0;32mreturn\u001b[0m \u001b[0mf\u001b[0m\u001b[0;34m(\u001b[0m\u001b[0;34m*\u001b[0m\u001b[0margs\u001b[0m\u001b[0;34m,\u001b[0m \u001b[0;34m**\u001b[0m\u001b[0mkwargs\u001b[0m\u001b[0;34m)\u001b[0m\u001b[0;34m\u001b[0m\u001b[0;34m\u001b[0m\u001b[0m\n\u001b[0m\u001b[1;32m     64\u001b[0m \u001b[0;34m\u001b[0m\u001b[0m\n\u001b[1;32m     65\u001b[0m             \u001b[0;31m# extra_args > 0\u001b[0m\u001b[0;34m\u001b[0m\u001b[0;34m\u001b[0m\u001b[0;34m\u001b[0m\u001b[0m\n",
      "\u001b[0;32m~/opt/anaconda3/lib/python3.8/site-packages/sklearn/utils/validation.py\u001b[0m in \u001b[0;36mcheck_array\u001b[0;34m(array, accept_sparse, accept_large_sparse, dtype, order, copy, force_all_finite, ensure_2d, allow_nd, ensure_min_samples, ensure_min_features, estimator)\u001b[0m\n\u001b[1;32m    614\u001b[0m                     \u001b[0marray\u001b[0m \u001b[0;34m=\u001b[0m \u001b[0marray\u001b[0m\u001b[0;34m.\u001b[0m\u001b[0mastype\u001b[0m\u001b[0;34m(\u001b[0m\u001b[0mdtype\u001b[0m\u001b[0;34m,\u001b[0m \u001b[0mcasting\u001b[0m\u001b[0;34m=\u001b[0m\u001b[0;34m\"unsafe\"\u001b[0m\u001b[0;34m,\u001b[0m \u001b[0mcopy\u001b[0m\u001b[0;34m=\u001b[0m\u001b[0;32mFalse\u001b[0m\u001b[0;34m)\u001b[0m\u001b[0;34m\u001b[0m\u001b[0;34m\u001b[0m\u001b[0m\n\u001b[1;32m    615\u001b[0m                 \u001b[0;32melse\u001b[0m\u001b[0;34m:\u001b[0m\u001b[0;34m\u001b[0m\u001b[0;34m\u001b[0m\u001b[0m\n\u001b[0;32m--> 616\u001b[0;31m                     \u001b[0marray\u001b[0m \u001b[0;34m=\u001b[0m \u001b[0mnp\u001b[0m\u001b[0;34m.\u001b[0m\u001b[0masarray\u001b[0m\u001b[0;34m(\u001b[0m\u001b[0marray\u001b[0m\u001b[0;34m,\u001b[0m \u001b[0morder\u001b[0m\u001b[0;34m=\u001b[0m\u001b[0morder\u001b[0m\u001b[0;34m,\u001b[0m \u001b[0mdtype\u001b[0m\u001b[0;34m=\u001b[0m\u001b[0mdtype\u001b[0m\u001b[0;34m)\u001b[0m\u001b[0;34m\u001b[0m\u001b[0;34m\u001b[0m\u001b[0m\n\u001b[0m\u001b[1;32m    617\u001b[0m             \u001b[0;32mexcept\u001b[0m \u001b[0mComplexWarning\u001b[0m \u001b[0;32mas\u001b[0m \u001b[0mcomplex_warning\u001b[0m\u001b[0;34m:\u001b[0m\u001b[0;34m\u001b[0m\u001b[0;34m\u001b[0m\u001b[0m\n\u001b[1;32m    618\u001b[0m                 raise ValueError(\"Complex data not supported\\n\"\n",
      "\u001b[0;32m~/opt/anaconda3/lib/python3.8/site-packages/numpy/core/_asarray.py\u001b[0m in \u001b[0;36masarray\u001b[0;34m(a, dtype, order, like)\u001b[0m\n\u001b[1;32m    100\u001b[0m         \u001b[0;32mreturn\u001b[0m \u001b[0m_asarray_with_like\u001b[0m\u001b[0;34m(\u001b[0m\u001b[0ma\u001b[0m\u001b[0;34m,\u001b[0m \u001b[0mdtype\u001b[0m\u001b[0;34m=\u001b[0m\u001b[0mdtype\u001b[0m\u001b[0;34m,\u001b[0m \u001b[0morder\u001b[0m\u001b[0;34m=\u001b[0m\u001b[0morder\u001b[0m\u001b[0;34m,\u001b[0m \u001b[0mlike\u001b[0m\u001b[0;34m=\u001b[0m\u001b[0mlike\u001b[0m\u001b[0;34m)\u001b[0m\u001b[0;34m\u001b[0m\u001b[0;34m\u001b[0m\u001b[0m\n\u001b[1;32m    101\u001b[0m \u001b[0;34m\u001b[0m\u001b[0m\n\u001b[0;32m--> 102\u001b[0;31m     \u001b[0;32mreturn\u001b[0m \u001b[0marray\u001b[0m\u001b[0;34m(\u001b[0m\u001b[0ma\u001b[0m\u001b[0;34m,\u001b[0m \u001b[0mdtype\u001b[0m\u001b[0;34m,\u001b[0m \u001b[0mcopy\u001b[0m\u001b[0;34m=\u001b[0m\u001b[0;32mFalse\u001b[0m\u001b[0;34m,\u001b[0m \u001b[0morder\u001b[0m\u001b[0;34m=\u001b[0m\u001b[0morder\u001b[0m\u001b[0;34m)\u001b[0m\u001b[0;34m\u001b[0m\u001b[0;34m\u001b[0m\u001b[0m\n\u001b[0m\u001b[1;32m    103\u001b[0m \u001b[0;34m\u001b[0m\u001b[0m\n\u001b[1;32m    104\u001b[0m \u001b[0;34m\u001b[0m\u001b[0m\n",
      "\u001b[0;32m~/opt/anaconda3/lib/python3.8/site-packages/pandas/core/generic.py\u001b[0m in \u001b[0;36m__array__\u001b[0;34m(self, dtype)\u001b[0m\n\u001b[1;32m   1897\u001b[0m \u001b[0;34m\u001b[0m\u001b[0m\n\u001b[1;32m   1898\u001b[0m     \u001b[0;32mdef\u001b[0m \u001b[0m__array__\u001b[0m\u001b[0;34m(\u001b[0m\u001b[0mself\u001b[0m\u001b[0;34m,\u001b[0m \u001b[0mdtype\u001b[0m\u001b[0;34m=\u001b[0m\u001b[0;32mNone\u001b[0m\u001b[0;34m)\u001b[0m \u001b[0;34m->\u001b[0m \u001b[0mnp\u001b[0m\u001b[0;34m.\u001b[0m\u001b[0mndarray\u001b[0m\u001b[0;34m:\u001b[0m\u001b[0;34m\u001b[0m\u001b[0;34m\u001b[0m\u001b[0m\n\u001b[0;32m-> 1899\u001b[0;31m         \u001b[0;32mreturn\u001b[0m \u001b[0mnp\u001b[0m\u001b[0;34m.\u001b[0m\u001b[0masarray\u001b[0m\u001b[0;34m(\u001b[0m\u001b[0mself\u001b[0m\u001b[0;34m.\u001b[0m\u001b[0m_values\u001b[0m\u001b[0;34m,\u001b[0m \u001b[0mdtype\u001b[0m\u001b[0;34m=\u001b[0m\u001b[0mdtype\u001b[0m\u001b[0;34m)\u001b[0m\u001b[0;34m\u001b[0m\u001b[0;34m\u001b[0m\u001b[0m\n\u001b[0m\u001b[1;32m   1900\u001b[0m \u001b[0;34m\u001b[0m\u001b[0m\n\u001b[1;32m   1901\u001b[0m     def __array_wrap__(\n",
      "\u001b[0;32m~/opt/anaconda3/lib/python3.8/site-packages/numpy/core/_asarray.py\u001b[0m in \u001b[0;36masarray\u001b[0;34m(a, dtype, order, like)\u001b[0m\n\u001b[1;32m    100\u001b[0m         \u001b[0;32mreturn\u001b[0m \u001b[0m_asarray_with_like\u001b[0m\u001b[0;34m(\u001b[0m\u001b[0ma\u001b[0m\u001b[0;34m,\u001b[0m \u001b[0mdtype\u001b[0m\u001b[0;34m=\u001b[0m\u001b[0mdtype\u001b[0m\u001b[0;34m,\u001b[0m \u001b[0morder\u001b[0m\u001b[0;34m=\u001b[0m\u001b[0morder\u001b[0m\u001b[0;34m,\u001b[0m \u001b[0mlike\u001b[0m\u001b[0;34m=\u001b[0m\u001b[0mlike\u001b[0m\u001b[0;34m)\u001b[0m\u001b[0;34m\u001b[0m\u001b[0;34m\u001b[0m\u001b[0m\n\u001b[1;32m    101\u001b[0m \u001b[0;34m\u001b[0m\u001b[0m\n\u001b[0;32m--> 102\u001b[0;31m     \u001b[0;32mreturn\u001b[0m \u001b[0marray\u001b[0m\u001b[0;34m(\u001b[0m\u001b[0ma\u001b[0m\u001b[0;34m,\u001b[0m \u001b[0mdtype\u001b[0m\u001b[0;34m,\u001b[0m \u001b[0mcopy\u001b[0m\u001b[0;34m=\u001b[0m\u001b[0;32mFalse\u001b[0m\u001b[0;34m,\u001b[0m \u001b[0morder\u001b[0m\u001b[0;34m=\u001b[0m\u001b[0morder\u001b[0m\u001b[0;34m)\u001b[0m\u001b[0;34m\u001b[0m\u001b[0;34m\u001b[0m\u001b[0m\n\u001b[0m\u001b[1;32m    103\u001b[0m \u001b[0;34m\u001b[0m\u001b[0m\n\u001b[1;32m    104\u001b[0m \u001b[0;34m\u001b[0m\u001b[0m\n",
      "\u001b[0;31mValueError\u001b[0m: could not convert string to float: '2012-08-11'"
     ]
    }
   ],
   "source": [
    "model.fit(X=train_df.drop(columns=['VC_GIFT', 'VC_DATERESP']), y=train_df['VC_GIFT'])"
   ]
  },
  {
   "cell_type": "code",
   "execution_count": null,
   "id": "9ef5c424-6ff3-41dc-8435-5b4f0d146200",
   "metadata": {},
   "outputs": [],
   "source": [
    "train_df.drop(columns=['VC_GIFT', 'VC_DATERESP'])"
   ]
  },
  {
   "cell_type": "markdown",
   "id": "68419764-35d9-4a6c-9759-85373497e9ac",
   "metadata": {},
   "source": [
    " 'VC_ID'  ---- basic id <br>\n",
    " 'VC_DATEMAIL' --- the date when the person was mailed during the campaign;<br>\n",
    " 'VC_DATERESP' --- the date of response for the mail (when the person donated some money ‘GIFT’) if the person responded;<br>\n",
    " 'VC_GIFT'  --- TARGET (did they respond to the associated mailing) doesn’t present on validation file<br>\n",
    " 'VC_CATHA',<br>\n",
    " 'VC_CATHMC',<br>\n",
    " 'PX_WO_CRR',<br>\n",
    " 'PX_WO_CRR6MTH',<br>\n",
    " 'ax_donation_contribution_c',<br>\n",
    " 'ax_religious_inspirational',<br>\n",
    " 'ax_apparel_mens_big_and_tall_c',<br>\n",
    " 'ax_books_and_music_books_c',<br>\n",
    " 'ax_adult_age_ranges_present_in_household_females_75',<br>\n",
    " 'ax_rfm_total_offline_orders_under_50_range_rng',<br>\n",
    " 'ax_rfm_total_offline_orders_rng',<br>\n",
    " 'ax_personicx_digital_cluster',<br>\n",
    " 'ax_income_range_premium_sc',<br>\n",
    " 'ax_income_range_broad_sc',<br>\n",
    " 'VC_DATEMAILLAST' --- the mail date of previous to the associated mailing campaign <br>\n",
    " 'PX_WO_CR',<br>\n",
    " 'ax_rfm_last_offline_purchase_date',<br>\n",
    " 'PX_WO_CMD',<br>\n",
    " 'VC_DATEGIFTLAST' --- last date responded (as of the time of this mailing)<br>\n",
    " 'ax_spose_income',<br>\n",
    " 'VC_GIFTMAX1Y',<br>\n",
    " 'PX_international_relief_CAG',<br>\n",
    " 'PX_international_relief_CAG6MTH',<br>\n",
    " 'ax_scuba_diving',<br>\n",
    " 'ax_adult_age_ranges_present_in_household_unknown_gender_18_24',<br>\n",
    " 'ax_childrens_age_ranges_present_in_hhld_reseller_age_00_02_female',<br>\n",
    " 'ax_home_owner_type_detail_rp',<br>\n",
    " 'ax_home_market_value_deciles_estimated_rp',<br>\n",
    " 'ax_home_property_type_rp',<br>\n",
    " 'PX_WO_PMD',<br>\n",
    " 'ax_home_loan_date_3_rp_year',<br>\n",
    " 'PX_WO_PR',<br>\n",
    " 'ax_sex'<br>"
   ]
  },
  {
   "cell_type": "code",
   "execution_count": null,
   "id": "fcfc6b37-fdad-4d18-abbb-7cafd4a1a9d9",
   "metadata": {},
   "outputs": [],
   "source": [
    "(train_df['VC_GIFT'].notna()).sum()"
   ]
  },
  {
   "cell_type": "code",
   "execution_count": null,
   "id": "166a7092-0697-4079-820d-b481794a519b",
   "metadata": {},
   "outputs": [],
   "source": [
    "train_df['VC_GIFTMAX1Y'].notna().sum()"
   ]
  },
  {
   "cell_type": "code",
   "execution_count": null,
   "id": "fe3e421a-8c63-4c38-80bc-3bb3db24f102",
   "metadata": {},
   "outputs": [],
   "source": [
    "train_df['VC_GIFTMAX1Y'].max()"
   ]
  },
  {
   "cell_type": "code",
   "execution_count": null,
   "id": "cf7917ca-d506-4005-be0b-75781f30c670",
   "metadata": {},
   "outputs": [],
   "source": [
    "train_df['VC_GIFT'].max()"
   ]
  },
  {
   "cell_type": "code",
   "execution_count": null,
   "id": "5bbabcf7-ec45-4259-ac2f-470d4abf8085",
   "metadata": {},
   "outputs": [],
   "source": []
  }
 ],
 "metadata": {
  "kernelspec": {
   "display_name": "Python 3",
   "language": "python",
   "name": "python3"
  },
  "language_info": {
   "codemirror_mode": {
    "name": "ipython",
    "version": 3
   },
   "file_extension": ".py",
   "mimetype": "text/x-python",
   "name": "python",
   "nbconvert_exporter": "python",
   "pygments_lexer": "ipython3",
   "version": "3.8.8"
  }
 },
 "nbformat": 4,
 "nbformat_minor": 5
}
