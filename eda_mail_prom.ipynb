{
 "cells": [
  {
   "cell_type": "markdown",
   "id": "b3a53f2a-6bf3-4a01-a6e1-c9bbb4ad9413",
   "metadata": {},
   "source": [
    "# Re-activation test model\n",
    "\n",
    "## Overview:\n",
    "\n",
    "You are being provided a file with combined series of historical mail promotional files.  The purpose of these campaigns are to “re-activate” people who used to donate a lot to a charity, however in recent months or years have stopped giving. Heuristic financial information from within many charities suggest that there is a lower cost to raise a dollar by re-activating lapsed donors then say acquiring a cold donor who is unfamiliar with the charity.  Many charities have large lapsed data segments in their databases making this a field of strong interest for the charity.\n",
    "\n",
    "## Goal:\n",
    "\n",
    "Generally your goal in a production scenario could be to use a model to drive the most names (largest lapsed mailing) possible at break even, since long term value suggests re-activated donors go on to become very valuable.\n",
    "<br><br>\n",
    "In the interest of brevity we will only be looking at Area under the ROC to determine success and keep the task simple in its goal.  Although, the actual response amount (GIFT) is provided in the data (except for blind validation file), this is going to be response driven only.\n",
    "<br><br>\n",
    "Although we are looking to see your model “work”, we are most interested in your process, questions you may have as you work, creativity and process.  So aside from delivering the blind validation file, please deliver any notes and data visualizations from the project so we can follow your thought process.  In other words sell us on your methodology. \n",
    "<br><br>\n",
    "You may use any learning algorithm of your choosing and environment.  Although, this is a classic supervised learning scenario, we are not putting any constraints on how you choose to build a solution. \n",
    "\n",
    "## Data:\n",
    "\n",
    "You have 2 files provided.  1 for training and validation and 1 for blind validation to send us back when you have provided a score.\n",
    "<br><br>\n",
    "Much of the work on the data has been done for you.  Using the client’s internal database we have created accurate snapshots for you of what the data looked like for each campaign at the time it was sent with of course who responded.   As a ‘data scientist’ with VeraData you will be provided with an expert to handle ETL and work with you so you can focus on the actual analytics.\n",
    "<br><br>\n",
    "Also, in the interest of time as well as computational resource efficiency, we have limited the variables provided to you and the number of records you have in your file.  This will make the data easier for you to manage as apposed to the 1000+ variables and 1000000+ records that will be available to you in a production environment.  As mentioned before we are more looking to assess your thought process not burn up your personal computer. You are provided below with the description of some client’s fields and the most other fields are third-party data that we received without descriptions."
   ]
  },
  {
   "cell_type": "code",
   "execution_count": 1,
   "id": "12693170-276b-42ee-90f5-b31fb470412b",
   "metadata": {},
   "outputs": [],
   "source": [
    "import numpy as np\n",
    "import pandas as pd\n",
    "import matplotlib.pyplot as plt"
   ]
  },
  {
   "cell_type": "code",
   "execution_count": 2,
   "id": "aafa5e9c-a87b-4141-9134-3ed39dc6e91f",
   "metadata": {},
   "outputs": [],
   "source": [
    "train_df = pd.read_csv('./mail-promotion/mail-promotion/data/train.csv', delimiter='|')\n",
    "test_df = pd.read_csv('./mail-promotion/mail-promotion/data/test.csv', delimiter='|')"
   ]
  },
  {
   "cell_type": "code",
   "execution_count": 3,
   "id": "3504dade-be93-4b86-8d1c-a8ab0caf4936",
   "metadata": {},
   "outputs": [
    {
     "data": {
      "text/html": [
       "<div>\n",
       "<style scoped>\n",
       "    .dataframe tbody tr th:only-of-type {\n",
       "        vertical-align: middle;\n",
       "    }\n",
       "\n",
       "    .dataframe tbody tr th {\n",
       "        vertical-align: top;\n",
       "    }\n",
       "\n",
       "    .dataframe thead th {\n",
       "        text-align: right;\n",
       "    }\n",
       "</style>\n",
       "<table border=\"1\" class=\"dataframe\">\n",
       "  <thead>\n",
       "    <tr style=\"text-align: right;\">\n",
       "      <th></th>\n",
       "      <th>Unnamed: 0</th>\n",
       "      <th>VC_ID</th>\n",
       "      <th>VC_DATEMAIL</th>\n",
       "      <th>VC_DATERESP</th>\n",
       "      <th>VC_GIFT</th>\n",
       "      <th>VC_CATHA</th>\n",
       "      <th>VC_CATHMC</th>\n",
       "      <th>PX_WO_CRR</th>\n",
       "      <th>PX_WO_CRR6MTH</th>\n",
       "      <th>ax_donation_contribution_c</th>\n",
       "      <th>...</th>\n",
       "      <th>ax_scuba_diving</th>\n",
       "      <th>ax_adult_age_ranges_present_in_household_unknown_gender_18_24</th>\n",
       "      <th>ax_childrens_age_ranges_present_in_hhld_reseller_age_00_02_female</th>\n",
       "      <th>ax_home_owner_type_detail_rp</th>\n",
       "      <th>ax_home_market_value_deciles_estimated_rp</th>\n",
       "      <th>ax_home_property_type_rp</th>\n",
       "      <th>PX_WO_PMD</th>\n",
       "      <th>ax_home_loan_date_3_rp_year</th>\n",
       "      <th>PX_WO_PR</th>\n",
       "      <th>ax_sex</th>\n",
       "    </tr>\n",
       "  </thead>\n",
       "  <tbody>\n",
       "    <tr>\n",
       "      <th>0</th>\n",
       "      <td>0</td>\n",
       "      <td>326417533784</td>\n",
       "      <td>2012-08-11</td>\n",
       "      <td>NaN</td>\n",
       "      <td>NaN</td>\n",
       "      <td>8</td>\n",
       "      <td>8</td>\n",
       "      <td>0.2754</td>\n",
       "      <td>0.2754</td>\n",
       "      <td>1.0</td>\n",
       "      <td>...</td>\n",
       "      <td>NaN</td>\n",
       "      <td>NaN</td>\n",
       "      <td>NaN</td>\n",
       "      <td>O</td>\n",
       "      <td>10.0</td>\n",
       "      <td>R</td>\n",
       "      <td>1998-07-01</td>\n",
       "      <td>NaN</td>\n",
       "      <td>1998-07-22</td>\n",
       "      <td>0.0</td>\n",
       "    </tr>\n",
       "    <tr>\n",
       "      <th>1</th>\n",
       "      <td>1</td>\n",
       "      <td>472446525086</td>\n",
       "      <td>2017-08-01</td>\n",
       "      <td>NaN</td>\n",
       "      <td>NaN</td>\n",
       "      <td>3</td>\n",
       "      <td>3</td>\n",
       "      <td>0.0526</td>\n",
       "      <td>0.0526</td>\n",
       "      <td>NaN</td>\n",
       "      <td>...</td>\n",
       "      <td>NaN</td>\n",
       "      <td>NaN</td>\n",
       "      <td>NaN</td>\n",
       "      <td>O</td>\n",
       "      <td>4.0</td>\n",
       "      <td>R</td>\n",
       "      <td>2011-10-03</td>\n",
       "      <td>NaN</td>\n",
       "      <td>2013-08-15</td>\n",
       "      <td>0.0</td>\n",
       "    </tr>\n",
       "    <tr>\n",
       "      <th>2</th>\n",
       "      <td>2</td>\n",
       "      <td>438087357784</td>\n",
       "      <td>2017-01-10</td>\n",
       "      <td>NaN</td>\n",
       "      <td>NaN</td>\n",
       "      <td>8</td>\n",
       "      <td>9</td>\n",
       "      <td>0.1111</td>\n",
       "      <td>0.1111</td>\n",
       "      <td>NaN</td>\n",
       "      <td>...</td>\n",
       "      <td>NaN</td>\n",
       "      <td>NaN</td>\n",
       "      <td>NaN</td>\n",
       "      <td>NaN</td>\n",
       "      <td>NaN</td>\n",
       "      <td>NaN</td>\n",
       "      <td>2011-03-28</td>\n",
       "      <td>NaN</td>\n",
       "      <td>2011-05-06</td>\n",
       "      <td>1.0</td>\n",
       "    </tr>\n",
       "    <tr>\n",
       "      <th>3</th>\n",
       "      <td>3</td>\n",
       "      <td>472446537663</td>\n",
       "      <td>2017-08-01</td>\n",
       "      <td>NaN</td>\n",
       "      <td>NaN</td>\n",
       "      <td>7</td>\n",
       "      <td>8</td>\n",
       "      <td>0.1058</td>\n",
       "      <td>0.1058</td>\n",
       "      <td>1.0</td>\n",
       "      <td>...</td>\n",
       "      <td>NaN</td>\n",
       "      <td>NaN</td>\n",
       "      <td>NaN</td>\n",
       "      <td>O</td>\n",
       "      <td>7.0</td>\n",
       "      <td>R</td>\n",
       "      <td>2000-04-10</td>\n",
       "      <td>NaN</td>\n",
       "      <td>2000-09-21</td>\n",
       "      <td>0.0</td>\n",
       "    </tr>\n",
       "    <tr>\n",
       "      <th>4</th>\n",
       "      <td>4</td>\n",
       "      <td>326417580816</td>\n",
       "      <td>2012-08-11</td>\n",
       "      <td>NaN</td>\n",
       "      <td>NaN</td>\n",
       "      <td>3</td>\n",
       "      <td>5</td>\n",
       "      <td>0.1117</td>\n",
       "      <td>0.1117</td>\n",
       "      <td>1.0</td>\n",
       "      <td>...</td>\n",
       "      <td>NaN</td>\n",
       "      <td>NaN</td>\n",
       "      <td>NaN</td>\n",
       "      <td>O</td>\n",
       "      <td>1.0</td>\n",
       "      <td>R</td>\n",
       "      <td>2003-08-18</td>\n",
       "      <td>NaN</td>\n",
       "      <td>2003-09-11</td>\n",
       "      <td>NaN</td>\n",
       "    </tr>\n",
       "  </tbody>\n",
       "</table>\n",
       "<p>5 rows × 38 columns</p>\n",
       "</div>"
      ],
      "text/plain": [
       "   Unnamed: 0         VC_ID VC_DATEMAIL VC_DATERESP  VC_GIFT  VC_CATHA  \\\n",
       "0           0  326417533784  2012-08-11         NaN      NaN         8   \n",
       "1           1  472446525086  2017-08-01         NaN      NaN         3   \n",
       "2           2  438087357784  2017-01-10         NaN      NaN         8   \n",
       "3           3  472446537663  2017-08-01         NaN      NaN         7   \n",
       "4           4  326417580816  2012-08-11         NaN      NaN         3   \n",
       "\n",
       "   VC_CATHMC  PX_WO_CRR  PX_WO_CRR6MTH  ax_donation_contribution_c  ...  \\\n",
       "0          8     0.2754         0.2754                         1.0  ...   \n",
       "1          3     0.0526         0.0526                         NaN  ...   \n",
       "2          9     0.1111         0.1111                         NaN  ...   \n",
       "3          8     0.1058         0.1058                         1.0  ...   \n",
       "4          5     0.1117         0.1117                         1.0  ...   \n",
       "\n",
       "   ax_scuba_diving  \\\n",
       "0              NaN   \n",
       "1              NaN   \n",
       "2              NaN   \n",
       "3              NaN   \n",
       "4              NaN   \n",
       "\n",
       "   ax_adult_age_ranges_present_in_household_unknown_gender_18_24  \\\n",
       "0                                                NaN               \n",
       "1                                                NaN               \n",
       "2                                                NaN               \n",
       "3                                                NaN               \n",
       "4                                                NaN               \n",
       "\n",
       "   ax_childrens_age_ranges_present_in_hhld_reseller_age_00_02_female  \\\n",
       "0                                                NaN                   \n",
       "1                                                NaN                   \n",
       "2                                                NaN                   \n",
       "3                                                NaN                   \n",
       "4                                                NaN                   \n",
       "\n",
       "   ax_home_owner_type_detail_rp ax_home_market_value_deciles_estimated_rp  \\\n",
       "0                             O                                      10.0   \n",
       "1                             O                                       4.0   \n",
       "2                           NaN                                       NaN   \n",
       "3                             O                                       7.0   \n",
       "4                             O                                       1.0   \n",
       "\n",
       "  ax_home_property_type_rp   PX_WO_PMD ax_home_loan_date_3_rp_year  \\\n",
       "0                        R  1998-07-01                         NaN   \n",
       "1                        R  2011-10-03                         NaN   \n",
       "2                      NaN  2011-03-28                         NaN   \n",
       "3                        R  2000-04-10                         NaN   \n",
       "4                        R  2003-08-18                         NaN   \n",
       "\n",
       "     PX_WO_PR ax_sex  \n",
       "0  1998-07-22    0.0  \n",
       "1  2013-08-15    0.0  \n",
       "2  2011-05-06    1.0  \n",
       "3  2000-09-21    0.0  \n",
       "4  2003-09-11    NaN  \n",
       "\n",
       "[5 rows x 38 columns]"
      ]
     },
     "execution_count": 3,
     "metadata": {},
     "output_type": "execute_result"
    }
   ],
   "source": [
    "train_df.head()"
   ]
  },
  {
   "cell_type": "code",
   "execution_count": 4,
   "id": "1dc99dae-8911-48ca-ad16-49771b2accf3",
   "metadata": {},
   "outputs": [
    {
     "data": {
      "text/plain": [
       "Index(['Unnamed: 0', 'VC_ID', 'VC_DATEMAIL', 'VC_DATERESP', 'VC_GIFT',\n",
       "       'VC_CATHA', 'VC_CATHMC', 'PX_WO_CRR', 'PX_WO_CRR6MTH',\n",
       "       'ax_donation_contribution_c', 'ax_religious_inspirational',\n",
       "       'ax_apparel_mens_big_and_tall_c', 'ax_books_and_music_books_c',\n",
       "       'ax_adult_age_ranges_present_in_household_females_75',\n",
       "       'ax_rfm_total_offline_orders_under_50_range_rng',\n",
       "       'ax_rfm_total_offline_orders_rng', 'ax_personicx_digital_cluster',\n",
       "       'ax_income_range_premium_sc', 'ax_income_range_broad_sc',\n",
       "       'VC_DATEMAILLAST', 'PX_WO_CR', 'ax_rfm_last_offline_purchase_date',\n",
       "       'PX_WO_CMD', 'VC_DATEGIFTLAST', 'ax_spose_income', 'VC_GIFTMAX1Y',\n",
       "       'PX_international_relief_CAG', 'PX_international_relief_CAG6MTH',\n",
       "       'ax_scuba_diving',\n",
       "       'ax_adult_age_ranges_present_in_household_unknown_gender_18_24',\n",
       "       'ax_childrens_age_ranges_present_in_hhld_reseller_age_00_02_female',\n",
       "       'ax_home_owner_type_detail_rp',\n",
       "       'ax_home_market_value_deciles_estimated_rp', 'ax_home_property_type_rp',\n",
       "       'PX_WO_PMD', 'ax_home_loan_date_3_rp_year', 'PX_WO_PR', 'ax_sex'],\n",
       "      dtype='object')"
      ]
     },
     "execution_count": 4,
     "metadata": {},
     "output_type": "execute_result"
    }
   ],
   "source": [
    "train_df.columns"
   ]
  },
  {
   "cell_type": "code",
   "execution_count": 5,
   "id": "5b16b2f7-2f10-4a83-a473-544469df2a4e",
   "metadata": {},
   "outputs": [
    {
     "data": {
      "text/plain": [
       "Index(['VC_DATERESP', 'VC_GIFT'], dtype='object')"
      ]
     },
     "execution_count": 5,
     "metadata": {},
     "output_type": "execute_result"
    }
   ],
   "source": [
    "train_df.columns[~train_df.columns.isin(test_df.columns)]\n",
    "# we will drop those columns to train our model since test dataset doesn't contain them"
   ]
  },
  {
   "cell_type": "markdown",
   "id": "1bc65f7d-f0e3-430d-903a-0c474c5e1fe8",
   "metadata": {},
   "source": [
    "## VC_DATERESP"
   ]
  },
  {
   "cell_type": "code",
   "execution_count": 6,
   "id": "26d6641e-dd94-4024-84b8-12dd2e88ef31",
   "metadata": {},
   "outputs": [],
   "source": [
    "# mask with those VCs that responded\n",
    "resp_mask = train_df['VC_DATERESP'].notna()"
   ]
  },
  {
   "cell_type": "code",
   "execution_count": 7,
   "id": "7d5d9b8d-c48d-4c30-9cb0-1591bd13cc52",
   "metadata": {},
   "outputs": [
    {
     "data": {
      "text/html": [
       "<div>\n",
       "<style scoped>\n",
       "    .dataframe tbody tr th:only-of-type {\n",
       "        vertical-align: middle;\n",
       "    }\n",
       "\n",
       "    .dataframe tbody tr th {\n",
       "        vertical-align: top;\n",
       "    }\n",
       "\n",
       "    .dataframe thead th {\n",
       "        text-align: right;\n",
       "    }\n",
       "</style>\n",
       "<table border=\"1\" class=\"dataframe\">\n",
       "  <thead>\n",
       "    <tr style=\"text-align: right;\">\n",
       "      <th></th>\n",
       "      <th>Unnamed: 0</th>\n",
       "      <th>VC_ID</th>\n",
       "      <th>VC_DATEMAIL</th>\n",
       "      <th>VC_DATERESP</th>\n",
       "      <th>VC_GIFT</th>\n",
       "      <th>VC_CATHA</th>\n",
       "      <th>VC_CATHMC</th>\n",
       "      <th>PX_WO_CRR</th>\n",
       "      <th>PX_WO_CRR6MTH</th>\n",
       "      <th>ax_donation_contribution_c</th>\n",
       "      <th>...</th>\n",
       "      <th>ax_scuba_diving</th>\n",
       "      <th>ax_adult_age_ranges_present_in_household_unknown_gender_18_24</th>\n",
       "      <th>ax_childrens_age_ranges_present_in_hhld_reseller_age_00_02_female</th>\n",
       "      <th>ax_home_owner_type_detail_rp</th>\n",
       "      <th>ax_home_market_value_deciles_estimated_rp</th>\n",
       "      <th>ax_home_property_type_rp</th>\n",
       "      <th>PX_WO_PMD</th>\n",
       "      <th>ax_home_loan_date_3_rp_year</th>\n",
       "      <th>PX_WO_PR</th>\n",
       "      <th>ax_sex</th>\n",
       "    </tr>\n",
       "  </thead>\n",
       "  <tbody>\n",
       "    <tr>\n",
       "      <th>29</th>\n",
       "      <td>29</td>\n",
       "      <td>317828196065</td>\n",
       "      <td>2013-01-05</td>\n",
       "      <td>2013-02-01</td>\n",
       "      <td>20.0</td>\n",
       "      <td>9</td>\n",
       "      <td>9</td>\n",
       "      <td>NaN</td>\n",
       "      <td>NaN</td>\n",
       "      <td>1.0</td>\n",
       "      <td>...</td>\n",
       "      <td>NaN</td>\n",
       "      <td>NaN</td>\n",
       "      <td>NaN</td>\n",
       "      <td>O</td>\n",
       "      <td>6.0</td>\n",
       "      <td>R</td>\n",
       "      <td>NaN</td>\n",
       "      <td>NaN</td>\n",
       "      <td>NaN</td>\n",
       "      <td>NaN</td>\n",
       "    </tr>\n",
       "    <tr>\n",
       "      <th>62</th>\n",
       "      <td>62</td>\n",
       "      <td>412317292523</td>\n",
       "      <td>2015-10-01</td>\n",
       "      <td>2015-11-30</td>\n",
       "      <td>5.0</td>\n",
       "      <td>2</td>\n",
       "      <td>2</td>\n",
       "      <td>0.0909</td>\n",
       "      <td>0.0909</td>\n",
       "      <td>NaN</td>\n",
       "      <td>...</td>\n",
       "      <td>NaN</td>\n",
       "      <td>NaN</td>\n",
       "      <td>NaN</td>\n",
       "      <td>O</td>\n",
       "      <td>5.0</td>\n",
       "      <td>R</td>\n",
       "      <td>2005-09-01</td>\n",
       "      <td>NaN</td>\n",
       "      <td>2006-08-22</td>\n",
       "      <td>0.0</td>\n",
       "    </tr>\n",
       "    <tr>\n",
       "      <th>64</th>\n",
       "      <td>64</td>\n",
       "      <td>412317315760</td>\n",
       "      <td>2015-07-16</td>\n",
       "      <td>2015-10-26</td>\n",
       "      <td>15.0</td>\n",
       "      <td>2</td>\n",
       "      <td>2</td>\n",
       "      <td>0.0000</td>\n",
       "      <td>0.0000</td>\n",
       "      <td>1.0</td>\n",
       "      <td>...</td>\n",
       "      <td>NaN</td>\n",
       "      <td>NaN</td>\n",
       "      <td>NaN</td>\n",
       "      <td>NaN</td>\n",
       "      <td>NaN</td>\n",
       "      <td>NaN</td>\n",
       "      <td>2008-06-02</td>\n",
       "      <td>NaN</td>\n",
       "      <td>NaN</td>\n",
       "      <td>NaN</td>\n",
       "    </tr>\n",
       "  </tbody>\n",
       "</table>\n",
       "<p>3 rows × 38 columns</p>\n",
       "</div>"
      ],
      "text/plain": [
       "    Unnamed: 0         VC_ID VC_DATEMAIL VC_DATERESP  VC_GIFT  VC_CATHA  \\\n",
       "29          29  317828196065  2013-01-05  2013-02-01     20.0         9   \n",
       "62          62  412317292523  2015-10-01  2015-11-30      5.0         2   \n",
       "64          64  412317315760  2015-07-16  2015-10-26     15.0         2   \n",
       "\n",
       "    VC_CATHMC  PX_WO_CRR  PX_WO_CRR6MTH  ax_donation_contribution_c  ...  \\\n",
       "29          9        NaN            NaN                         1.0  ...   \n",
       "62          2     0.0909         0.0909                         NaN  ...   \n",
       "64          2     0.0000         0.0000                         1.0  ...   \n",
       "\n",
       "    ax_scuba_diving  \\\n",
       "29              NaN   \n",
       "62              NaN   \n",
       "64              NaN   \n",
       "\n",
       "    ax_adult_age_ranges_present_in_household_unknown_gender_18_24  \\\n",
       "29                                                NaN               \n",
       "62                                                NaN               \n",
       "64                                                NaN               \n",
       "\n",
       "    ax_childrens_age_ranges_present_in_hhld_reseller_age_00_02_female  \\\n",
       "29                                                NaN                   \n",
       "62                                                NaN                   \n",
       "64                                                NaN                   \n",
       "\n",
       "    ax_home_owner_type_detail_rp ax_home_market_value_deciles_estimated_rp  \\\n",
       "29                             O                                       6.0   \n",
       "62                             O                                       5.0   \n",
       "64                           NaN                                       NaN   \n",
       "\n",
       "   ax_home_property_type_rp   PX_WO_PMD ax_home_loan_date_3_rp_year  \\\n",
       "29                        R         NaN                         NaN   \n",
       "62                        R  2005-09-01                         NaN   \n",
       "64                      NaN  2008-06-02                         NaN   \n",
       "\n",
       "      PX_WO_PR ax_sex  \n",
       "29         NaN    NaN  \n",
       "62  2006-08-22    0.0  \n",
       "64         NaN    NaN  \n",
       "\n",
       "[3 rows x 38 columns]"
      ]
     },
     "execution_count": 7,
     "metadata": {},
     "output_type": "execute_result"
    }
   ],
   "source": [
    "train_df.loc[resp_mask].head(3)"
   ]
  },
  {
   "cell_type": "code",
   "execution_count": 8,
   "id": "4583fd38-daec-4d5a-8b17-19e4a7bace0e",
   "metadata": {},
   "outputs": [],
   "source": [
    "train_df.drop(columns=['VC_DATERESP'], inplace=True)"
   ]
  },
  {
   "cell_type": "markdown",
   "id": "7ef11832-c270-4f6c-b1f5-83580c1ead91",
   "metadata": {},
   "source": [
    "## VC_CATHA and VC_CATHMC"
   ]
  },
  {
   "cell_type": "code",
   "execution_count": 9,
   "id": "cd2cbd42-5565-4134-9925-e85fc58bb5cc",
   "metadata": {},
   "outputs": [
    {
     "data": {
      "text/plain": [
       "<matplotlib.collections.PathCollection at 0x7ff360356b80>"
      ]
     },
     "execution_count": 9,
     "metadata": {},
     "output_type": "execute_result"
    },
    {
     "data": {
      "image/png": "[encoded data removed]",
      "text/plain": [
       "<Figure size 432x288 with 1 Axes>"
      ]
     },
     "metadata": {
      "needs_background": "light"
     },
     "output_type": "display_data"
    }
   ],
   "source": [
    "plt.scatter(train_df['VC_CATHA'], train_df['VC_CATHMC'])"
   ]
  },
  {
   "cell_type": "code",
   "execution_count": 10,
   "id": "6a8a2a9a-7cf2-47a5-822e-bee2ebf76e11",
   "metadata": {},
   "outputs": [
    {
     "data": {
      "text/html": [
       "<div>\n",
       "<style scoped>\n",
       "    .dataframe tbody tr th:only-of-type {\n",
       "        vertical-align: middle;\n",
       "    }\n",
       "\n",
       "    .dataframe tbody tr th {\n",
       "        vertical-align: top;\n",
       "    }\n",
       "\n",
       "    .dataframe thead th {\n",
       "        text-align: right;\n",
       "    }\n",
       "</style>\n",
       "<table border=\"1\" class=\"dataframe\">\n",
       "  <thead>\n",
       "    <tr style=\"text-align: right;\">\n",
       "      <th></th>\n",
       "      <th>VC_CATHA</th>\n",
       "      <th>VC_CATHMC</th>\n",
       "    </tr>\n",
       "  </thead>\n",
       "  <tbody>\n",
       "    <tr>\n",
       "      <th>VC_CATHA</th>\n",
       "      <td>1.000000</td>\n",
       "      <td>0.998353</td>\n",
       "    </tr>\n",
       "    <tr>\n",
       "      <th>VC_CATHMC</th>\n",
       "      <td>0.998353</td>\n",
       "      <td>1.000000</td>\n",
       "    </tr>\n",
       "  </tbody>\n",
       "</table>\n",
       "</div>"
      ],
      "text/plain": [
       "           VC_CATHA  VC_CATHMC\n",
       "VC_CATHA   1.000000   0.998353\n",
       "VC_CATHMC  0.998353   1.000000"
      ]
     },
     "execution_count": 10,
     "metadata": {},
     "output_type": "execute_result"
    }
   ],
   "source": [
    "train_df[['VC_CATHA', 'VC_CATHMC']].corr()"
   ]
  },
  {
   "cell_type": "code",
   "execution_count": 11,
   "id": "771afdac-861e-4d65-9493-72663b5cc28c",
   "metadata": {},
   "outputs": [],
   "source": [
    "# we can drop one of the columns since they are almost identical"
   ]
  },
  {
   "cell_type": "markdown",
   "id": "ee3fada4-e335-4556-afc2-1647e5385d36",
   "metadata": {},
   "source": [
    "## PX_WO_CRR and PX_WO_CRR6MTH are duplicates"
   ]
  },
  {
   "cell_type": "code",
   "execution_count": 12,
   "id": "3cd4b0af-29ba-4b1f-b6db-491f9b6fcfcc",
   "metadata": {
    "tags": []
   },
   "outputs": [
    {
     "data": {
      "text/plain": [
       "<matplotlib.collections.PathCollection at 0x7ff35425dc70>"
      ]
     },
     "execution_count": 12,
     "metadata": {},
     "output_type": "execute_result"
    },
    {
     "data": {
      "image/png": "[encoded data removed]",
      "text/plain": [
       "<Figure size 432x288 with 1 Axes>"
      ]
     },
     "metadata": {
      "needs_background": "light"
     },
     "output_type": "display_data"
    }
   ],
   "source": [
    "plt.scatter(train_df['PX_WO_CRR'], train_df['PX_WO_CRR6MTH'])"
   ]
  },
  {
   "cell_type": "code",
   "execution_count": 13,
   "id": "fe1e37e8-122b-4bf4-a43e-2fce2911873c",
   "metadata": {},
   "outputs": [
    {
     "data": {
      "text/html": [
       "<div>\n",
       "<style scoped>\n",
       "    .dataframe tbody tr th:only-of-type {\n",
       "        vertical-align: middle;\n",
       "    }\n",
       "\n",
       "    .dataframe tbody tr th {\n",
       "        vertical-align: top;\n",
       "    }\n",
       "\n",
       "    .dataframe thead th {\n",
       "        text-align: right;\n",
       "    }\n",
       "</style>\n",
       "<table border=\"1\" class=\"dataframe\">\n",
       "  <thead>\n",
       "    <tr style=\"text-align: right;\">\n",
       "      <th></th>\n",
       "      <th>PX_WO_CRR</th>\n",
       "      <th>PX_WO_CRR6MTH</th>\n",
       "    </tr>\n",
       "  </thead>\n",
       "  <tbody>\n",
       "    <tr>\n",
       "      <th>PX_WO_CRR</th>\n",
       "      <td>1.0</td>\n",
       "      <td>1.0</td>\n",
       "    </tr>\n",
       "    <tr>\n",
       "      <th>PX_WO_CRR6MTH</th>\n",
       "      <td>1.0</td>\n",
       "      <td>1.0</td>\n",
       "    </tr>\n",
       "  </tbody>\n",
       "</table>\n",
       "</div>"
      ],
      "text/plain": [
       "               PX_WO_CRR  PX_WO_CRR6MTH\n",
       "PX_WO_CRR            1.0            1.0\n",
       "PX_WO_CRR6MTH        1.0            1.0"
      ]
     },
     "execution_count": 13,
     "metadata": {},
     "output_type": "execute_result"
    }
   ],
   "source": [
    "train_df[['PX_WO_CRR', 'PX_WO_CRR6MTH']].corr()"
   ]
  },
  {
   "cell_type": "code",
   "execution_count": 14,
   "id": "367206c2-bc4f-4a2f-aa9d-ae3d134b06e2",
   "metadata": {
    "tags": []
   },
   "outputs": [
    {
     "data": {
      "text/html": [
       "<div>\n",
       "<style scoped>\n",
       "    .dataframe tbody tr th:only-of-type {\n",
       "        vertical-align: middle;\n",
       "    }\n",
       "\n",
       "    .dataframe tbody tr th {\n",
       "        vertical-align: top;\n",
       "    }\n",
       "\n",
       "    .dataframe thead th {\n",
       "        text-align: right;\n",
       "    }\n",
       "</style>\n",
       "<table border=\"1\" class=\"dataframe\">\n",
       "  <thead>\n",
       "    <tr style=\"text-align: right;\">\n",
       "      <th></th>\n",
       "      <th>PX_WO_CRR</th>\n",
       "      <th>PX_WO_CRR6MTH</th>\n",
       "    </tr>\n",
       "  </thead>\n",
       "  <tbody>\n",
       "    <tr>\n",
       "      <th>PX_WO_CRR</th>\n",
       "      <td>1.0</td>\n",
       "      <td>1.0</td>\n",
       "    </tr>\n",
       "    <tr>\n",
       "      <th>PX_WO_CRR6MTH</th>\n",
       "      <td>1.0</td>\n",
       "      <td>1.0</td>\n",
       "    </tr>\n",
       "  </tbody>\n",
       "</table>\n",
       "</div>"
      ],
      "text/plain": [
       "               PX_WO_CRR  PX_WO_CRR6MTH\n",
       "PX_WO_CRR            1.0            1.0\n",
       "PX_WO_CRR6MTH        1.0            1.0"
      ]
     },
     "execution_count": 14,
     "metadata": {},
     "output_type": "execute_result"
    }
   ],
   "source": [
    "test_df[['PX_WO_CRR', 'PX_WO_CRR6MTH']].corr()"
   ]
  },
  {
   "cell_type": "code",
   "execution_count": 15,
   "id": "daa4c82d-88a5-44e0-9fae-24133b4d2019",
   "metadata": {},
   "outputs": [],
   "source": [
    "# drop duplicated column\n",
    "train_df.drop(columns=['PX_WO_CRR6MTH'], inplace=True)\n",
    "test_df.drop(columns=['PX_WO_CRR6MTH'], inplace=True)"
   ]
  },
  {
   "cell_type": "code",
   "execution_count": 16,
   "id": "e66c3bfc-7b65-4df7-8281-8fbd87966c2c",
   "metadata": {},
   "outputs": [],
   "source": [
    "train_df['PX_WO_CRR'].fillna(train_df['PX_WO_CRR'].median(), inplace=True)\n",
    "test_df['PX_WO_CRR'].fillna(test_df['PX_WO_CRR'].median(), inplace=True)"
   ]
  },
  {
   "cell_type": "markdown",
   "id": "31769f1d-f02e-429f-abee-50de41cbd01c",
   "metadata": {},
   "source": [
    "## 'ax_donation_contribution_c' and other binary variables\n",
    "as we can see, 'ax_donation_contribution_c' is binary variable, so we can feel it with ones and zeros"
   ]
  },
  {
   "cell_type": "code",
   "execution_count": 17,
   "id": "fc8b7c71-3d77-4358-b790-05f51238e11b",
   "metadata": {},
   "outputs": [
    {
     "data": {
      "text/plain": [
       "(1.0    111858\n",
       " Name: ax_donation_contribution_c, dtype: int64,\n",
       " 1.0    28026\n",
       " Name: ax_donation_contribution_c, dtype: int64)"
      ]
     },
     "execution_count": 17,
     "metadata": {},
     "output_type": "execute_result"
    }
   ],
   "source": [
    "train_df['ax_donation_contribution_c'].value_counts(), test_df['ax_donation_contribution_c'].value_counts()"
   ]
  },
  {
   "cell_type": "code",
   "execution_count": 18,
   "id": "acb110b6-def4-47fa-b892-c82bda646da0",
   "metadata": {
    "tags": []
   },
   "outputs": [
    {
     "name": "stdout",
     "output_type": "stream",
     "text": [
      "200000 50000\n",
      "185518 49087\n",
      "23 23\n",
      "135 122\n",
      "142 126\n",
      "5001 3770\n",
      "1 1\n",
      "1 1\n",
      "1 1\n",
      "1 1\n",
      "1 1\n",
      "20 20\n",
      "20 20\n",
      "49 49\n",
      "28 28\n",
      "13 13\n",
      "571 449\n",
      "5013 3862\n",
      "4397 3387\n",
      "1984 1544\n",
      "5968 4454\n",
      "112438 32722\n",
      "60 37\n",
      "128 63\n",
      "128 63\n",
      "1 1\n",
      "1 1\n",
      "1 1\n",
      "2 2\n",
      "10 10\n",
      "3 3\n",
      "2455 1821\n",
      "2477 1607\n",
      "6712 5784\n",
      "2 2\n"
     ]
    }
   ],
   "source": [
    "# print the number of unique values in each column\n",
    "for col in test_df.columns:\n",
    "    print(len(train_df[col].value_counts()), len(test_df[col].value_counts()))"
   ]
  },
  {
   "cell_type": "code",
   "execution_count": 19,
   "id": "0a860f1c-f3c1-4fcb-a980-e4cdd0c7e196",
   "metadata": {},
   "outputs": [],
   "source": [
    "# if the number of unique values is 1, then the column is binary and we fill values with 1 and NaNs with 0 \n",
    "for col in test_df.columns:\n",
    "    if len(train_df[col].value_counts()) == 1 and len(test_df[col].value_counts()) == 1:\n",
    "        train_df[col] = train_df[col].apply(lambda x: 1 if x == x else 0)  # NaN isn't equal to itself\n",
    "        test_df[col] = test_df[col].apply(lambda x: 1 if x == x else 0)"
   ]
  },
  {
   "cell_type": "code",
   "execution_count": 20,
   "id": "8f389822-36a3-4d1d-a8c3-8468057b5dc0",
   "metadata": {},
   "outputs": [
    {
     "name": "stdout",
     "output_type": "stream",
     "text": [
      "200000 50000\n",
      "185518 49087\n",
      "23 23\n",
      "135 122\n",
      "142 126\n",
      "5001 3770\n",
      "2 2\n",
      "2 2\n",
      "2 2\n",
      "2 2\n",
      "2 2\n",
      "20 20\n",
      "20 20\n",
      "49 49\n",
      "28 28\n",
      "13 13\n",
      "571 449\n",
      "5013 3862\n",
      "4397 3387\n",
      "1984 1544\n",
      "5968 4454\n",
      "112438 32722\n",
      "60 37\n",
      "128 63\n",
      "128 63\n",
      "2 2\n",
      "2 2\n",
      "2 2\n",
      "2 2\n",
      "10 10\n",
      "3 3\n",
      "2455 1821\n",
      "2477 1607\n",
      "6712 5784\n",
      "2 2\n"
     ]
    }
   ],
   "source": [
    "# check the existence of binary NaNs\n",
    "for col in test_df.columns:\n",
    "    print(len(train_df[col].value_counts()), len(test_df[col].value_counts()))"
   ]
  },
  {
   "cell_type": "markdown",
   "id": "3f7059dd-6868-484d-8d68-f49b0ee35ae0",
   "metadata": {},
   "source": [
    "# Non-binary variables"
   ]
  },
  {
   "cell_type": "code",
   "execution_count": 21,
   "id": "6dc89a49-14a0-41c4-8740-b399e4d73dbc",
   "metadata": {},
   "outputs": [
    {
     "name": "stdout",
     "output_type": "stream",
     "text": [
      "Unnamed: 0\n",
      "VC_ID\n",
      "VC_DATEMAIL\n",
      "VC_CATHA\n",
      "VC_CATHMC\n",
      "PX_WO_CRR\n",
      "ax_rfm_total_offline_orders_under_50_range_rng\n",
      "ax_rfm_total_offline_orders_rng\n",
      "ax_personicx_digital_cluster\n",
      "ax_income_range_premium_sc\n",
      "ax_income_range_broad_sc\n",
      "VC_DATEMAILLAST\n",
      "PX_WO_CR\n",
      "ax_rfm_last_offline_purchase_date\n",
      "PX_WO_CMD\n",
      "VC_DATEGIFTLAST\n",
      "ax_spose_income\n",
      "VC_GIFTMAX1Y\n",
      "PX_international_relief_CAG\n",
      "PX_international_relief_CAG6MTH\n",
      "ax_home_owner_type_detail_rp\n",
      "ax_home_market_value_deciles_estimated_rp\n",
      "ax_home_property_type_rp\n",
      "PX_WO_PMD\n",
      "ax_home_loan_date_3_rp_year\n",
      "PX_WO_PR\n",
      "ax_sex\n"
     ]
    }
   ],
   "source": [
    "for col in test_df.columns:\n",
    "    if len(train_df[col].unique()) > 2 or len(test_df[col].unique()) > 2:\n",
    "        print(col)"
   ]
  },
  {
   "cell_type": "markdown",
   "id": "80b5ca72-b8f5-47dd-8bff-52e26559134b",
   "metadata": {},
   "source": [
    "## ax_rfm_total_offline_orders_under_50_range_rng"
   ]
  },
  {
   "cell_type": "code",
   "execution_count": 22,
   "id": "f3fd30ad-0227-4b1a-bf6c-a45c3b61cdf5",
   "metadata": {},
   "outputs": [
    {
     "data": {
      "text/plain": [
       "K    29141\n",
       "A    17677\n",
       "L    14121\n",
       "B    13238\n",
       "C    10118\n",
       "O     9125\n",
       "D     8595\n",
       "M     7877\n",
       "E     7613\n",
       "F     6685\n",
       "G     5831\n",
       "H     5505\n",
       "N     5130\n",
       "I     4879\n",
       "J     4486\n",
       "P     1913\n",
       "Q      642\n",
       "R      265\n",
       "T      163\n",
       "S       98\n",
       "Name: ax_rfm_total_offline_orders_under_50_range_rng, dtype: int64"
      ]
     },
     "execution_count": 22,
     "metadata": {},
     "output_type": "execute_result"
    }
   ],
   "source": [
    "train_df['ax_rfm_total_offline_orders_under_50_range_rng'].value_counts()"
   ]
  },
  {
   "cell_type": "code",
   "execution_count": 23,
   "id": "fd6206a7-dbf9-4738-bdbd-e2f8943aa7a3",
   "metadata": {},
   "outputs": [
    {
     "data": {
      "text/plain": [
       "46898"
      ]
     },
     "execution_count": 23,
     "metadata": {},
     "output_type": "execute_result"
    }
   ],
   "source": [
    "(~train_df['ax_rfm_total_offline_orders_under_50_range_rng'].notna()).sum()"
   ]
  },
  {
   "cell_type": "code",
   "execution_count": 24,
   "id": "e761c82a-acf9-46fc-969f-9d27304ce8f1",
   "metadata": {},
   "outputs": [],
   "source": [
    "# there are a lot of NaNs (~2 times more than the most frequent value), so we should fill them with a unique value\n",
    "train_df['ax_rfm_total_offline_orders_under_50_range_rng'].fillna('_NaN', inplace=True)\n",
    "test_df['ax_rfm_total_offline_orders_under_50_range_rng'].fillna('_NaN', inplace=True)"
   ]
  },
  {
   "cell_type": "markdown",
   "id": "e1459aac-b30b-4665-b08f-4dbfd2ad35a4",
   "metadata": {},
   "source": [
    "## ax_rfm_total_offline_orders_rng"
   ]
  },
  {
   "cell_type": "code",
   "execution_count": 25,
   "id": "65c4f66c-9ee4-4600-b1ea-ada8fad04249",
   "metadata": {},
   "outputs": [
    {
     "data": {
      "text/plain": [
       "K    31357\n",
       "L    16727\n",
       "O    13079\n",
       "A    13019\n",
       "B    11840\n",
       "M     9842\n",
       "C     8719\n",
       "D     7778\n",
       "N     6766\n",
       "E     6650\n",
       "F     6351\n",
       "G     5565\n",
       "H     5267\n",
       "I     4925\n",
       "J     4487\n",
       "P     3146\n",
       "Q     1024\n",
       "R      434\n",
       "T      267\n",
       "S      223\n",
       "Name: ax_rfm_total_offline_orders_rng, dtype: int64"
      ]
     },
     "execution_count": 25,
     "metadata": {},
     "output_type": "execute_result"
    }
   ],
   "source": [
    "train_df['ax_rfm_total_offline_orders_rng'].value_counts()"
   ]
  },
  {
   "cell_type": "code",
   "execution_count": 26,
   "id": "c8a2a22d-c2ff-4b8a-9940-a1c0815ac1bf",
   "metadata": {},
   "outputs": [
    {
     "data": {
      "text/plain": [
       "42534"
      ]
     },
     "execution_count": 26,
     "metadata": {},
     "output_type": "execute_result"
    }
   ],
   "source": [
    "(~train_df['ax_rfm_total_offline_orders_rng'].notna()).sum()"
   ]
  },
  {
   "cell_type": "code",
   "execution_count": 27,
   "id": "0a259de5-294f-4c36-952a-9e2838e68c00",
   "metadata": {},
   "outputs": [],
   "source": [
    "# there are a lot of NaNs (~2 times more than the most frequent value), so we should fill them with a unique value\n",
    "train_df['ax_rfm_total_offline_orders_rng'].fillna('_NaN', inplace=True)\n",
    "test_df['ax_rfm_total_offline_orders_rng'].fillna('_NaN', inplace=True)"
   ]
  },
  {
   "cell_type": "markdown",
   "id": "8873f5a4-ec3a-43a8-af74-8fbaa59dc8a6",
   "metadata": {},
   "source": [
    "## ax_personicx_digital_cluster"
   ]
  },
  {
   "cell_type": "code",
   "execution_count": 28,
   "id": "0343cb24-75ac-4f14-a802-457038e53f23",
   "metadata": {},
   "outputs": [
    {
     "data": {
      "text/plain": [
       "0"
      ]
     },
     "execution_count": 28,
     "metadata": {},
     "output_type": "execute_result"
    }
   ],
   "source": [
    "train_df['ax_personicx_digital_cluster'].isna().sum()"
   ]
  },
  {
   "cell_type": "markdown",
   "id": "ccb22a97-9518-426e-8532-8ee7593bd406",
   "metadata": {},
   "source": [
    "## ax_income_range_premium_sc"
   ]
  },
  {
   "cell_type": "code",
   "execution_count": 29,
   "id": "a17d6ab8-f929-47c1-a2f4-a14bf5db3948",
   "metadata": {},
   "outputs": [
    {
     "data": {
      "text/plain": [
       "A    29643\n",
       "D    23649\n",
       "F    17970\n",
       "C    16235\n",
       "1    14853\n",
       "E    12207\n",
       "2    11850\n",
       "G    10692\n",
       "N     9607\n",
       "K     8465\n",
       "H     6481\n",
       "J     6343\n",
       "B     6043\n",
       "I     5940\n",
       "L     4148\n",
       "O     3104\n",
       "M     2757\n",
       "P     1120\n",
       "T      903\n",
       "U      858\n",
       "R      857\n",
       "S      729\n",
       "Y      444\n",
       "X      441\n",
       "V      413\n",
       "Q      348\n",
       "W      209\n",
       "Z      141\n",
       "Name: ax_income_range_premium_sc, dtype: int64"
      ]
     },
     "execution_count": 29,
     "metadata": {},
     "output_type": "execute_result"
    }
   ],
   "source": [
    "train_df['ax_income_range_premium_sc'].value_counts()"
   ]
  },
  {
   "cell_type": "code",
   "execution_count": 30,
   "id": "b25827a0-9b2d-4b9d-a674-a471ce3116c3",
   "metadata": {},
   "outputs": [
    {
     "data": {
      "text/plain": [
       "3550"
      ]
     },
     "execution_count": 30,
     "metadata": {},
     "output_type": "execute_result"
    }
   ],
   "source": [
    "(train_df['ax_income_range_premium_sc'].isna()).sum()"
   ]
  },
  {
   "cell_type": "code",
   "execution_count": 31,
   "id": "2834be78-88c6-4acd-b397-f46eebf6e39e",
   "metadata": {},
   "outputs": [
    {
     "data": {
      "text/plain": [
       "938"
      ]
     },
     "execution_count": 31,
     "metadata": {},
     "output_type": "execute_result"
    }
   ],
   "source": [
    "(test_df['ax_income_range_premium_sc'].isna()).sum()"
   ]
  },
  {
   "cell_type": "code",
   "execution_count": 32,
   "id": "a8baf3a8-99a6-4d37-8426-4cf79dc17172",
   "metadata": {},
   "outputs": [],
   "source": [
    "# we can fill NaNs with the most frequent value -- 'A'\n",
    "train_df['ax_income_range_premium_sc'].fillna('A', inplace=True)\n",
    "test_df['ax_income_range_premium_sc'].fillna('A', inplace=True)"
   ]
  },
  {
   "cell_type": "markdown",
   "id": "9728408d-8a9f-44e8-9146-785f23805489",
   "metadata": {},
   "source": [
    "## ax_income_range_broad_sc"
   ]
  },
  {
   "cell_type": "code",
   "execution_count": 33,
   "id": "acf56c99-199b-45fa-b896-250a287146c6",
   "metadata": {},
   "outputs": [
    {
     "data": {
      "text/plain": [
       "3347"
      ]
     },
     "execution_count": 33,
     "metadata": {},
     "output_type": "execute_result"
    }
   ],
   "source": [
    "(train_df['ax_income_range_broad_sc'].isna()).sum()"
   ]
  },
  {
   "cell_type": "code",
   "execution_count": 34,
   "id": "ae6091c4-07e6-4f48-98f1-17cc6ed08180",
   "metadata": {},
   "outputs": [
    {
     "data": {
      "text/plain": [
       "882"
      ]
     },
     "execution_count": 34,
     "metadata": {},
     "output_type": "execute_result"
    }
   ],
   "source": [
    "(test_df['ax_income_range_broad_sc'].isna()).sum()"
   ]
  },
  {
   "cell_type": "code",
   "execution_count": 35,
   "id": "8c290d63-1a59-4eb9-9d39-dab0a93b1ce5",
   "metadata": {},
   "outputs": [
    {
     "data": {
      "text/plain": [
       "A    58043\n",
       "E    24436\n",
       "F    23282\n",
       "D    22278\n",
       "G    18670\n",
       "C    15116\n",
       "I    12548\n",
       "H     9965\n",
       "B     5697\n",
       "M     1807\n",
       "L     1757\n",
       "K     1595\n",
       "J     1459\n",
       "Name: ax_income_range_broad_sc, dtype: int64"
      ]
     },
     "execution_count": 35,
     "metadata": {},
     "output_type": "execute_result"
    }
   ],
   "source": [
    "train_df['ax_income_range_broad_sc'].value_counts()"
   ]
  },
  {
   "cell_type": "code",
   "execution_count": 36,
   "id": "3552481d-1347-4243-89ac-010edaa8a527",
   "metadata": {},
   "outputs": [],
   "source": [
    "# we can fill NaNs with the most frequent value -- 'A'\n",
    "train_df['ax_income_range_broad_sc'].fillna('A', inplace=True)\n",
    "test_df['ax_income_range_broad_sc'].fillna('A', inplace=True)"
   ]
  },
  {
   "cell_type": "markdown",
   "id": "180b95d1-9e7e-4055-add8-a06057c9cd3e",
   "metadata": {},
   "source": [
    "## VC_DATEMAILLAST"
   ]
  },
  {
   "cell_type": "code",
   "execution_count": 37,
   "id": "61a4ff46-a365-42a3-b57d-6f9635288bf3",
   "metadata": {},
   "outputs": [
    {
     "data": {
      "text/plain": [
       "(1451, 328)"
      ]
     },
     "execution_count": 37,
     "metadata": {},
     "output_type": "execute_result"
    }
   ],
   "source": [
    "train_df['VC_DATEMAILLAST'].isna().sum(), test_df['VC_DATEMAILLAST'].isna().sum()"
   ]
  },
  {
   "cell_type": "code",
   "execution_count": 38,
   "id": "824721b9-a9e8-42b1-b05e-9bfa70af4fbc",
   "metadata": {},
   "outputs": [],
   "source": [
    "# create new column with days since the last DATEMAIL!!!\n",
    "max_day = max(pd.to_datetime(train_df['VC_DATEMAIL']).max(), pd.to_datetime(test_df['VC_DATEMAIL']).max())\n",
    "\n",
    "train_df['last_mail_days'] = max_day - pd.to_datetime(train_df['VC_DATEMAILLAST'])\n",
    "test_df['last_mail_days'] = max_day - pd.to_datetime(test_df['VC_DATEMAILLAST'])"
   ]
  },
  {
   "cell_type": "code",
   "execution_count": 39,
   "id": "8e17b2af-d081-4efc-b323-dc0aff8b4f29",
   "metadata": {},
   "outputs": [],
   "source": [
    "train_df['last_mail_days'] = train_df['last_mail_days'].dt.days\n",
    "test_df['last_mail_days'] = test_df['last_mail_days'].dt.days"
   ]
  },
  {
   "cell_type": "code",
   "execution_count": 40,
   "id": "e1be0fba-5125-4efd-a771-374f1adea24f",
   "metadata": {},
   "outputs": [
    {
     "data": {
      "text/plain": [
       "(1451, 328)"
      ]
     },
     "execution_count": 40,
     "metadata": {},
     "output_type": "execute_result"
    }
   ],
   "source": [
    "train_df['last_mail_days'].isna().sum(), test_df['last_mail_days'].isna().sum()"
   ]
  },
  {
   "cell_type": "code",
   "execution_count": 41,
   "id": "6da7001b-8510-4cfe-b49c-117867113263",
   "metadata": {},
   "outputs": [],
   "source": [
    "train_df['last_mail_days'].fillna(0, inplace=True)\n",
    "test_df['last_mail_days'].fillna(0, inplace=True)"
   ]
  },
  {
   "cell_type": "markdown",
   "id": "e10b3084-9b44-4d90-a36a-ba02685f8e06",
   "metadata": {},
   "source": [
    "## PX_WO_CR"
   ]
  },
  {
   "cell_type": "code",
   "execution_count": 42,
   "id": "b94912a8-a2ed-4d6c-bbeb-cba711981c02",
   "metadata": {},
   "outputs": [
    {
     "data": {
      "text/plain": [
       "38409"
      ]
     },
     "execution_count": 42,
     "metadata": {},
     "output_type": "execute_result"
    }
   ],
   "source": [
    "(train_df['PX_WO_CR'].isna()).sum()"
   ]
  },
  {
   "cell_type": "code",
   "execution_count": 43,
   "id": "0f475ec9-294a-497c-ae9e-251061bde64a",
   "metadata": {},
   "outputs": [
    {
     "data": {
      "text/plain": [
       "0    2011-08-04\n",
       "1    2016-06-30\n",
       "2    2016-03-17\n",
       "3    2016-09-19\n",
       "4    2011-05-09\n",
       "Name: PX_WO_CR, dtype: object"
      ]
     },
     "execution_count": 43,
     "metadata": {},
     "output_type": "execute_result"
    }
   ],
   "source": [
    "train_df['PX_WO_CR'].head()"
   ]
  },
  {
   "cell_type": "code",
   "execution_count": 44,
   "id": "738611be-1285-445a-bef0-d166896b721b",
   "metadata": {},
   "outputs": [],
   "source": [
    "train_df['PX_WO_CR_days'] = max_day - pd.to_datetime(train_df['PX_WO_CR'])\n",
    "test_df['PX_WO_CR_days'] = max_day - pd.to_datetime(test_df['PX_WO_CR'])"
   ]
  },
  {
   "cell_type": "code",
   "execution_count": 45,
   "id": "eff720c8-76c0-49c8-bc08-f6e32c38d240",
   "metadata": {},
   "outputs": [],
   "source": [
    "train_df['PX_WO_CR_days'] = train_df['PX_WO_CR_days'].dt.days\n",
    "test_df['PX_WO_CR_days'] = test_df['PX_WO_CR_days'].dt.days"
   ]
  },
  {
   "cell_type": "code",
   "execution_count": 46,
   "id": "c1ee0d6a-5b68-4f22-bc6d-16e6d3ebf52b",
   "metadata": {},
   "outputs": [],
   "source": [
    "train_df['PX_WO_CR_days'].fillna(0, inplace=True)\n",
    "test_df['PX_WO_CR_days'].fillna(0, inplace=True)"
   ]
  },
  {
   "cell_type": "markdown",
   "id": "a05badd6-867f-418a-a7a8-0e8ae1d0b97f",
   "metadata": {},
   "source": [
    "## ax_rfm_last_offline_purchase_date"
   ]
  },
  {
   "cell_type": "code",
   "execution_count": 47,
   "id": "068f00a7-e022-43dd-bb56-b71f56d4e8bc",
   "metadata": {},
   "outputs": [
    {
     "data": {
      "text/plain": [
       "15383"
      ]
     },
     "execution_count": 47,
     "metadata": {},
     "output_type": "execute_result"
    }
   ],
   "source": [
    "(train_df['ax_rfm_last_offline_purchase_date'].isna()).sum()"
   ]
  },
  {
   "cell_type": "code",
   "execution_count": 48,
   "id": "1dd6df92-2dcb-47c5-802a-2f7a66a680c7",
   "metadata": {},
   "outputs": [
    {
     "data": {
      "text/plain": [
       "0    2018-01-02\n",
       "1    2017-01-27\n",
       "2           NaN\n",
       "3    2018-04-20\n",
       "4    2017-08-12\n",
       "Name: ax_rfm_last_offline_purchase_date, dtype: object"
      ]
     },
     "execution_count": 48,
     "metadata": {},
     "output_type": "execute_result"
    }
   ],
   "source": [
    "train_df['ax_rfm_last_offline_purchase_date'].head()"
   ]
  },
  {
   "cell_type": "code",
   "execution_count": 49,
   "id": "9f5c0a8e-74b2-4ca0-8514-7e4b1930c58f",
   "metadata": {},
   "outputs": [],
   "source": [
    "train_df['ax_rfm_last_offline_purchase_date'] = max_day - pd.to_datetime(train_df['ax_rfm_last_offline_purchase_date'])\n",
    "test_df['ax_rfm_last_offline_purchase_date'] = max_day - pd.to_datetime(test_df['ax_rfm_last_offline_purchase_date'])"
   ]
  },
  {
   "cell_type": "code",
   "execution_count": 50,
   "id": "e2b4d315-095e-4831-8d2a-a9062ad9050d",
   "metadata": {},
   "outputs": [],
   "source": [
    "train_df['ax_rfm_last_offline_purchase_date'] = train_df['ax_rfm_last_offline_purchase_date'].dt.days\n",
    "test_df['ax_rfm_last_offline_purchase_date'] = test_df['ax_rfm_last_offline_purchase_date'].dt.days"
   ]
  },
  {
   "cell_type": "code",
   "execution_count": 51,
   "id": "1a12312d-5400-440c-b91b-0527932a833a",
   "metadata": {},
   "outputs": [],
   "source": [
    "train_df['ax_rfm_last_offline_purchase_date'].fillna(0, inplace=True)\n",
    "test_df['ax_rfm_last_offline_purchase_date'].fillna(0, inplace=True)"
   ]
  },
  {
   "cell_type": "markdown",
   "id": "9432c579-86d3-4c07-b22a-58744f9369f5",
   "metadata": {},
   "source": [
    "## PX_WO_CMD"
   ]
  },
  {
   "cell_type": "code",
   "execution_count": 52,
   "id": "2f153843-2453-4d94-bd17-05c1f308756d",
   "metadata": {},
   "outputs": [
    {
     "data": {
      "text/plain": [
       "11572"
      ]
     },
     "execution_count": 52,
     "metadata": {},
     "output_type": "execute_result"
    }
   ],
   "source": [
    "(train_df['PX_WO_CMD'].isna()).sum()"
   ]
  },
  {
   "cell_type": "code",
   "execution_count": 53,
   "id": "793ade41-c2c3-4045-a125-ddb5942405fc",
   "metadata": {},
   "outputs": [
    {
     "data": {
      "text/plain": [
       "0    2012-07-03\n",
       "1    2017-07-05\n",
       "2    2016-11-22\n",
       "3    2017-07-21\n",
       "4    2012-08-03\n",
       "Name: PX_WO_CMD, dtype: object"
      ]
     },
     "execution_count": 53,
     "metadata": {},
     "output_type": "execute_result"
    }
   ],
   "source": [
    "train_df['PX_WO_CMD'].head()"
   ]
  },
  {
   "cell_type": "code",
   "execution_count": 54,
   "id": "a8adfb64-f64a-4a25-a6bb-8925edb12a28",
   "metadata": {},
   "outputs": [],
   "source": [
    "train_df['PX_WO_CMD'] = max_day - pd.to_datetime(train_df['PX_WO_CMD'])\n",
    "test_df['PX_WO_CMD'] = max_day - pd.to_datetime(test_df['PX_WO_CMD'])"
   ]
  },
  {
   "cell_type": "code",
   "execution_count": 55,
   "id": "65bd1978-a1b6-4b9a-90e3-a1afd39ea278",
   "metadata": {},
   "outputs": [],
   "source": [
    "train_df['PX_WO_CMD'] = train_df['PX_WO_CMD'].dt.days\n",
    "test_df['PX_WO_CMD'] = test_df['PX_WO_CMD'].dt.days"
   ]
  },
  {
   "cell_type": "code",
   "execution_count": 56,
   "id": "88a1d6c6-7b2f-4126-abb8-47053dff9e4a",
   "metadata": {},
   "outputs": [],
   "source": [
    "train_df['PX_WO_CMD'].fillna(0, inplace=True)\n",
    "test_df['PX_WO_CMD'].fillna(0, inplace=True)"
   ]
  },
  {
   "cell_type": "code",
   "execution_count": 57,
   "id": "8cd93ed9-30db-4837-bef3-30326be25cd6",
   "metadata": {},
   "outputs": [
    {
     "data": {
      "text/plain": [
       "0    2117.0\n",
       "1     289.0\n",
       "2     514.0\n",
       "3     273.0\n",
       "4    2086.0\n",
       "Name: PX_WO_CMD, dtype: float64"
      ]
     },
     "execution_count": 57,
     "metadata": {},
     "output_type": "execute_result"
    }
   ],
   "source": [
    "train_df['PX_WO_CMD'].head()"
   ]
  },
  {
   "cell_type": "markdown",
   "id": "0b3cd86a-2922-4469-ae02-33c5f86117d0",
   "metadata": {},
   "source": [
    "## VC_DATEGIFTLAST"
   ]
  },
  {
   "cell_type": "code",
   "execution_count": 58,
   "id": "80632d2a-36d2-4791-97c0-8686eebba822",
   "metadata": {},
   "outputs": [
    {
     "data": {
      "text/plain": [
       "61500"
      ]
     },
     "execution_count": 58,
     "metadata": {},
     "output_type": "execute_result"
    }
   ],
   "source": [
    "(train_df['VC_DATEGIFTLAST'].isna()).sum()"
   ]
  },
  {
   "cell_type": "code",
   "execution_count": 59,
   "id": "1e498304-0752-48b5-8bf8-8b15a8f11b03",
   "metadata": {},
   "outputs": [
    {
     "data": {
      "text/plain": [
       "0    2010-12-22\n",
       "1           NaN\n",
       "2    2014-09-30\n",
       "3    2015-08-19\n",
       "4    2010-03-16\n",
       "Name: VC_DATEGIFTLAST, dtype: object"
      ]
     },
     "execution_count": 59,
     "metadata": {},
     "output_type": "execute_result"
    }
   ],
   "source": [
    "train_df['VC_DATEGIFTLAST'].head()"
   ]
  },
  {
   "cell_type": "code",
   "execution_count": 60,
   "id": "51dd71fe-e75d-48c0-b382-efd790fd8c31",
   "metadata": {},
   "outputs": [],
   "source": [
    "train_df['VC_DATEGIFTLAST'] = max_day - pd.to_datetime(train_df['VC_DATEGIFTLAST'])\n",
    "test_df['VC_DATEGIFTLAST'] = max_day - pd.to_datetime(test_df['VC_DATEGIFTLAST'])"
   ]
  },
  {
   "cell_type": "code",
   "execution_count": 61,
   "id": "42f2ff13-7f66-4892-8a8f-ed3657791ee5",
   "metadata": {},
   "outputs": [],
   "source": [
    "train_df['VC_DATEGIFTLAST'] = train_df['VC_DATEGIFTLAST'].dt.days\n",
    "test_df['VC_DATEGIFTLAST'] = test_df['VC_DATEGIFTLAST'].dt.days"
   ]
  },
  {
   "cell_type": "code",
   "execution_count": 62,
   "id": "bf670dff-2bb4-4d4e-b95a-1d81e22d16c4",
   "metadata": {},
   "outputs": [],
   "source": [
    "train_df['VC_DATEGIFTLAST'].fillna(0, inplace=True)\n",
    "test_df['VC_DATEGIFTLAST'].fillna(0, inplace=True)"
   ]
  },
  {
   "cell_type": "markdown",
   "id": "6531245d-25e3-4f17-bf88-04b38be7edaf",
   "metadata": {},
   "source": [
    "## ax_spose_income\n"
   ]
  },
  {
   "cell_type": "code",
   "execution_count": 63,
   "id": "971cccd3-c1e3-4789-a550-512666f2f983",
   "metadata": {},
   "outputs": [
    {
     "data": {
      "text/plain": [
       "61949"
      ]
     },
     "execution_count": 63,
     "metadata": {},
     "output_type": "execute_result"
    }
   ],
   "source": [
    "(train_df['ax_spose_income'].isna()).sum()"
   ]
  },
  {
   "cell_type": "code",
   "execution_count": 64,
   "id": "5be77d8d-4fc7-4e78-a2e0-10005b9f779b",
   "metadata": {},
   "outputs": [
    {
     "data": {
      "text/plain": [
       "0    419196.262254\n",
       "1              NaN\n",
       "2     95485.609475\n",
       "3    624150.039045\n",
       "4              NaN\n",
       "Name: ax_spose_income, dtype: float64"
      ]
     },
     "execution_count": 64,
     "metadata": {},
     "output_type": "execute_result"
    }
   ],
   "source": [
    "train_df['ax_spose_income'].head()"
   ]
  },
  {
   "cell_type": "code",
   "execution_count": 65,
   "id": "b9047cad-1669-4cd9-b4dd-803b91475b80",
   "metadata": {},
   "outputs": [
    {
     "data": {
      "text/plain": [
       "-127091.260742"
      ]
     },
     "execution_count": 65,
     "metadata": {},
     "output_type": "execute_result"
    }
   ],
   "source": [
    "train_df['ax_spose_income'].min()"
   ]
  },
  {
   "cell_type": "code",
   "execution_count": 66,
   "id": "018a6d8b-e77b-470c-ba8d-d4afdcc0f2d4",
   "metadata": {},
   "outputs": [
    {
     "data": {
      "text/plain": [
       "190590   -127091.260742\n",
       "108847   -112676.908106\n",
       "30010    -112676.908106\n",
       "124531    -99331.001222\n",
       "178621    -91163.715492\n",
       "31216     -90249.185878\n",
       "7007      -87046.565371\n",
       "74483     -77501.734791\n",
       "51416     -65497.519236\n",
       "153335    -65497.519236\n",
       "Name: ax_spose_income, dtype: float64"
      ]
     },
     "execution_count": 66,
     "metadata": {},
     "output_type": "execute_result"
    }
   ],
   "source": [
    "train_df['ax_spose_income'].sort_values().head(10)"
   ]
  },
  {
   "cell_type": "code",
   "execution_count": 67,
   "id": "6c7ef4b7-d897-4af4-ac3f-ba0f1f2879c9",
   "metadata": {},
   "outputs": [
    {
     "data": {
      "text/plain": [
       "5351    -127091.260742\n",
       "43642   -113007.869447\n",
       "3033     -91163.715492\n",
       "32614    -58310.472215\n",
       "5245     -54589.188995\n",
       "26880    -48986.347361\n",
       "43602    -39960.299670\n",
       "24283    -38564.714704\n",
       "47268    -14926.748381\n",
       "16202    -12024.908776\n",
       "Name: ax_spose_income, dtype: float64"
      ]
     },
     "execution_count": 67,
     "metadata": {},
     "output_type": "execute_result"
    }
   ],
   "source": [
    "test_df['ax_spose_income'].sort_values().head(10)"
   ]
  },
  {
   "cell_type": "code",
   "execution_count": 68,
   "id": "a058249d-f64b-4d75-a498-b70e83e3a917",
   "metadata": {},
   "outputs": [
    {
     "data": {
      "text/plain": [
       "102"
      ]
     },
     "execution_count": 68,
     "metadata": {},
     "output_type": "execute_result"
    }
   ],
   "source": [
    "len(train_df[train_df['ax_spose_income'] < 0])"
   ]
  },
  {
   "cell_type": "code",
   "execution_count": 69,
   "id": "60f6795f-7a47-4516-8210-94aa6212f73b",
   "metadata": {},
   "outputs": [
    {
     "data": {
      "text/plain": [
       "22"
      ]
     },
     "execution_count": 69,
     "metadata": {},
     "output_type": "execute_result"
    }
   ],
   "source": [
    "len(test_df[test_df['ax_spose_income'] < 0])"
   ]
  },
  {
   "cell_type": "code",
   "execution_count": 70,
   "id": "781d517c-a0fa-43f8-8ead-b33e02ca2ebf",
   "metadata": {},
   "outputs": [],
   "source": [
    "inc_med = train_df['ax_spose_income'].median()\n",
    "train_df['ax_spose_income'].fillna(inc_med, inplace=True)\n",
    "test_df['ax_spose_income'].fillna(inc_med, inplace=True)"
   ]
  },
  {
   "cell_type": "markdown",
   "id": "0b8416ef-6fdf-43c3-9d7d-a3d060b663a4",
   "metadata": {},
   "source": [
    "## VC_GIFTMAX1Y\n"
   ]
  },
  {
   "cell_type": "code",
   "execution_count": 71,
   "id": "1827b4f3-c367-470c-8ca0-9d41bae3f33a",
   "metadata": {},
   "outputs": [
    {
     "data": {
      "text/plain": [
       "193713"
      ]
     },
     "execution_count": 71,
     "metadata": {},
     "output_type": "execute_result"
    }
   ],
   "source": [
    "(train_df['VC_GIFTMAX1Y'].isna()).sum()"
   ]
  },
  {
   "cell_type": "code",
   "execution_count": 72,
   "id": "8055562e-44ef-460c-b6e4-e485a0d41ca6",
   "metadata": {},
   "outputs": [
    {
     "data": {
      "text/plain": [
       "1.0"
      ]
     },
     "execution_count": 72,
     "metadata": {},
     "output_type": "execute_result"
    }
   ],
   "source": [
    "train_df['VC_GIFTMAX1Y'].min()"
   ]
  },
  {
   "cell_type": "code",
   "execution_count": 73,
   "id": "6d7f6d31-b97e-4907-8606-801b5c00c4ae",
   "metadata": {},
   "outputs": [
    {
     "data": {
      "text/plain": [
       "34     25.0\n",
       "48     20.0\n",
       "65     50.0\n",
       "84     15.0\n",
       "117    20.0\n",
       "Name: VC_GIFTMAX1Y, dtype: float64"
      ]
     },
     "execution_count": 73,
     "metadata": {},
     "output_type": "execute_result"
    }
   ],
   "source": [
    "train_df[train_df['VC_GIFTMAX1Y'].notna()]['VC_GIFTMAX1Y'].head()"
   ]
  },
  {
   "cell_type": "code",
   "execution_count": 74,
   "id": "409e2d0f-5d91-4512-b9fa-0affd4c0b966",
   "metadata": {},
   "outputs": [],
   "source": [
    "train_df['VC_GIFTMAX1Y'].fillna(0, inplace=True)\n",
    "test_df['VC_GIFTMAX1Y'].fillna(0, inplace=True)"
   ]
  },
  {
   "cell_type": "markdown",
   "id": "1199480e-10b6-492b-893d-ef317c9c0122",
   "metadata": {},
   "source": [
    "## PX_international_relief_CAG\n"
   ]
  },
  {
   "cell_type": "code",
   "execution_count": 75,
   "id": "0cca0d79-13cb-4086-b139-209548b3260e",
   "metadata": {},
   "outputs": [
    {
     "data": {
      "text/plain": [
       "196739"
      ]
     },
     "execution_count": 75,
     "metadata": {},
     "output_type": "execute_result"
    }
   ],
   "source": [
    "(train_df['PX_international_relief_CAG'].isna()).sum()"
   ]
  },
  {
   "cell_type": "code",
   "execution_count": 76,
   "id": "f4f63400-0c07-418a-84da-56f524e7e083",
   "metadata": {},
   "outputs": [
    {
     "data": {
      "text/plain": [
       "25    43.26\n",
       "38    12.50\n",
       "40     2.00\n",
       "49    10.00\n",
       "77     5.00\n",
       "Name: PX_international_relief_CAG, dtype: float64"
      ]
     },
     "execution_count": 76,
     "metadata": {},
     "output_type": "execute_result"
    }
   ],
   "source": [
    "train_df[train_df['PX_international_relief_CAG'].notna()]['PX_international_relief_CAG'].head()"
   ]
  },
  {
   "cell_type": "code",
   "execution_count": 77,
   "id": "a7252a81-54fe-4e0c-a30c-b79c8d0df344",
   "metadata": {},
   "outputs": [
    {
     "data": {
      "text/plain": [
       "0.4"
      ]
     },
     "execution_count": 77,
     "metadata": {},
     "output_type": "execute_result"
    }
   ],
   "source": [
    "test_df['PX_international_relief_CAG'].min()"
   ]
  },
  {
   "cell_type": "code",
   "execution_count": 78,
   "id": "42431518-114d-48e2-9c3d-374e17a126f7",
   "metadata": {},
   "outputs": [],
   "source": [
    "train_df['PX_international_relief_CAG'].fillna(0, inplace=True)\n",
    "test_df['PX_international_relief_CAG'].fillna(0, inplace=True)"
   ]
  },
  {
   "cell_type": "markdown",
   "id": "139a0ad2-1504-4ad0-965b-7eca22bb906e",
   "metadata": {},
   "source": [
    "## PX_international_relief_CAG6MTH\n"
   ]
  },
  {
   "cell_type": "code",
   "execution_count": 79,
   "id": "a28ef9c3-0a88-4f9a-a55f-4eba7acaf2ab",
   "metadata": {},
   "outputs": [
    {
     "data": {
      "text/plain": [
       "196739"
      ]
     },
     "execution_count": 79,
     "metadata": {},
     "output_type": "execute_result"
    }
   ],
   "source": [
    "(train_df['PX_international_relief_CAG6MTH'].isna()).sum()"
   ]
  },
  {
   "cell_type": "code",
   "execution_count": 80,
   "id": "1a196f1e-22b1-4344-a64c-84788fe4e17d",
   "metadata": {},
   "outputs": [
    {
     "data": {
      "text/plain": [
       "25    43.26\n",
       "38    12.50\n",
       "40     2.00\n",
       "49    10.00\n",
       "77     5.00\n",
       "Name: PX_international_relief_CAG, dtype: float64"
      ]
     },
     "execution_count": 80,
     "metadata": {},
     "output_type": "execute_result"
    }
   ],
   "source": [
    "train_df[train_df['PX_international_relief_CAG6MTH'].notna()]['PX_international_relief_CAG'].head()"
   ]
  },
  {
   "cell_type": "code",
   "execution_count": 81,
   "id": "1a420f36-7eb2-4434-aa0a-ceab43fe87da",
   "metadata": {},
   "outputs": [
    {
     "data": {
      "text/html": [
       "<div>\n",
       "<style scoped>\n",
       "    .dataframe tbody tr th:only-of-type {\n",
       "        vertical-align: middle;\n",
       "    }\n",
       "\n",
       "    .dataframe tbody tr th {\n",
       "        vertical-align: top;\n",
       "    }\n",
       "\n",
       "    .dataframe thead th {\n",
       "        text-align: right;\n",
       "    }\n",
       "</style>\n",
       "<table border=\"1\" class=\"dataframe\">\n",
       "  <thead>\n",
       "    <tr style=\"text-align: right;\">\n",
       "      <th></th>\n",
       "      <th>PX_international_relief_CAG6MTH</th>\n",
       "      <th>PX_international_relief_CAG</th>\n",
       "    </tr>\n",
       "  </thead>\n",
       "  <tbody>\n",
       "    <tr>\n",
       "      <th>PX_international_relief_CAG6MTH</th>\n",
       "      <td>1.0</td>\n",
       "      <td>1.0</td>\n",
       "    </tr>\n",
       "    <tr>\n",
       "      <th>PX_international_relief_CAG</th>\n",
       "      <td>1.0</td>\n",
       "      <td>1.0</td>\n",
       "    </tr>\n",
       "  </tbody>\n",
       "</table>\n",
       "</div>"
      ],
      "text/plain": [
       "                                 PX_international_relief_CAG6MTH  \\\n",
       "PX_international_relief_CAG6MTH                              1.0   \n",
       "PX_international_relief_CAG                                  1.0   \n",
       "\n",
       "                                 PX_international_relief_CAG  \n",
       "PX_international_relief_CAG6MTH                          1.0  \n",
       "PX_international_relief_CAG                              1.0  "
      ]
     },
     "execution_count": 81,
     "metadata": {},
     "output_type": "execute_result"
    }
   ],
   "source": [
    "train_df[['PX_international_relief_CAG6MTH', 'PX_international_relief_CAG']].corr()"
   ]
  },
  {
   "cell_type": "code",
   "execution_count": 82,
   "id": "26ffba9d-b98e-4953-b4a8-01359852d0a8",
   "metadata": {},
   "outputs": [
    {
     "data": {
      "text/html": [
       "<div>\n",
       "<style scoped>\n",
       "    .dataframe tbody tr th:only-of-type {\n",
       "        vertical-align: middle;\n",
       "    }\n",
       "\n",
       "    .dataframe tbody tr th {\n",
       "        vertical-align: top;\n",
       "    }\n",
       "\n",
       "    .dataframe thead th {\n",
       "        text-align: right;\n",
       "    }\n",
       "</style>\n",
       "<table border=\"1\" class=\"dataframe\">\n",
       "  <thead>\n",
       "    <tr style=\"text-align: right;\">\n",
       "      <th></th>\n",
       "      <th>PX_international_relief_CAG6MTH</th>\n",
       "      <th>PX_international_relief_CAG</th>\n",
       "    </tr>\n",
       "  </thead>\n",
       "  <tbody>\n",
       "    <tr>\n",
       "      <th>PX_international_relief_CAG6MTH</th>\n",
       "      <td>1.0</td>\n",
       "      <td>1.0</td>\n",
       "    </tr>\n",
       "    <tr>\n",
       "      <th>PX_international_relief_CAG</th>\n",
       "      <td>1.0</td>\n",
       "      <td>1.0</td>\n",
       "    </tr>\n",
       "  </tbody>\n",
       "</table>\n",
       "</div>"
      ],
      "text/plain": [
       "                                 PX_international_relief_CAG6MTH  \\\n",
       "PX_international_relief_CAG6MTH                              1.0   \n",
       "PX_international_relief_CAG                                  1.0   \n",
       "\n",
       "                                 PX_international_relief_CAG  \n",
       "PX_international_relief_CAG6MTH                          1.0  \n",
       "PX_international_relief_CAG                              1.0  "
      ]
     },
     "execution_count": 82,
     "metadata": {},
     "output_type": "execute_result"
    }
   ],
   "source": [
    "test_df[['PX_international_relief_CAG6MTH', 'PX_international_relief_CAG']].corr()"
   ]
  },
  {
   "cell_type": "markdown",
   "id": "88fdf49c-bdff-47e1-a3f7-b7c20860a6a4",
   "metadata": {},
   "source": [
    "## Variables 'PX_international_relief_CAG6MTH' and 'PX_international_relief_CAG' are the same"
   ]
  },
  {
   "cell_type": "code",
   "execution_count": 83,
   "id": "3b48bd2b-2912-4643-a8de-c1bd5f82236b",
   "metadata": {},
   "outputs": [],
   "source": [
    "train_df.drop(columns=['PX_international_relief_CAG6MTH'], inplace=True)\n",
    "test_df.drop(columns=['PX_international_relief_CAG6MTH'], inplace=True)"
   ]
  },
  {
   "cell_type": "markdown",
   "id": "f83b5a83-46f6-44c1-9e5e-e07289c81d50",
   "metadata": {},
   "source": [
    "## ax_home_owner_type_detail_rp"
   ]
  },
  {
   "cell_type": "code",
   "execution_count": 84,
   "id": "ad4f652a-01c5-4d26-b0e5-10ba1d27eb6c",
   "metadata": {},
   "outputs": [
    {
     "data": {
      "text/plain": [
       "72663"
      ]
     },
     "execution_count": 84,
     "metadata": {},
     "output_type": "execute_result"
    }
   ],
   "source": [
    "(train_df['ax_home_owner_type_detail_rp'].isna()).sum()"
   ]
  },
  {
   "cell_type": "code",
   "execution_count": 85,
   "id": "0489be18-923c-4f22-8108-5e163be6e0fb",
   "metadata": {},
   "outputs": [
    {
     "data": {
      "text/plain": [
       "18137"
      ]
     },
     "execution_count": 85,
     "metadata": {},
     "output_type": "execute_result"
    }
   ],
   "source": [
    "(test_df['ax_home_owner_type_detail_rp'].isna()).sum()"
   ]
  },
  {
   "cell_type": "code",
   "execution_count": 86,
   "id": "86187b74-4099-4080-b5ea-abbdcc309759",
   "metadata": {},
   "outputs": [
    {
     "data": {
      "text/plain": [
       "O    127140\n",
       "H       197\n",
       "Name: ax_home_owner_type_detail_rp, dtype: int64"
      ]
     },
     "execution_count": 86,
     "metadata": {},
     "output_type": "execute_result"
    }
   ],
   "source": [
    "train_df['ax_home_owner_type_detail_rp'].value_counts()"
   ]
  },
  {
   "cell_type": "code",
   "execution_count": 87,
   "id": "d291a154-0a4c-4960-bab9-7dd35931a08d",
   "metadata": {},
   "outputs": [
    {
     "data": {
      "text/plain": [
       "O    31824\n",
       "H       39\n",
       "Name: ax_home_owner_type_detail_rp, dtype: int64"
      ]
     },
     "execution_count": 87,
     "metadata": {},
     "output_type": "execute_result"
    }
   ],
   "source": [
    "test_df['ax_home_owner_type_detail_rp'].value_counts()"
   ]
  },
  {
   "cell_type": "code",
   "execution_count": 88,
   "id": "0f38938a-cb16-4ba7-b976-96905c6b15a8",
   "metadata": {},
   "outputs": [],
   "source": [
    "# there are a lot of NaNs, so we should fill them with unique value\n",
    "train_df['ax_home_owner_type_detail_rp'].fillna('_NaN', inplace=True)\n",
    "test_df['ax_home_owner_type_detail_rp'].fillna('_NaN', inplace=True)"
   ]
  },
  {
   "cell_type": "markdown",
   "id": "9c531b1b-9b1c-4dc1-b04a-c343c19526cf",
   "metadata": {},
   "source": [
    "## ax_home_market_value_deciles_estimated_rp\n"
   ]
  },
  {
   "cell_type": "code",
   "execution_count": 89,
   "id": "3716c5b2-c623-4959-9c99-453066f7500e",
   "metadata": {},
   "outputs": [
    {
     "data": {
      "text/plain": [
       "58689"
      ]
     },
     "execution_count": 89,
     "metadata": {},
     "output_type": "execute_result"
    }
   ],
   "source": [
    "(train_df['ax_home_market_value_deciles_estimated_rp'].isna()).sum()"
   ]
  },
  {
   "cell_type": "code",
   "execution_count": 90,
   "id": "cc35cb32-2068-4a42-a084-40b99272a67d",
   "metadata": {},
   "outputs": [
    {
     "data": {
      "text/plain": [
       "0    10.0\n",
       "1     4.0\n",
       "2     NaN\n",
       "3     7.0\n",
       "4     1.0\n",
       "Name: ax_home_market_value_deciles_estimated_rp, dtype: float64"
      ]
     },
     "execution_count": 90,
     "metadata": {},
     "output_type": "execute_result"
    }
   ],
   "source": [
    "train_df['ax_home_market_value_deciles_estimated_rp'].head()"
   ]
  },
  {
   "cell_type": "code",
   "execution_count": 91,
   "id": "bb129bc8-924e-403a-840d-748a57f03a3a",
   "metadata": {},
   "outputs": [
    {
     "data": {
      "text/html": [
       "<div>\n",
       "<style scoped>\n",
       "    .dataframe tbody tr th:only-of-type {\n",
       "        vertical-align: middle;\n",
       "    }\n",
       "\n",
       "    .dataframe tbody tr th {\n",
       "        vertical-align: top;\n",
       "    }\n",
       "\n",
       "    .dataframe thead th {\n",
       "        text-align: right;\n",
       "    }\n",
       "</style>\n",
       "<table border=\"1\" class=\"dataframe\">\n",
       "  <thead>\n",
       "    <tr style=\"text-align: right;\">\n",
       "      <th></th>\n",
       "      <th>Unnamed: 0</th>\n",
       "      <th>VC_ID</th>\n",
       "      <th>VC_DATEMAIL</th>\n",
       "      <th>VC_GIFT</th>\n",
       "      <th>VC_CATHA</th>\n",
       "      <th>VC_CATHMC</th>\n",
       "      <th>PX_WO_CRR</th>\n",
       "      <th>ax_donation_contribution_c</th>\n",
       "      <th>ax_religious_inspirational</th>\n",
       "      <th>ax_apparel_mens_big_and_tall_c</th>\n",
       "      <th>...</th>\n",
       "      <th>ax_childrens_age_ranges_present_in_hhld_reseller_age_00_02_female</th>\n",
       "      <th>ax_home_owner_type_detail_rp</th>\n",
       "      <th>ax_home_market_value_deciles_estimated_rp</th>\n",
       "      <th>ax_home_property_type_rp</th>\n",
       "      <th>PX_WO_PMD</th>\n",
       "      <th>ax_home_loan_date_3_rp_year</th>\n",
       "      <th>PX_WO_PR</th>\n",
       "      <th>ax_sex</th>\n",
       "      <th>last_mail_days</th>\n",
       "      <th>PX_WO_CR_days</th>\n",
       "    </tr>\n",
       "  </thead>\n",
       "  <tbody>\n",
       "  </tbody>\n",
       "</table>\n",
       "<p>0 rows × 37 columns</p>\n",
       "</div>"
      ],
      "text/plain": [
       "Empty DataFrame\n",
       "Columns: [Unnamed: 0, VC_ID, VC_DATEMAIL, VC_GIFT, VC_CATHA, VC_CATHMC, PX_WO_CRR, ax_donation_contribution_c, ax_religious_inspirational, ax_apparel_mens_big_and_tall_c, ax_books_and_music_books_c, ax_adult_age_ranges_present_in_household_females_75, ax_rfm_total_offline_orders_under_50_range_rng, ax_rfm_total_offline_orders_rng, ax_personicx_digital_cluster, ax_income_range_premium_sc, ax_income_range_broad_sc, VC_DATEMAILLAST, PX_WO_CR, ax_rfm_last_offline_purchase_date, PX_WO_CMD, VC_DATEGIFTLAST, ax_spose_income, VC_GIFTMAX1Y, PX_international_relief_CAG, ax_scuba_diving, ax_adult_age_ranges_present_in_household_unknown_gender_18_24, ax_childrens_age_ranges_present_in_hhld_reseller_age_00_02_female, ax_home_owner_type_detail_rp, ax_home_market_value_deciles_estimated_rp, ax_home_property_type_rp, PX_WO_PMD, ax_home_loan_date_3_rp_year, PX_WO_PR, ax_sex, last_mail_days, PX_WO_CR_days]\n",
       "Index: []\n",
       "\n",
       "[0 rows x 37 columns]"
      ]
     },
     "execution_count": 91,
     "metadata": {},
     "output_type": "execute_result"
    }
   ],
   "source": [
    "train_df[train_df['ax_home_market_value_deciles_estimated_rp'] <= 0]"
   ]
  },
  {
   "cell_type": "code",
   "execution_count": 92,
   "id": "bda2551a-a034-47c1-9aea-eb6c1add3abb",
   "metadata": {},
   "outputs": [
    {
     "data": {
      "text/html": [
       "<div>\n",
       "<style scoped>\n",
       "    .dataframe tbody tr th:only-of-type {\n",
       "        vertical-align: middle;\n",
       "    }\n",
       "\n",
       "    .dataframe tbody tr th {\n",
       "        vertical-align: top;\n",
       "    }\n",
       "\n",
       "    .dataframe thead th {\n",
       "        text-align: right;\n",
       "    }\n",
       "</style>\n",
       "<table border=\"1\" class=\"dataframe\">\n",
       "  <thead>\n",
       "    <tr style=\"text-align: right;\">\n",
       "      <th></th>\n",
       "      <th>Unnamed: 0</th>\n",
       "      <th>VC_ID</th>\n",
       "      <th>VC_DATEMAIL</th>\n",
       "      <th>VC_CATHA</th>\n",
       "      <th>VC_CATHMC</th>\n",
       "      <th>PX_WO_CRR</th>\n",
       "      <th>ax_donation_contribution_c</th>\n",
       "      <th>ax_religious_inspirational</th>\n",
       "      <th>ax_apparel_mens_big_and_tall_c</th>\n",
       "      <th>ax_books_and_music_books_c</th>\n",
       "      <th>...</th>\n",
       "      <th>ax_childrens_age_ranges_present_in_hhld_reseller_age_00_02_female</th>\n",
       "      <th>ax_home_owner_type_detail_rp</th>\n",
       "      <th>ax_home_market_value_deciles_estimated_rp</th>\n",
       "      <th>ax_home_property_type_rp</th>\n",
       "      <th>PX_WO_PMD</th>\n",
       "      <th>ax_home_loan_date_3_rp_year</th>\n",
       "      <th>PX_WO_PR</th>\n",
       "      <th>ax_sex</th>\n",
       "      <th>last_mail_days</th>\n",
       "      <th>PX_WO_CR_days</th>\n",
       "    </tr>\n",
       "  </thead>\n",
       "  <tbody>\n",
       "  </tbody>\n",
       "</table>\n",
       "<p>0 rows × 36 columns</p>\n",
       "</div>"
      ],
      "text/plain": [
       "Empty DataFrame\n",
       "Columns: [Unnamed: 0, VC_ID, VC_DATEMAIL, VC_CATHA, VC_CATHMC, PX_WO_CRR, ax_donation_contribution_c, ax_religious_inspirational, ax_apparel_mens_big_and_tall_c, ax_books_and_music_books_c, ax_adult_age_ranges_present_in_household_females_75, ax_rfm_total_offline_orders_under_50_range_rng, ax_rfm_total_offline_orders_rng, ax_personicx_digital_cluster, ax_income_range_premium_sc, ax_income_range_broad_sc, VC_DATEMAILLAST, PX_WO_CR, ax_rfm_last_offline_purchase_date, PX_WO_CMD, VC_DATEGIFTLAST, ax_spose_income, VC_GIFTMAX1Y, PX_international_relief_CAG, ax_scuba_diving, ax_adult_age_ranges_present_in_household_unknown_gender_18_24, ax_childrens_age_ranges_present_in_hhld_reseller_age_00_02_female, ax_home_owner_type_detail_rp, ax_home_market_value_deciles_estimated_rp, ax_home_property_type_rp, PX_WO_PMD, ax_home_loan_date_3_rp_year, PX_WO_PR, ax_sex, last_mail_days, PX_WO_CR_days]\n",
       "Index: []\n",
       "\n",
       "[0 rows x 36 columns]"
      ]
     },
     "execution_count": 92,
     "metadata": {},
     "output_type": "execute_result"
    }
   ],
   "source": [
    "test_df[test_df['ax_home_market_value_deciles_estimated_rp'] <= 0]"
   ]
  },
  {
   "cell_type": "code",
   "execution_count": 93,
   "id": "ccbc1b2e-3cb3-4baf-a26f-05e2085f1aca",
   "metadata": {},
   "outputs": [],
   "source": [
    "# we can fill NaNs with zeros\n",
    "train_df['ax_home_market_value_deciles_estimated_rp'].fillna(0, inplace=True)\n",
    "test_df['ax_home_market_value_deciles_estimated_rp'].fillna(0, inplace=True)"
   ]
  },
  {
   "cell_type": "markdown",
   "id": "2e36fd8d-7d34-427e-ae55-2dba1aced97d",
   "metadata": {},
   "source": [
    "## ax_home_property_type_rp\n"
   ]
  },
  {
   "cell_type": "code",
   "execution_count": 94,
   "id": "c7ffac32-529a-44f9-acf2-a9b1467e8864",
   "metadata": {},
   "outputs": [
    {
     "data": {
      "text/plain": [
       "39763"
      ]
     },
     "execution_count": 94,
     "metadata": {},
     "output_type": "execute_result"
    }
   ],
   "source": [
    "(train_df['ax_home_property_type_rp'].isna()).sum()"
   ]
  },
  {
   "cell_type": "code",
   "execution_count": 95,
   "id": "2098f35e-ba94-4a55-af0b-569c155fea9e",
   "metadata": {},
   "outputs": [
    {
     "data": {
      "text/plain": [
       "10085"
      ]
     },
     "execution_count": 95,
     "metadata": {},
     "output_type": "execute_result"
    }
   ],
   "source": [
    "(test_df['ax_home_property_type_rp'].isna()).sum()"
   ]
  },
  {
   "cell_type": "code",
   "execution_count": 96,
   "id": "dfa5a319-a7b6-4129-8487-f634860ca93d",
   "metadata": {},
   "outputs": [
    {
     "data": {
      "text/plain": [
       "R    158191\n",
       "M      1366\n",
       "G       680\n",
       "Name: ax_home_property_type_rp, dtype: int64"
      ]
     },
     "execution_count": 96,
     "metadata": {},
     "output_type": "execute_result"
    }
   ],
   "source": [
    "train_df['ax_home_property_type_rp'].value_counts()"
   ]
  },
  {
   "cell_type": "code",
   "execution_count": 97,
   "id": "db30534f-f264-49b1-937c-39171f736095",
   "metadata": {},
   "outputs": [
    {
     "data": {
      "text/plain": [
       "R    39406\n",
       "M      356\n",
       "G      153\n",
       "Name: ax_home_property_type_rp, dtype: int64"
      ]
     },
     "execution_count": 97,
     "metadata": {},
     "output_type": "execute_result"
    }
   ],
   "source": [
    "test_df['ax_home_property_type_rp'].value_counts()"
   ]
  },
  {
   "cell_type": "code",
   "execution_count": 98,
   "id": "5e9934ec-ef2a-41c1-be79-dd39575e59a4",
   "metadata": {},
   "outputs": [],
   "source": [
    "# we can feel NaN values with the most frequent category\n",
    "train_df['ax_home_property_type_rp'].fillna('R', inplace=True)\n",
    "test_df['ax_home_property_type_rp'].fillna('R', inplace=True)"
   ]
  },
  {
   "cell_type": "markdown",
   "id": "4b9e33fb-0ed1-4f42-9035-7fd7dc84c66e",
   "metadata": {},
   "source": [
    "## PX_WO_PMD - date\n"
   ]
  },
  {
   "cell_type": "code",
   "execution_count": 99,
   "id": "e130a832-e126-4a33-8c94-47607f610ff4",
   "metadata": {},
   "outputs": [
    {
     "data": {
      "text/plain": [
       "11572"
      ]
     },
     "execution_count": 99,
     "metadata": {},
     "output_type": "execute_result"
    }
   ],
   "source": [
    "(train_df['PX_WO_PMD'].isna()).sum()"
   ]
  },
  {
   "cell_type": "code",
   "execution_count": 100,
   "id": "70d54c1b-f134-4c72-b16b-9f6373681f82",
   "metadata": {},
   "outputs": [
    {
     "data": {
      "text/plain": [
       "0    1998-07-01\n",
       "1    2011-10-03\n",
       "2    2011-03-28\n",
       "3    2000-04-10\n",
       "4    2003-08-18\n",
       "Name: PX_WO_PMD, dtype: object"
      ]
     },
     "execution_count": 100,
     "metadata": {},
     "output_type": "execute_result"
    }
   ],
   "source": [
    "train_df['PX_WO_PMD'].head()"
   ]
  },
  {
   "cell_type": "code",
   "execution_count": 101,
   "id": "dc261285-1002-4af6-87c5-5847b5399ed1",
   "metadata": {},
   "outputs": [],
   "source": [
    "train_df['PX_WO_PMD'] = max_day - pd.to_datetime(train_df['PX_WO_PMD'])\n",
    "test_df['PX_WO_PMD'] = max_day - pd.to_datetime(test_df['PX_WO_PMD'])"
   ]
  },
  {
   "cell_type": "code",
   "execution_count": 102,
   "id": "d4c326b0-7c85-4777-893e-c2dc439c2ffd",
   "metadata": {},
   "outputs": [],
   "source": [
    "train_df['PX_WO_PMD'] = train_df['PX_WO_PMD'].dt.days\n",
    "test_df['PX_WO_PMD'] = test_df['PX_WO_PMD'].dt.days"
   ]
  },
  {
   "cell_type": "code",
   "execution_count": 103,
   "id": "b778067b-898b-49da-b22c-35bdb5a345b3",
   "metadata": {},
   "outputs": [],
   "source": [
    "train_df['PX_WO_PMD'].fillna(0, inplace=True)\n",
    "test_df['PX_WO_PMD'].fillna(0, inplace=True)"
   ]
  },
  {
   "cell_type": "markdown",
   "id": "7e7a6b52-be43-428f-87b9-a1ea45da9ed4",
   "metadata": {},
   "source": [
    "## ax_home_loan_date_3_rp_year - date\n"
   ]
  },
  {
   "cell_type": "code",
   "execution_count": 104,
   "id": "1e955ebc-a071-4c02-8571-6e05a1c22ae9",
   "metadata": {},
   "outputs": [
    {
     "data": {
      "text/plain": [
       "171839"
      ]
     },
     "execution_count": 104,
     "metadata": {},
     "output_type": "execute_result"
    }
   ],
   "source": [
    "(train_df['ax_home_loan_date_3_rp_year'].isna()).sum()"
   ]
  },
  {
   "cell_type": "code",
   "execution_count": 105,
   "id": "79d1c0fa-2ebe-4c97-9b15-bf4b68a22743",
   "metadata": {},
   "outputs": [
    {
     "data": {
      "text/plain": [
       "7     2017-01-01\n",
       "12    2003-01-01\n",
       "27    2011-02-28\n",
       "28    2017-01-01\n",
       "52    2010-02-09\n",
       "Name: ax_home_loan_date_3_rp_year, dtype: object"
      ]
     },
     "execution_count": 105,
     "metadata": {},
     "output_type": "execute_result"
    }
   ],
   "source": [
    "train_df[train_df['ax_home_loan_date_3_rp_year'].notna()]['ax_home_loan_date_3_rp_year'].head()"
   ]
  },
  {
   "cell_type": "code",
   "execution_count": 106,
   "id": "06aa00a8-87e0-4b8d-ad42-f4716443a96e",
   "metadata": {},
   "outputs": [],
   "source": [
    "train_df['ax_home_loan_date_3_rp_year'] = max_day - pd.to_datetime(train_df['ax_home_loan_date_3_rp_year'])\n",
    "test_df['ax_home_loan_date_3_rp_year'] = max_day - pd.to_datetime(test_df['ax_home_loan_date_3_rp_year'])"
   ]
  },
  {
   "cell_type": "code",
   "execution_count": 107,
   "id": "a8ee543e-0858-464c-bc8c-4b365e8fb1aa",
   "metadata": {},
   "outputs": [],
   "source": [
    "train_df['ax_home_loan_date_3_rp_year'] = train_df['ax_home_loan_date_3_rp_year'].dt.days\n",
    "test_df['ax_home_loan_date_3_rp_year'] = test_df['ax_home_loan_date_3_rp_year'].dt.days"
   ]
  },
  {
   "cell_type": "code",
   "execution_count": 108,
   "id": "f23e90fe-3e67-41b7-992c-94690e85e351",
   "metadata": {},
   "outputs": [],
   "source": [
    "train_df['ax_home_loan_date_3_rp_year'].fillna(0, inplace=True)\n",
    "test_df['ax_home_loan_date_3_rp_year'].fillna(0, inplace=True)"
   ]
  },
  {
   "cell_type": "markdown",
   "id": "0392b134-ca9a-41ee-a825-9c46b814eeed",
   "metadata": {},
   "source": [
    "## PX_WO_PR\n"
   ]
  },
  {
   "cell_type": "code",
   "execution_count": 109,
   "id": "e339ccd1-6879-48f3-be08-cb46807f5413",
   "metadata": {},
   "outputs": [
    {
     "data": {
      "text/plain": [
       "38409"
      ]
     },
     "execution_count": 109,
     "metadata": {},
     "output_type": "execute_result"
    }
   ],
   "source": [
    "(train_df['PX_WO_PR'].isna()).sum()"
   ]
  },
  {
   "cell_type": "code",
   "execution_count": 110,
   "id": "6bcf21db-2559-4534-88c9-93adea55d233",
   "metadata": {},
   "outputs": [
    {
     "data": {
      "text/plain": [
       "0    1998-07-22\n",
       "1    2013-08-15\n",
       "2    2011-05-06\n",
       "3    2000-09-21\n",
       "4    2003-09-11\n",
       "Name: PX_WO_PR, dtype: object"
      ]
     },
     "execution_count": 110,
     "metadata": {},
     "output_type": "execute_result"
    }
   ],
   "source": [
    "train_df[train_df['PX_WO_PR'].notna()]['PX_WO_PR'].head()"
   ]
  },
  {
   "cell_type": "code",
   "execution_count": 111,
   "id": "62b2229e-aef4-4157-aff7-c72b799d1ecc",
   "metadata": {},
   "outputs": [],
   "source": [
    "train_df['PX_WO_PR'] = max_day - pd.to_datetime(train_df['PX_WO_PR'])\n",
    "test_df['PX_WO_PR'] = max_day - pd.to_datetime(test_df['PX_WO_PR'])"
   ]
  },
  {
   "cell_type": "code",
   "execution_count": 112,
   "id": "cee036ef-e7eb-4118-a408-0ec96ee06ff9",
   "metadata": {},
   "outputs": [],
   "source": [
    "train_df['PX_WO_PR'] = train_df['PX_WO_PR'].dt.days\n",
    "test_df['PX_WO_PR'] = test_df['PX_WO_PR'].dt.days"
   ]
  },
  {
   "cell_type": "code",
   "execution_count": 113,
   "id": "d1eb1afd-132e-4019-9c15-ede66a13c0de",
   "metadata": {},
   "outputs": [],
   "source": [
    "train_df['PX_WO_PR'].fillna(0, inplace=True)\n",
    "test_df['PX_WO_PR'].fillna(0, inplace=True)"
   ]
  },
  {
   "cell_type": "markdown",
   "id": "2df6e859-7685-4c97-bdba-37c61c5d650f",
   "metadata": {},
   "source": [
    "## ax_sex"
   ]
  },
  {
   "cell_type": "code",
   "execution_count": 114,
   "id": "e9109519-735a-4b2d-a220-5e100aa7b1db",
   "metadata": {},
   "outputs": [
    {
     "data": {
      "text/plain": [
       "68342"
      ]
     },
     "execution_count": 114,
     "metadata": {},
     "output_type": "execute_result"
    }
   ],
   "source": [
    "(train_df['ax_sex'].isna()).sum()"
   ]
  },
  {
   "cell_type": "code",
   "execution_count": 115,
   "id": "3bcbd5ba-e480-4b4b-8237-63953ba2e2af",
   "metadata": {},
   "outputs": [
    {
     "data": {
      "text/plain": [
       "0    0.0\n",
       "1    0.0\n",
       "2    1.0\n",
       "3    0.0\n",
       "5    0.0\n",
       "Name: ax_sex, dtype: float64"
      ]
     },
     "execution_count": 115,
     "metadata": {},
     "output_type": "execute_result"
    }
   ],
   "source": [
    "train_df[train_df['ax_sex'].notna()]['ax_sex'].head()"
   ]
  },
  {
   "cell_type": "code",
   "execution_count": 116,
   "id": "2a41616e-6075-4d40-854b-c15352840cf1",
   "metadata": {},
   "outputs": [
    {
     "data": {
      "text/plain": [
       "1.0    66019\n",
       "0.0    65639\n",
       "Name: ax_sex, dtype: int64"
      ]
     },
     "execution_count": 116,
     "metadata": {},
     "output_type": "execute_result"
    }
   ],
   "source": [
    "train_df['ax_sex'].value_counts()"
   ]
  },
  {
   "cell_type": "code",
   "execution_count": 117,
   "id": "ba31bd06-6fee-4008-9e67-4921bfb74f45",
   "metadata": {},
   "outputs": [
    {
     "data": {
      "text/plain": [
       "1.0    2896\n",
       "0.0    2868\n",
       "Name: ax_sex, dtype: int64"
      ]
     },
     "execution_count": 117,
     "metadata": {},
     "output_type": "execute_result"
    }
   ],
   "source": [
    "train_df.loc[resp_mask, 'ax_sex'].value_counts()"
   ]
  },
  {
   "cell_type": "code",
   "execution_count": 118,
   "id": "caa13338-d9c7-45b8-b1c6-224a09650c35",
   "metadata": {},
   "outputs": [
    {
     "data": {
      "text/plain": [
       "3044"
      ]
     },
     "execution_count": 118,
     "metadata": {},
     "output_type": "execute_result"
    }
   ],
   "source": [
    "train_df.loc[resp_mask, 'ax_sex'].isna().sum()"
   ]
  },
  {
   "cell_type": "code",
   "execution_count": 119,
   "id": "1e0d8d94-26bf-4edc-90c5-73c4465f1a22",
   "metadata": {},
   "outputs": [],
   "source": [
    "train_df['ax_sex'].fillna(2, inplace=True)\n",
    "test_df['ax_sex'].fillna(2, inplace=True)"
   ]
  },
  {
   "cell_type": "code",
   "execution_count": 120,
   "id": "2ef7588b-c71a-49a1-908c-2e61a4050fde",
   "metadata": {},
   "outputs": [
    {
     "data": {
      "text/html": [
       "<div>\n",
       "<style scoped>\n",
       "    .dataframe tbody tr th:only-of-type {\n",
       "        vertical-align: middle;\n",
       "    }\n",
       "\n",
       "    .dataframe tbody tr th {\n",
       "        vertical-align: top;\n",
       "    }\n",
       "\n",
       "    .dataframe thead th {\n",
       "        text-align: right;\n",
       "    }\n",
       "</style>\n",
       "<table border=\"1\" class=\"dataframe\">\n",
       "  <thead>\n",
       "    <tr style=\"text-align: right;\">\n",
       "      <th></th>\n",
       "      <th>VC_GIFT</th>\n",
       "    </tr>\n",
       "    <tr>\n",
       "      <th>ax_sex</th>\n",
       "      <th></th>\n",
       "    </tr>\n",
       "  </thead>\n",
       "  <tbody>\n",
       "    <tr>\n",
       "      <th>0.0</th>\n",
       "      <td>40440.74</td>\n",
       "    </tr>\n",
       "    <tr>\n",
       "      <th>1.0</th>\n",
       "      <td>41492.35</td>\n",
       "    </tr>\n",
       "    <tr>\n",
       "      <th>2.0</th>\n",
       "      <td>42452.56</td>\n",
       "    </tr>\n",
       "  </tbody>\n",
       "</table>\n",
       "</div>"
      ],
      "text/plain": [
       "         VC_GIFT\n",
       "ax_sex          \n",
       "0.0     40440.74\n",
       "1.0     41492.35\n",
       "2.0     42452.56"
      ]
     },
     "execution_count": 120,
     "metadata": {},
     "output_type": "execute_result"
    }
   ],
   "source": [
    "train_df.loc[resp_mask].groupby('ax_sex').agg({'VC_GIFT': 'sum'})"
   ]
  },
  {
   "cell_type": "code",
   "execution_count": 121,
   "id": "17b65d8f-b608-4f6b-aed4-e8254e273a5a",
   "metadata": {},
   "outputs": [],
   "source": [
    "train_df['ax_sex'] = train_df['ax_sex'].apply(lambda x: str(int(x)))\n",
    "test_df['ax_sex'] = test_df['ax_sex'].apply(lambda x: str(int(x)))"
   ]
  },
  {
   "cell_type": "code",
   "execution_count": 122,
   "id": "7a58e791-53e7-4038-8fe0-2bc7f8f12bf6",
   "metadata": {},
   "outputs": [],
   "source": [
    "# it seems that sex is not a factor that influences the gift amount"
   ]
  },
  {
   "cell_type": "markdown",
   "id": "12d8d3d8-efd8-48ce-a5d8-65eb975b390c",
   "metadata": {},
   "source": [
    "# NaNs in other variables"
   ]
  },
  {
   "cell_type": "code",
   "execution_count": 123,
   "id": "edd1fcc4-443d-41f7-820c-80b3310659df",
   "metadata": {},
   "outputs": [
    {
     "data": {
      "text/plain": [
       "Unnamed: 0                                                                0\n",
       "VC_ID                                                                     0\n",
       "VC_DATEMAIL                                                               0\n",
       "VC_GIFT                                                              191192\n",
       "VC_CATHA                                                                  0\n",
       "VC_CATHMC                                                                 0\n",
       "PX_WO_CRR                                                                 0\n",
       "ax_donation_contribution_c                                                0\n",
       "ax_religious_inspirational                                                0\n",
       "ax_apparel_mens_big_and_tall_c                                            0\n",
       "ax_books_and_music_books_c                                                0\n",
       "ax_adult_age_ranges_present_in_household_females_75                       0\n",
       "ax_rfm_total_offline_orders_under_50_range_rng                            0\n",
       "ax_rfm_total_offline_orders_rng                                           0\n",
       "ax_personicx_digital_cluster                                              0\n",
       "ax_income_range_premium_sc                                                0\n",
       "ax_income_range_broad_sc                                                  0\n",
       "VC_DATEMAILLAST                                                        1451\n",
       "PX_WO_CR                                                              38409\n",
       "ax_rfm_last_offline_purchase_date                                         0\n",
       "PX_WO_CMD                                                                 0\n",
       "VC_DATEGIFTLAST                                                           0\n",
       "ax_spose_income                                                           0\n",
       "VC_GIFTMAX1Y                                                              0\n",
       "PX_international_relief_CAG                                               0\n",
       "ax_scuba_diving                                                           0\n",
       "ax_adult_age_ranges_present_in_household_unknown_gender_18_24             0\n",
       "ax_childrens_age_ranges_present_in_hhld_reseller_age_00_02_female         0\n",
       "ax_home_owner_type_detail_rp                                              0\n",
       "ax_home_market_value_deciles_estimated_rp                                 0\n",
       "ax_home_property_type_rp                                                  0\n",
       "PX_WO_PMD                                                                 0\n",
       "ax_home_loan_date_3_rp_year                                               0\n",
       "PX_WO_PR                                                                  0\n",
       "ax_sex                                                                    0\n",
       "last_mail_days                                                            0\n",
       "PX_WO_CR_days                                                             0\n",
       "dtype: int64"
      ]
     },
     "execution_count": 123,
     "metadata": {},
     "output_type": "execute_result"
    }
   ],
   "source": [
    "train_df.isna().sum()"
   ]
  },
  {
   "cell_type": "markdown",
   "id": "985ebdad-01a6-4d68-90c8-aedcbc26fff2",
   "metadata": {},
   "source": [
    "# VC_GIFT"
   ]
  },
  {
   "cell_type": "code",
   "execution_count": 124,
   "id": "28b65811-1e08-44c5-9c58-82d2dfbfcf1d",
   "metadata": {},
   "outputs": [],
   "source": [
    "train_df['VC_GIFT'].fillna(0, inplace=True)"
   ]
  },
  {
   "cell_type": "markdown",
   "id": "ce9b67f7-95b0-4307-8267-e3b14da58310",
   "metadata": {},
   "source": [
    "## 'PX_WO_CR'"
   ]
  },
  {
   "cell_type": "code",
   "execution_count": 125,
   "id": "db40a4b0-d7a8-45e2-8e3b-b06b81739ee4",
   "metadata": {},
   "outputs": [
    {
     "data": {
      "text/plain": [
       "0    2011-08-04\n",
       "1    2016-06-30\n",
       "2    2016-03-17\n",
       "3    2016-09-19\n",
       "4    2011-05-09\n",
       "Name: PX_WO_CR, dtype: object"
      ]
     },
     "execution_count": 125,
     "metadata": {},
     "output_type": "execute_result"
    }
   ],
   "source": [
    "train_df['PX_WO_CR'].head()"
   ]
  },
  {
   "cell_type": "code",
   "execution_count": 126,
   "id": "67ff184c-9690-4537-891f-7155fae345a7",
   "metadata": {},
   "outputs": [],
   "source": [
    "train_df['PX_WO_CR'] = max_day - pd.to_datetime(train_df['PX_WO_CR'])\n",
    "test_df['PX_WO_CR'] = max_day - pd.to_datetime(test_df['PX_WO_CR'])"
   ]
  },
  {
   "cell_type": "code",
   "execution_count": 127,
   "id": "6fec1916-d36a-4be1-a0f1-6711035bf73a",
   "metadata": {},
   "outputs": [],
   "source": [
    "train_df['PX_WO_CR'] = train_df['PX_WO_CR'].dt.days\n",
    "test_df['PX_WO_CR'] = test_df['PX_WO_CR'].dt.days"
   ]
  },
  {
   "cell_type": "code",
   "execution_count": 128,
   "id": "44ceb3f5-fdec-47a9-a952-1c20a1462f6e",
   "metadata": {},
   "outputs": [],
   "source": [
    "train_df['PX_WO_CR'].fillna(0, inplace=True)\n",
    "test_df['PX_WO_CR'].fillna(0, inplace=True)"
   ]
  },
  {
   "cell_type": "code",
   "execution_count": 129,
   "id": "9f4a3371-5a1c-407e-bc8f-c72bbfa1cf8f",
   "metadata": {},
   "outputs": [],
   "source": [
    "# drop last mail date column\n",
    "train_df.drop(columns=['VC_DATEMAILLAST'], inplace=True)\n",
    "test_df.drop(columns=['VC_DATEMAILLAST'], inplace=True)"
   ]
  },
  {
   "cell_type": "markdown",
   "id": "43e147bc-a1a6-4cd0-93c3-b108274af311",
   "metadata": {},
   "source": [
    "# Model"
   ]
  },
  {
   "cell_type": "code",
   "execution_count": 130,
   "id": "298c3adc-0b81-4338-b9b9-d89749647775",
   "metadata": {},
   "outputs": [],
   "source": [
    "from sklearn.ensemble import RandomForestRegressor as rf\n",
    "from sklearn.preprocessing import LabelEncoder as le\n",
    "from sklearn.model_selection import train_test_split\n",
    "from sklearn.metrics import mean_squared_error as mse"
   ]
  },
  {
   "cell_type": "code",
   "execution_count": 131,
   "id": "92db3f1c-7478-45c7-9e88-cdbb59ad07cd",
   "metadata": {},
   "outputs": [],
   "source": [
    "model = rf(n_estimators=150, max_depth=2)"
   ]
  },
  {
   "cell_type": "code",
   "execution_count": 132,
   "id": "d3fb903f-38a5-4d50-a24e-bfc1e641f1f2",
   "metadata": {},
   "outputs": [],
   "source": [
    "train_x, val_x = train_test_split(train_df.drop(columns=['Unnamed: 0', 'VC_ID', 'VC_DATEMAIL']), test_size=0.2, random_state=42, shuffle=True)\n",
    "\n",
    "train_y, val_y = train_x['VC_GIFT'], val_x['VC_GIFT']\n",
    "\n",
    "train_x.drop(columns=['VC_GIFT'], inplace=True)\n",
    "val_x.drop(columns=['VC_GIFT'], inplace=True)"
   ]
  },
  {
   "cell_type": "code",
   "execution_count": 133,
   "id": "26ee8087-3e7d-493c-a0a6-280138a11956",
   "metadata": {},
   "outputs": [
    {
     "name": "stdout",
     "output_type": "stream",
     "text": [
      "int64\n",
      "int64\n",
      "float64\n",
      "int64\n",
      "int64\n",
      "int64\n",
      "int64\n",
      "int64\n",
      "object\n",
      "object\n",
      "float64\n",
      "object\n",
      "object\n",
      "float64\n",
      "float64\n",
      "float64\n",
      "float64\n",
      "float64\n",
      "float64\n",
      "float64\n",
      "int64\n",
      "int64\n",
      "int64\n",
      "object\n",
      "float64\n",
      "object\n",
      "float64\n",
      "float64\n",
      "float64\n",
      "object\n",
      "float64\n",
      "float64\n"
     ]
    }
   ],
   "source": [
    "for col in train_x.columns:\n",
    "    print(train_x[col].dtype)"
   ]
  },
  {
   "cell_type": "code",
   "execution_count": 134,
   "id": "f625fd44-094c-4bf3-99d8-96b3b90d89e9",
   "metadata": {},
   "outputs": [],
   "source": [
    "# encode categorial variables\n",
    "encoder = le()\n",
    "for col in train_x.columns:\n",
    "    if str(train_x[col].dtype) not in ('int64', 'float64'):\n",
    "        encoder.fit(train_x[col])\n",
    "        train_x[col] = encoder.transform(train_x[col])\n",
    "        val_x[col] = encoder.transform(val_x[col])\n",
    "        test_df[col] = encoder.transform(test_df[col])"
   ]
  },
  {
   "cell_type": "code",
   "execution_count": 135,
   "id": "297ca0b1-9f69-418e-bdb6-e4d70dab11d2",
   "metadata": {},
   "outputs": [
    {
     "data": {
      "text/plain": [
       "RandomForestRegressor(max_depth=2, n_estimators=150)"
      ]
     },
     "execution_count": 135,
     "metadata": {},
     "output_type": "execute_result"
    }
   ],
   "source": [
    "model.fit(train_x, train_y)"
   ]
  },
  {
   "cell_type": "code",
   "execution_count": 136,
   "id": "9ef5c424-6ff3-41dc-8435-5b4f0d146200",
   "metadata": {},
   "outputs": [],
   "source": [
    "pred_val = model.predict(val_x)"
   ]
  },
  {
   "cell_type": "code",
   "execution_count": 137,
   "id": "5bbabcf7-ec45-4259-ac2f-470d4abf8085",
   "metadata": {},
   "outputs": [
    {
     "data": {
      "text/plain": [
       "15.05074241387693"
      ]
     },
     "execution_count": 137,
     "metadata": {},
     "output_type": "execute_result"
    }
   ],
   "source": [
    "mse(val_y, pred_val)"
   ]
  },
  {
   "cell_type": "code",
   "execution_count": 138,
   "id": "c29eb814-95d7-40de-bcb0-d5f8cecd8ed3",
   "metadata": {},
   "outputs": [
    {
     "data": {
      "text/plain": [
       "13.660341314094522"
      ]
     },
     "execution_count": 138,
     "metadata": {},
     "output_type": "execute_result"
    }
   ],
   "source": [
    "mse(train_y, model.predict(train_x))"
   ]
  },
  {
   "cell_type": "code",
   "execution_count": 139,
   "id": "734c8f78-00cd-4678-9f0a-1c80ff54c0ab",
   "metadata": {},
   "outputs": [],
   "source": [
    "test_x = test_df.drop(columns=['Unnamed: 0', 'VC_ID', 'VC_DATEMAIL'])"
   ]
  },
  {
   "cell_type": "code",
   "execution_count": 140,
   "id": "532cb2d9-1d38-4678-b1e8-5a15865b0689",
   "metadata": {},
   "outputs": [],
   "source": [
    "pred_test = model.predict(test_x)"
   ]
  },
  {
   "cell_type": "code",
   "execution_count": 141,
   "id": "208718ab-7684-468d-bdd9-584f738085ae",
   "metadata": {},
   "outputs": [
    {
     "data": {
      "text/plain": [
       "array([1.11348762, 0.38635375, 1.08585815, ..., 1.08585815, 0.32740758,\n",
       "       1.08585815])"
      ]
     },
     "execution_count": 141,
     "metadata": {},
     "output_type": "execute_result"
    }
   ],
   "source": [
    "pred_test"
   ]
  },
  {
   "cell_type": "code",
   "execution_count": 143,
   "id": "cfcae84c-0eb9-43a0-8e3a-a076a330e48e",
   "metadata": {},
   "outputs": [],
   "source": [
    "pred_df = pd.DataFrame()"
   ]
  },
  {
   "cell_type": "code",
   "execution_count": 144,
   "id": "fb87bf61-dc7a-47d1-85f6-cf3967065b10",
   "metadata": {},
   "outputs": [],
   "source": [
    "pred_df['VC_ID'] = test_df['VC_ID']\n",
    "pred_df['VC_GIFT'] = pred_test"
   ]
  },
  {
   "cell_type": "code",
   "execution_count": 145,
   "id": "00a26c68-18e7-4629-9aaf-67e4d71f8249",
   "metadata": {},
   "outputs": [
    {
     "data": {
      "text/html": [
       "<div>\n",
       "<style scoped>\n",
       "    .dataframe tbody tr th:only-of-type {\n",
       "        vertical-align: middle;\n",
       "    }\n",
       "\n",
       "    .dataframe tbody tr th {\n",
       "        vertical-align: top;\n",
       "    }\n",
       "\n",
       "    .dataframe thead th {\n",
       "        text-align: right;\n",
       "    }\n",
       "</style>\n",
       "<table border=\"1\" class=\"dataframe\">\n",
       "  <thead>\n",
       "    <tr style=\"text-align: right;\">\n",
       "      <th></th>\n",
       "      <th>VC_ID</th>\n",
       "      <th>VC_GIFT</th>\n",
       "    </tr>\n",
       "  </thead>\n",
       "  <tbody>\n",
       "    <tr>\n",
       "      <th>0</th>\n",
       "      <td>438087394642</td>\n",
       "      <td>1.113488</td>\n",
       "    </tr>\n",
       "    <tr>\n",
       "      <th>1</th>\n",
       "      <td>446676725270</td>\n",
       "      <td>0.386354</td>\n",
       "    </tr>\n",
       "    <tr>\n",
       "      <th>2</th>\n",
       "      <td>326417712201</td>\n",
       "      <td>1.085858</td>\n",
       "    </tr>\n",
       "    <tr>\n",
       "      <th>3</th>\n",
       "      <td>438087393105</td>\n",
       "      <td>0.327408</td>\n",
       "    </tr>\n",
       "    <tr>\n",
       "      <th>4</th>\n",
       "      <td>412317283808</td>\n",
       "      <td>1.113488</td>\n",
       "    </tr>\n",
       "  </tbody>\n",
       "</table>\n",
       "</div>"
      ],
      "text/plain": [
       "          VC_ID   VC_GIFT\n",
       "0  438087394642  1.113488\n",
       "1  446676725270  0.386354\n",
       "2  326417712201  1.085858\n",
       "3  438087393105  0.327408\n",
       "4  412317283808  1.113488"
      ]
     },
     "execution_count": 145,
     "metadata": {},
     "output_type": "execute_result"
    }
   ],
   "source": [
    "pred_df.head()"
   ]
  },
  {
   "cell_type": "code",
   "execution_count": 146,
   "id": "245013e9-4973-4618-bc31-ebb96797bb09",
   "metadata": {},
   "outputs": [],
   "source": [
    "pred_df.to_csv('predicted.csv')"
   ]
  },
  {
   "cell_type": "code",
   "execution_count": null,
   "id": "5051382f-b165-4e95-9a82-544ca5e2bb91",
   "metadata": {},
   "outputs": [],
   "source": []
  }
 ],
 "metadata": {
  "kernelspec": {
   "display_name": "Python 3",
   "language": "python",
   "name": "python3"
  },
  "language_info": {
   "codemirror_mode": {
    "name": "ipython",
    "version": 3
   },
   "file_extension": ".py",
   "mimetype": "text/x-python",
   "name": "python",
   "nbconvert_exporter": "python",
   "pygments_lexer": "ipython3",
   "version": "3.8.8"
  }
 },
 "nbformat": 4,
 "nbformat_minor": 5
}
