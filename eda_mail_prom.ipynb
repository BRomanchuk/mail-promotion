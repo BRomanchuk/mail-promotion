{
 "cells": [
  {
   "cell_type": "markdown",
   "id": "b3a53f2a-6bf3-4a01-a6e1-c9bbb4ad9413",
   "metadata": {},
   "source": [
    "# Re-activation test model\n",
    "\n",
    "## Overview:\n",
    "\n",
    "You are being provided a file with combined series of historical mail promotional files.  The purpose of these campaigns are to “re-activate” people who used to donate a lot to a charity, however in recent months or years have stopped giving. Heuristic financial information from within many charities suggest that there is a lower cost to raise a dollar by re-activating lapsed donors then say acquiring a cold donor who is unfamiliar with the charity.  Many charities have large lapsed data segments in their databases making this a field of strong interest for the charity.\n",
    "\n",
    "## Goal:\n",
    "\n",
    "Generally your goal in a production scenario could be to use a model to drive the most names (largest lapsed mailing) possible at break even, since long term value suggests re-activated donors go on to become very valuable.\n",
    "<br><br>\n",
    "In the interest of brevity we will only be looking at Area under the ROC to determine success and keep the task simple in its goal.  Although, the actual response amount (GIFT) is provided in the data (except for blind validation file), this is going to be response driven only.\n",
    "<br><br>\n",
    "Although we are looking to see your model “work”, we are most interested in your process, questions you may have as you work, creativity and process.  So aside from delivering the blind validation file, please deliver any notes and data visualizations from the project so we can follow your thought process.  In other words sell us on your methodology. \n",
    "<br><br>\n",
    "You may use any learning algorithm of your choosing and environment.  Although, this is a classic supervised learning scenario, we are not putting any constraints on how you choose to build a solution. \n",
    "\n",
    "## Data:\n",
    "\n",
    "You have 2 files provided.  1 for training and validation and 1 for blind validation to send us back when you have provided a score.\n",
    "<br><br>\n",
    "Much of the work on the data has been done for you.  Using the client’s internal database we have created accurate snapshots for you of what the data looked like for each campaign at the time it was sent with of course who responded.   As a ‘data scientist’ with VeraData you will be provided with an expert to handle ETL and work with you so you can focus on the actual analytics.\n",
    "<br><br>\n",
    "Also, in the interest of time as well as computational resource efficiency, we have limited the variables provided to you and the number of records you have in your file.  This will make the data easier for you to manage as apposed to the 1000+ variables and 1000000+ records that will be available to you in a production environment.  As mentioned before we are more looking to assess your thought process not burn up your personal computer. You are provided below with the description of some client’s fields and the most other fields are third-party data that we received without descriptions."
   ]
  },
  {
   "cell_type": "code",
   "execution_count": 1,
   "id": "12693170-276b-42ee-90f5-b31fb470412b",
   "metadata": {},
   "outputs": [],
   "source": [
    "import numpy as np\n",
    "import pandas as pd\n",
    "import matplotlib.pyplot as plt"
   ]
  },
  {
   "cell_type": "code",
   "execution_count": 2,
   "id": "aafa5e9c-a87b-4141-9134-3ed39dc6e91f",
   "metadata": {},
   "outputs": [],
   "source": [
    "train_df = pd.read_csv('./mail-promotion/mail-promotion/data/train.csv', delimiter='|')\n",
    "test_df = pd.read_csv('./mail-promotion/mail-promotion/data/test.csv', delimiter='|')"
   ]
  },
  {
   "cell_type": "code",
   "execution_count": 3,
   "id": "3504dade-be93-4b86-8d1c-a8ab0caf4936",
   "metadata": {},
   "outputs": [
    {
     "data": {
      "text/html": [
       "<div>\n",
       "<style scoped>\n",
       "    .dataframe tbody tr th:only-of-type {\n",
       "        vertical-align: middle;\n",
       "    }\n",
       "\n",
       "    .dataframe tbody tr th {\n",
       "        vertical-align: top;\n",
       "    }\n",
       "\n",
       "    .dataframe thead th {\n",
       "        text-align: right;\n",
       "    }\n",
       "</style>\n",
       "<table border=\"1\" class=\"dataframe\">\n",
       "  <thead>\n",
       "    <tr style=\"text-align: right;\">\n",
       "      <th></th>\n",
       "      <th>Unnamed: 0</th>\n",
       "      <th>VC_ID</th>\n",
       "      <th>VC_DATEMAIL</th>\n",
       "      <th>VC_DATERESP</th>\n",
       "      <th>VC_GIFT</th>\n",
       "      <th>VC_CATHA</th>\n",
       "      <th>VC_CATHMC</th>\n",
       "      <th>PX_WO_CRR</th>\n",
       "      <th>PX_WO_CRR6MTH</th>\n",
       "      <th>ax_donation_contribution_c</th>\n",
       "      <th>...</th>\n",
       "      <th>ax_scuba_diving</th>\n",
       "      <th>ax_adult_age_ranges_present_in_household_unknown_gender_18_24</th>\n",
       "      <th>ax_childrens_age_ranges_present_in_hhld_reseller_age_00_02_female</th>\n",
       "      <th>ax_home_owner_type_detail_rp</th>\n",
       "      <th>ax_home_market_value_deciles_estimated_rp</th>\n",
       "      <th>ax_home_property_type_rp</th>\n",
       "      <th>PX_WO_PMD</th>\n",
       "      <th>ax_home_loan_date_3_rp_year</th>\n",
       "      <th>PX_WO_PR</th>\n",
       "      <th>ax_sex</th>\n",
       "    </tr>\n",
       "  </thead>\n",
       "  <tbody>\n",
       "    <tr>\n",
       "      <th>0</th>\n",
       "      <td>0</td>\n",
       "      <td>326417533784</td>\n",
       "      <td>2012-08-11</td>\n",
       "      <td>NaN</td>\n",
       "      <td>NaN</td>\n",
       "      <td>8</td>\n",
       "      <td>8</td>\n",
       "      <td>0.2754</td>\n",
       "      <td>0.2754</td>\n",
       "      <td>1.0</td>\n",
       "      <td>...</td>\n",
       "      <td>NaN</td>\n",
       "      <td>NaN</td>\n",
       "      <td>NaN</td>\n",
       "      <td>O</td>\n",
       "      <td>10.0</td>\n",
       "      <td>R</td>\n",
       "      <td>1998-07-01</td>\n",
       "      <td>NaN</td>\n",
       "      <td>1998-07-22</td>\n",
       "      <td>0.0</td>\n",
       "    </tr>\n",
       "    <tr>\n",
       "      <th>1</th>\n",
       "      <td>1</td>\n",
       "      <td>472446525086</td>\n",
       "      <td>2017-08-01</td>\n",
       "      <td>NaN</td>\n",
       "      <td>NaN</td>\n",
       "      <td>3</td>\n",
       "      <td>3</td>\n",
       "      <td>0.0526</td>\n",
       "      <td>0.0526</td>\n",
       "      <td>NaN</td>\n",
       "      <td>...</td>\n",
       "      <td>NaN</td>\n",
       "      <td>NaN</td>\n",
       "      <td>NaN</td>\n",
       "      <td>O</td>\n",
       "      <td>4.0</td>\n",
       "      <td>R</td>\n",
       "      <td>2011-10-03</td>\n",
       "      <td>NaN</td>\n",
       "      <td>2013-08-15</td>\n",
       "      <td>0.0</td>\n",
       "    </tr>\n",
       "    <tr>\n",
       "      <th>2</th>\n",
       "      <td>2</td>\n",
       "      <td>438087357784</td>\n",
       "      <td>2017-01-10</td>\n",
       "      <td>NaN</td>\n",
       "      <td>NaN</td>\n",
       "      <td>8</td>\n",
       "      <td>9</td>\n",
       "      <td>0.1111</td>\n",
       "      <td>0.1111</td>\n",
       "      <td>NaN</td>\n",
       "      <td>...</td>\n",
       "      <td>NaN</td>\n",
       "      <td>NaN</td>\n",
       "      <td>NaN</td>\n",
       "      <td>NaN</td>\n",
       "      <td>NaN</td>\n",
       "      <td>NaN</td>\n",
       "      <td>2011-03-28</td>\n",
       "      <td>NaN</td>\n",
       "      <td>2011-05-06</td>\n",
       "      <td>1.0</td>\n",
       "    </tr>\n",
       "    <tr>\n",
       "      <th>3</th>\n",
       "      <td>3</td>\n",
       "      <td>472446537663</td>\n",
       "      <td>2017-08-01</td>\n",
       "      <td>NaN</td>\n",
       "      <td>NaN</td>\n",
       "      <td>7</td>\n",
       "      <td>8</td>\n",
       "      <td>0.1058</td>\n",
       "      <td>0.1058</td>\n",
       "      <td>1.0</td>\n",
       "      <td>...</td>\n",
       "      <td>NaN</td>\n",
       "      <td>NaN</td>\n",
       "      <td>NaN</td>\n",
       "      <td>O</td>\n",
       "      <td>7.0</td>\n",
       "      <td>R</td>\n",
       "      <td>2000-04-10</td>\n",
       "      <td>NaN</td>\n",
       "      <td>2000-09-21</td>\n",
       "      <td>0.0</td>\n",
       "    </tr>\n",
       "    <tr>\n",
       "      <th>4</th>\n",
       "      <td>4</td>\n",
       "      <td>326417580816</td>\n",
       "      <td>2012-08-11</td>\n",
       "      <td>NaN</td>\n",
       "      <td>NaN</td>\n",
       "      <td>3</td>\n",
       "      <td>5</td>\n",
       "      <td>0.1117</td>\n",
       "      <td>0.1117</td>\n",
       "      <td>1.0</td>\n",
       "      <td>...</td>\n",
       "      <td>NaN</td>\n",
       "      <td>NaN</td>\n",
       "      <td>NaN</td>\n",
       "      <td>O</td>\n",
       "      <td>1.0</td>\n",
       "      <td>R</td>\n",
       "      <td>2003-08-18</td>\n",
       "      <td>NaN</td>\n",
       "      <td>2003-09-11</td>\n",
       "      <td>NaN</td>\n",
       "    </tr>\n",
       "  </tbody>\n",
       "</table>\n",
       "<p>5 rows × 38 columns</p>\n",
       "</div>"
      ],
      "text/plain": [
       "   Unnamed: 0         VC_ID VC_DATEMAIL VC_DATERESP  VC_GIFT  VC_CATHA  \\\n",
       "0           0  326417533784  2012-08-11         NaN      NaN         8   \n",
       "1           1  472446525086  2017-08-01         NaN      NaN         3   \n",
       "2           2  438087357784  2017-01-10         NaN      NaN         8   \n",
       "3           3  472446537663  2017-08-01         NaN      NaN         7   \n",
       "4           4  326417580816  2012-08-11         NaN      NaN         3   \n",
       "\n",
       "   VC_CATHMC  PX_WO_CRR  PX_WO_CRR6MTH  ax_donation_contribution_c  ...  \\\n",
       "0          8     0.2754         0.2754                         1.0  ...   \n",
       "1          3     0.0526         0.0526                         NaN  ...   \n",
       "2          9     0.1111         0.1111                         NaN  ...   \n",
       "3          8     0.1058         0.1058                         1.0  ...   \n",
       "4          5     0.1117         0.1117                         1.0  ...   \n",
       "\n",
       "   ax_scuba_diving  \\\n",
       "0              NaN   \n",
       "1              NaN   \n",
       "2              NaN   \n",
       "3              NaN   \n",
       "4              NaN   \n",
       "\n",
       "   ax_adult_age_ranges_present_in_household_unknown_gender_18_24  \\\n",
       "0                                                NaN               \n",
       "1                                                NaN               \n",
       "2                                                NaN               \n",
       "3                                                NaN               \n",
       "4                                                NaN               \n",
       "\n",
       "   ax_childrens_age_ranges_present_in_hhld_reseller_age_00_02_female  \\\n",
       "0                                                NaN                   \n",
       "1                                                NaN                   \n",
       "2                                                NaN                   \n",
       "3                                                NaN                   \n",
       "4                                                NaN                   \n",
       "\n",
       "   ax_home_owner_type_detail_rp ax_home_market_value_deciles_estimated_rp  \\\n",
       "0                             O                                      10.0   \n",
       "1                             O                                       4.0   \n",
       "2                           NaN                                       NaN   \n",
       "3                             O                                       7.0   \n",
       "4                             O                                       1.0   \n",
       "\n",
       "  ax_home_property_type_rp   PX_WO_PMD ax_home_loan_date_3_rp_year  \\\n",
       "0                        R  1998-07-01                         NaN   \n",
       "1                        R  2011-10-03                         NaN   \n",
       "2                      NaN  2011-03-28                         NaN   \n",
       "3                        R  2000-04-10                         NaN   \n",
       "4                        R  2003-08-18                         NaN   \n",
       "\n",
       "     PX_WO_PR ax_sex  \n",
       "0  1998-07-22    0.0  \n",
       "1  2013-08-15    0.0  \n",
       "2  2011-05-06    1.0  \n",
       "3  2000-09-21    0.0  \n",
       "4  2003-09-11    NaN  \n",
       "\n",
       "[5 rows x 38 columns]"
      ]
     },
     "execution_count": 3,
     "metadata": {},
     "output_type": "execute_result"
    }
   ],
   "source": [
    "train_df.head()"
   ]
  },
  {
   "cell_type": "code",
   "execution_count": 4,
   "id": "1dc99dae-8911-48ca-ad16-49771b2accf3",
   "metadata": {},
   "outputs": [
    {
     "data": {
      "text/plain": [
       "Index(['Unnamed: 0', 'VC_ID', 'VC_DATEMAIL', 'VC_DATERESP', 'VC_GIFT',\n",
       "       'VC_CATHA', 'VC_CATHMC', 'PX_WO_CRR', 'PX_WO_CRR6MTH',\n",
       "       'ax_donation_contribution_c', 'ax_religious_inspirational',\n",
       "       'ax_apparel_mens_big_and_tall_c', 'ax_books_and_music_books_c',\n",
       "       'ax_adult_age_ranges_present_in_household_females_75',\n",
       "       'ax_rfm_total_offline_orders_under_50_range_rng',\n",
       "       'ax_rfm_total_offline_orders_rng', 'ax_personicx_digital_cluster',\n",
       "       'ax_income_range_premium_sc', 'ax_income_range_broad_sc',\n",
       "       'VC_DATEMAILLAST', 'PX_WO_CR', 'ax_rfm_last_offline_purchase_date',\n",
       "       'PX_WO_CMD', 'VC_DATEGIFTLAST', 'ax_spose_income', 'VC_GIFTMAX1Y',\n",
       "       'PX_international_relief_CAG', 'PX_international_relief_CAG6MTH',\n",
       "       'ax_scuba_diving',\n",
       "       'ax_adult_age_ranges_present_in_household_unknown_gender_18_24',\n",
       "       'ax_childrens_age_ranges_present_in_hhld_reseller_age_00_02_female',\n",
       "       'ax_home_owner_type_detail_rp',\n",
       "       'ax_home_market_value_deciles_estimated_rp', 'ax_home_property_type_rp',\n",
       "       'PX_WO_PMD', 'ax_home_loan_date_3_rp_year', 'PX_WO_PR', 'ax_sex'],\n",
       "      dtype='object')"
      ]
     },
     "execution_count": 4,
     "metadata": {},
     "output_type": "execute_result"
    }
   ],
   "source": [
    "train_df.columns"
   ]
  },
  {
   "cell_type": "markdown",
   "id": "1bc65f7d-f0e3-430d-903a-0c474c5e1fe8",
   "metadata": {},
   "source": [
    "## VC_DATERESP and VC_GIFT"
   ]
  },
  {
   "cell_type": "code",
   "execution_count": 6,
   "id": "26d6641e-dd94-4024-84b8-12dd2e88ef31",
   "metadata": {},
   "outputs": [],
   "source": [
    "# mask with those VCs that responded\n",
    "resp_mask = train_df['VC_DATERESP'].notna()"
   ]
  },
  {
   "cell_type": "code",
   "execution_count": 22,
   "id": "7d5d9b8d-c48d-4c30-9cb0-1591bd13cc52",
   "metadata": {},
   "outputs": [
    {
     "data": {
      "text/html": [
       "<div>\n",
       "<style scoped>\n",
       "    .dataframe tbody tr th:only-of-type {\n",
       "        vertical-align: middle;\n",
       "    }\n",
       "\n",
       "    .dataframe tbody tr th {\n",
       "        vertical-align: top;\n",
       "    }\n",
       "\n",
       "    .dataframe thead th {\n",
       "        text-align: right;\n",
       "    }\n",
       "</style>\n",
       "<table border=\"1\" class=\"dataframe\">\n",
       "  <thead>\n",
       "    <tr style=\"text-align: right;\">\n",
       "      <th></th>\n",
       "      <th>Unnamed: 0</th>\n",
       "      <th>VC_ID</th>\n",
       "      <th>VC_DATEMAIL</th>\n",
       "      <th>VC_DATERESP</th>\n",
       "      <th>VC_GIFT</th>\n",
       "      <th>VC_CATHA</th>\n",
       "      <th>VC_CATHMC</th>\n",
       "      <th>PX_WO_CRR</th>\n",
       "      <th>ax_donation_contribution_c</th>\n",
       "      <th>ax_religious_inspirational</th>\n",
       "      <th>...</th>\n",
       "      <th>ax_scuba_diving</th>\n",
       "      <th>ax_adult_age_ranges_present_in_household_unknown_gender_18_24</th>\n",
       "      <th>ax_childrens_age_ranges_present_in_hhld_reseller_age_00_02_female</th>\n",
       "      <th>ax_home_owner_type_detail_rp</th>\n",
       "      <th>ax_home_market_value_deciles_estimated_rp</th>\n",
       "      <th>ax_home_property_type_rp</th>\n",
       "      <th>PX_WO_PMD</th>\n",
       "      <th>ax_home_loan_date_3_rp_year</th>\n",
       "      <th>PX_WO_PR</th>\n",
       "      <th>ax_sex</th>\n",
       "    </tr>\n",
       "  </thead>\n",
       "  <tbody>\n",
       "    <tr>\n",
       "      <th>29</th>\n",
       "      <td>29</td>\n",
       "      <td>317828196065</td>\n",
       "      <td>2013-01-05</td>\n",
       "      <td>2013-02-01</td>\n",
       "      <td>20.0</td>\n",
       "      <td>9</td>\n",
       "      <td>9</td>\n",
       "      <td>NaN</td>\n",
       "      <td>1</td>\n",
       "      <td>1</td>\n",
       "      <td>...</td>\n",
       "      <td>0</td>\n",
       "      <td>0</td>\n",
       "      <td>0</td>\n",
       "      <td>O</td>\n",
       "      <td>6.0</td>\n",
       "      <td>R</td>\n",
       "      <td>NaN</td>\n",
       "      <td>NaN</td>\n",
       "      <td>NaN</td>\n",
       "      <td>NaN</td>\n",
       "    </tr>\n",
       "    <tr>\n",
       "      <th>62</th>\n",
       "      <td>62</td>\n",
       "      <td>412317292523</td>\n",
       "      <td>2015-10-01</td>\n",
       "      <td>2015-11-30</td>\n",
       "      <td>5.0</td>\n",
       "      <td>2</td>\n",
       "      <td>2</td>\n",
       "      <td>0.0909</td>\n",
       "      <td>0</td>\n",
       "      <td>1</td>\n",
       "      <td>...</td>\n",
       "      <td>0</td>\n",
       "      <td>0</td>\n",
       "      <td>0</td>\n",
       "      <td>O</td>\n",
       "      <td>5.0</td>\n",
       "      <td>R</td>\n",
       "      <td>2005-09-01</td>\n",
       "      <td>NaN</td>\n",
       "      <td>2006-08-22</td>\n",
       "      <td>0.0</td>\n",
       "    </tr>\n",
       "    <tr>\n",
       "      <th>64</th>\n",
       "      <td>64</td>\n",
       "      <td>412317315760</td>\n",
       "      <td>2015-07-16</td>\n",
       "      <td>2015-10-26</td>\n",
       "      <td>15.0</td>\n",
       "      <td>2</td>\n",
       "      <td>2</td>\n",
       "      <td>0.0000</td>\n",
       "      <td>1</td>\n",
       "      <td>0</td>\n",
       "      <td>...</td>\n",
       "      <td>0</td>\n",
       "      <td>0</td>\n",
       "      <td>0</td>\n",
       "      <td>NaN</td>\n",
       "      <td>NaN</td>\n",
       "      <td>NaN</td>\n",
       "      <td>2008-06-02</td>\n",
       "      <td>NaN</td>\n",
       "      <td>NaN</td>\n",
       "      <td>NaN</td>\n",
       "    </tr>\n",
       "  </tbody>\n",
       "</table>\n",
       "<p>3 rows × 37 columns</p>\n",
       "</div>"
      ],
      "text/plain": [
       "    Unnamed: 0         VC_ID VC_DATEMAIL VC_DATERESP  VC_GIFT  VC_CATHA  \\\n",
       "29          29  317828196065  2013-01-05  2013-02-01     20.0         9   \n",
       "62          62  412317292523  2015-10-01  2015-11-30      5.0         2   \n",
       "64          64  412317315760  2015-07-16  2015-10-26     15.0         2   \n",
       "\n",
       "    VC_CATHMC  PX_WO_CRR  ax_donation_contribution_c  \\\n",
       "29          9        NaN                           1   \n",
       "62          2     0.0909                           0   \n",
       "64          2     0.0000                           1   \n",
       "\n",
       "    ax_religious_inspirational  ...  ax_scuba_diving  \\\n",
       "29                           1  ...                0   \n",
       "62                           1  ...                0   \n",
       "64                           0  ...                0   \n",
       "\n",
       "    ax_adult_age_ranges_present_in_household_unknown_gender_18_24  \\\n",
       "29                                                  0               \n",
       "62                                                  0               \n",
       "64                                                  0               \n",
       "\n",
       "    ax_childrens_age_ranges_present_in_hhld_reseller_age_00_02_female  \\\n",
       "29                                                  0                   \n",
       "62                                                  0                   \n",
       "64                                                  0                   \n",
       "\n",
       "   ax_home_owner_type_detail_rp ax_home_market_value_deciles_estimated_rp  \\\n",
       "29                            O                                       6.0   \n",
       "62                            O                                       5.0   \n",
       "64                          NaN                                       NaN   \n",
       "\n",
       "    ax_home_property_type_rp   PX_WO_PMD ax_home_loan_date_3_rp_year  \\\n",
       "29                         R         NaN                         NaN   \n",
       "62                         R  2005-09-01                         NaN   \n",
       "64                       NaN  2008-06-02                         NaN   \n",
       "\n",
       "      PX_WO_PR ax_sex  \n",
       "29         NaN    NaN  \n",
       "62  2006-08-22    0.0  \n",
       "64         NaN    NaN  \n",
       "\n",
       "[3 rows x 37 columns]"
      ]
     },
     "execution_count": 22,
     "metadata": {},
     "output_type": "execute_result"
    }
   ],
   "source": [
    "train_df.loc[resp_mask].head(3)"
   ]
  },
  {
   "cell_type": "code",
   "execution_count": 9,
   "id": "cd2cbd42-5565-4134-9925-e85fc58bb5cc",
   "metadata": {},
   "outputs": [
    {
     "data": {
      "text/plain": [
       "<matplotlib.collections.PathCollection at 0x7fa8c0097fd0>"
      ]
     },
     "execution_count": 9,
     "metadata": {},
     "output_type": "execute_result"
    },
    {
     "data": {
      "image/png": "[encoded data removed]",
      "text/plain": [
       "<Figure size 432x288 with 1 Axes>"
      ]
     },
     "metadata": {
      "needs_background": "light"
     },
     "output_type": "display_data"
    }
   ],
   "source": [
    "plt.scatter(train_df['VC_CATHA'], train_df['VC_CATHMC'])"
   ]
  },
  {
   "cell_type": "code",
   "execution_count": 10,
   "id": "6a8a2a9a-7cf2-47a5-822e-bee2ebf76e11",
   "metadata": {},
   "outputs": [
    {
     "data": {
      "text/html": [
       "<div>\n",
       "<style scoped>\n",
       "    .dataframe tbody tr th:only-of-type {\n",
       "        vertical-align: middle;\n",
       "    }\n",
       "\n",
       "    .dataframe tbody tr th {\n",
       "        vertical-align: top;\n",
       "    }\n",
       "\n",
       "    .dataframe thead th {\n",
       "        text-align: right;\n",
       "    }\n",
       "</style>\n",
       "<table border=\"1\" class=\"dataframe\">\n",
       "  <thead>\n",
       "    <tr style=\"text-align: right;\">\n",
       "      <th></th>\n",
       "      <th>VC_CATHA</th>\n",
       "      <th>PX_WO_CRR6MTH</th>\n",
       "    </tr>\n",
       "  </thead>\n",
       "  <tbody>\n",
       "    <tr>\n",
       "      <th>VC_CATHA</th>\n",
       "      <td>1.000000</td>\n",
       "      <td>0.031066</td>\n",
       "    </tr>\n",
       "    <tr>\n",
       "      <th>PX_WO_CRR6MTH</th>\n",
       "      <td>0.031066</td>\n",
       "      <td>1.000000</td>\n",
       "    </tr>\n",
       "  </tbody>\n",
       "</table>\n",
       "</div>"
      ],
      "text/plain": [
       "               VC_CATHA  PX_WO_CRR6MTH\n",
       "VC_CATHA       1.000000       0.031066\n",
       "PX_WO_CRR6MTH  0.031066       1.000000"
      ]
     },
     "execution_count": 10,
     "metadata": {},
     "output_type": "execute_result"
    }
   ],
   "source": [
    "train_df[['VC_CATHA', 'PX_WO_CRR6MTH']].corr()"
   ]
  },
  {
   "cell_type": "markdown",
   "id": "ee3fada4-e335-4556-afc2-1647e5385d36",
   "metadata": {},
   "source": [
    "## PX_WO_CRR and PX_WO_CRR6MTH are duplicates"
   ]
  },
  {
   "cell_type": "code",
   "execution_count": 11,
   "id": "3cd4b0af-29ba-4b1f-b6db-491f9b6fcfcc",
   "metadata": {
    "tags": []
   },
   "outputs": [
    {
     "data": {
      "text/plain": [
       "<matplotlib.collections.PathCollection at 0x7fa8c005a1f0>"
      ]
     },
     "execution_count": 11,
     "metadata": {},
     "output_type": "execute_result"
    },
    {
     "data": {
      "image/png": "[encoded data removed]",
      "text/plain": [
       "<Figure size 432x288 with 1 Axes>"
      ]
     },
     "metadata": {
      "needs_background": "light"
     },
     "output_type": "display_data"
    }
   ],
   "source": [
    "plt.scatter(train_df['PX_WO_CRR'], train_df['PX_WO_CRR6MTH'])"
   ]
  },
  {
   "cell_type": "code",
   "execution_count": 12,
   "id": "fe1e37e8-122b-4bf4-a43e-2fce2911873c",
   "metadata": {},
   "outputs": [
    {
     "data": {
      "text/html": [
       "<div>\n",
       "<style scoped>\n",
       "    .dataframe tbody tr th:only-of-type {\n",
       "        vertical-align: middle;\n",
       "    }\n",
       "\n",
       "    .dataframe tbody tr th {\n",
       "        vertical-align: top;\n",
       "    }\n",
       "\n",
       "    .dataframe thead th {\n",
       "        text-align: right;\n",
       "    }\n",
       "</style>\n",
       "<table border=\"1\" class=\"dataframe\">\n",
       "  <thead>\n",
       "    <tr style=\"text-align: right;\">\n",
       "      <th></th>\n",
       "      <th>PX_WO_CRR</th>\n",
       "      <th>PX_WO_CRR6MTH</th>\n",
       "    </tr>\n",
       "  </thead>\n",
       "  <tbody>\n",
       "    <tr>\n",
       "      <th>PX_WO_CRR</th>\n",
       "      <td>1.0</td>\n",
       "      <td>1.0</td>\n",
       "    </tr>\n",
       "    <tr>\n",
       "      <th>PX_WO_CRR6MTH</th>\n",
       "      <td>1.0</td>\n",
       "      <td>1.0</td>\n",
       "    </tr>\n",
       "  </tbody>\n",
       "</table>\n",
       "</div>"
      ],
      "text/plain": [
       "               PX_WO_CRR  PX_WO_CRR6MTH\n",
       "PX_WO_CRR            1.0            1.0\n",
       "PX_WO_CRR6MTH        1.0            1.0"
      ]
     },
     "execution_count": 12,
     "metadata": {},
     "output_type": "execute_result"
    }
   ],
   "source": [
    "train_df[['PX_WO_CRR', 'PX_WO_CRR6MTH']].corr()"
   ]
  },
  {
   "cell_type": "code",
   "execution_count": 13,
   "id": "367206c2-bc4f-4a2f-aa9d-ae3d134b06e2",
   "metadata": {
    "tags": []
   },
   "outputs": [
    {
     "data": {
      "text/html": [
       "<div>\n",
       "<style scoped>\n",
       "    .dataframe tbody tr th:only-of-type {\n",
       "        vertical-align: middle;\n",
       "    }\n",
       "\n",
       "    .dataframe tbody tr th {\n",
       "        vertical-align: top;\n",
       "    }\n",
       "\n",
       "    .dataframe thead th {\n",
       "        text-align: right;\n",
       "    }\n",
       "</style>\n",
       "<table border=\"1\" class=\"dataframe\">\n",
       "  <thead>\n",
       "    <tr style=\"text-align: right;\">\n",
       "      <th></th>\n",
       "      <th>PX_WO_CRR</th>\n",
       "      <th>PX_WO_CRR6MTH</th>\n",
       "    </tr>\n",
       "  </thead>\n",
       "  <tbody>\n",
       "    <tr>\n",
       "      <th>PX_WO_CRR</th>\n",
       "      <td>1.0</td>\n",
       "      <td>1.0</td>\n",
       "    </tr>\n",
       "    <tr>\n",
       "      <th>PX_WO_CRR6MTH</th>\n",
       "      <td>1.0</td>\n",
       "      <td>1.0</td>\n",
       "    </tr>\n",
       "  </tbody>\n",
       "</table>\n",
       "</div>"
      ],
      "text/plain": [
       "               PX_WO_CRR  PX_WO_CRR6MTH\n",
       "PX_WO_CRR            1.0            1.0\n",
       "PX_WO_CRR6MTH        1.0            1.0"
      ]
     },
     "execution_count": 13,
     "metadata": {},
     "output_type": "execute_result"
    }
   ],
   "source": [
    "test_df[['PX_WO_CRR', 'PX_WO_CRR6MTH']].corr()"
   ]
  },
  {
   "cell_type": "code",
   "execution_count": 20,
   "id": "daa4c82d-88a5-44e0-9fae-24133b4d2019",
   "metadata": {},
   "outputs": [],
   "source": [
    "# drop duplicated column\n",
    "train_df.drop(columns=['PX_WO_CRR6MTH'], inplace=True)\n",
    "test_df.drop(columns=['PX_WO_CRR6MTH'], inplace=True)"
   ]
  },
  {
   "cell_type": "markdown",
   "id": "31769f1d-f02e-429f-abee-50de41cbd01c",
   "metadata": {},
   "source": [
    "## 'ax_donation_contribution_c' and other binary variables\n",
    "as we can see, 'ax_donation_contribution_c' is binary variable, so we can feel it with ones and zeros"
   ]
  },
  {
   "cell_type": "code",
   "execution_count": 14,
   "id": "fc8b7c71-3d77-4358-b790-05f51238e11b",
   "metadata": {},
   "outputs": [
    {
     "data": {
      "text/plain": [
       "(1.0    111858\n",
       " Name: ax_donation_contribution_c, dtype: int64,\n",
       " 1.0    28026\n",
       " Name: ax_donation_contribution_c, dtype: int64)"
      ]
     },
     "execution_count": 14,
     "metadata": {},
     "output_type": "execute_result"
    }
   ],
   "source": [
    "train_df['ax_donation_contribution_c'].value_counts(), test_df['ax_donation_contribution_c'].value_counts()"
   ]
  },
  {
   "cell_type": "code",
   "execution_count": 15,
   "id": "acb110b6-def4-47fa-b892-c82bda646da0",
   "metadata": {
    "tags": []
   },
   "outputs": [
    {
     "name": "stdout",
     "output_type": "stream",
     "text": [
      "200000 50000\n",
      "185518 49087\n",
      "23 23\n",
      "135 122\n",
      "142 126\n",
      "5001 3770\n",
      "5001 3770\n",
      "1 1\n",
      "1 1\n",
      "1 1\n",
      "1 1\n",
      "1 1\n",
      "20 20\n",
      "20 20\n",
      "49 49\n",
      "28 28\n",
      "13 13\n",
      "571 449\n",
      "5013 3862\n",
      "4397 3387\n",
      "1984 1544\n",
      "5968 4454\n",
      "112438 32722\n",
      "60 37\n",
      "128 63\n",
      "128 63\n",
      "1 1\n",
      "1 1\n",
      "1 1\n",
      "2 2\n",
      "10 10\n",
      "3 3\n",
      "2455 1821\n",
      "2477 1607\n",
      "6712 5784\n",
      "2 2\n"
     ]
    }
   ],
   "source": [
    "# print the number of unique values in each column\n",
    "for col in test_df.columns:\n",
    "    print(len(train_df[col].value_counts()), len(test_df[col].value_counts()))"
   ]
  },
  {
   "cell_type": "code",
   "execution_count": 16,
   "id": "0a860f1c-f3c1-4fcb-a980-e4cdd0c7e196",
   "metadata": {},
   "outputs": [],
   "source": [
    "# if the number of unique values is 1, then the column is binary and we fill values with 1 and NaNs with 0 \n",
    "for col in test_df.columns:\n",
    "    if len(train_df[col].value_counts()) == 1 and len(test_df[col].value_counts()) == 1:\n",
    "        train_df[col] = train_df[col].apply(lambda x: 1 if x == x else 0)  # NaN isn't equal to itself\n",
    "        test_df[col] = test_df[col].apply(lambda x: 1 if x == x else 0)"
   ]
  },
  {
   "cell_type": "code",
   "execution_count": 17,
   "id": "8f389822-36a3-4d1d-a8c3-8468057b5dc0",
   "metadata": {},
   "outputs": [
    {
     "name": "stdout",
     "output_type": "stream",
     "text": [
      "200000 50000\n",
      "185518 49087\n",
      "23 23\n",
      "135 122\n",
      "142 126\n",
      "5001 3770\n",
      "5001 3770\n",
      "2 2\n",
      "2 2\n",
      "2 2\n",
      "2 2\n",
      "2 2\n",
      "20 20\n",
      "20 20\n",
      "49 49\n",
      "28 28\n",
      "13 13\n",
      "571 449\n",
      "5013 3862\n",
      "4397 3387\n",
      "1984 1544\n",
      "5968 4454\n",
      "112438 32722\n",
      "60 37\n",
      "128 63\n",
      "128 63\n",
      "2 2\n",
      "2 2\n",
      "2 2\n",
      "2 2\n",
      "10 10\n",
      "3 3\n",
      "2455 1821\n",
      "2477 1607\n",
      "6712 5784\n",
      "2 2\n"
     ]
    }
   ],
   "source": [
    "# check the existence of binary NaNs\n",
    "for col in test_df.columns:\n",
    "    print(len(train_df[col].value_counts()), len(test_df[col].value_counts()))"
   ]
  },
  {
   "cell_type": "markdown",
   "id": "3f7059dd-6868-484d-8d68-f49b0ee35ae0",
   "metadata": {},
   "source": [
    "## Non-binary variables"
   ]
  },
  {
   "cell_type": "code",
   "execution_count": 23,
   "id": "6dc89a49-14a0-41c4-8740-b399e4d73dbc",
   "metadata": {},
   "outputs": [
    {
     "name": "stdout",
     "output_type": "stream",
     "text": [
      "Unnamed: 0\n",
      "VC_ID\n",
      "VC_DATEMAIL\n",
      "VC_CATHA\n",
      "VC_CATHMC\n",
      "PX_WO_CRR\n",
      "ax_rfm_total_offline_orders_under_50_range_rng\n",
      "ax_rfm_total_offline_orders_rng\n",
      "ax_personicx_digital_cluster\n",
      "ax_income_range_premium_sc\n",
      "ax_income_range_broad_sc\n",
      "VC_DATEMAILLAST\n",
      "PX_WO_CR\n",
      "ax_rfm_last_offline_purchase_date\n",
      "PX_WO_CMD\n",
      "VC_DATEGIFTLAST\n",
      "ax_spose_income\n",
      "VC_GIFTMAX1Y\n",
      "PX_international_relief_CAG\n",
      "PX_international_relief_CAG6MTH\n",
      "ax_home_owner_type_detail_rp\n",
      "ax_home_market_value_deciles_estimated_rp\n",
      "ax_home_property_type_rp\n",
      "PX_WO_PMD\n",
      "ax_home_loan_date_3_rp_year\n",
      "PX_WO_PR\n",
      "ax_sex\n"
     ]
    }
   ],
   "source": [
    "for col in test_df.columns:\n",
    "    if len(train_df[col].unique()) > 2 or len(test_df[col].unique()) > 2:\n",
    "        print(col)"
   ]
  },
  {
   "cell_type": "markdown",
   "id": "80b5ca72-b8f5-47dd-8bff-52e26559134b",
   "metadata": {},
   "source": [
    "## ax_rfm_total_offline_orders_under_50_range_rng"
   ]
  },
  {
   "cell_type": "code",
   "execution_count": 25,
   "id": "f3fd30ad-0227-4b1a-bf6c-a45c3b61cdf5",
   "metadata": {},
   "outputs": [
    {
     "data": {
      "text/plain": [
       "K    29141\n",
       "A    17677\n",
       "L    14121\n",
       "B    13238\n",
       "C    10118\n",
       "O     9125\n",
       "D     8595\n",
       "M     7877\n",
       "E     7613\n",
       "F     6685\n",
       "G     5831\n",
       "H     5505\n",
       "N     5130\n",
       "I     4879\n",
       "J     4486\n",
       "P     1913\n",
       "Q      642\n",
       "R      265\n",
       "T      163\n",
       "S       98\n",
       "Name: ax_rfm_total_offline_orders_under_50_range_rng, dtype: int64"
      ]
     },
     "execution_count": 25,
     "metadata": {},
     "output_type": "execute_result"
    }
   ],
   "source": [
    "train_df['ax_rfm_total_offline_orders_under_50_range_rng'].value_counts()"
   ]
  },
  {
   "cell_type": "code",
   "execution_count": 28,
   "id": "fd6206a7-dbf9-4738-bdbd-e2f8943aa7a3",
   "metadata": {},
   "outputs": [
    {
     "data": {
      "text/plain": [
       "46898"
      ]
     },
     "execution_count": 28,
     "metadata": {},
     "output_type": "execute_result"
    }
   ],
   "source": [
    "(~train_df['ax_rfm_total_offline_orders_under_50_range_rng'].notna()).sum()"
   ]
  },
  {
   "cell_type": "code",
   "execution_count": 30,
   "id": "e761c82a-acf9-46fc-969f-9d27304ce8f1",
   "metadata": {},
   "outputs": [
    {
     "data": {
      "text/plain": [
       "0            K\n",
       "1            A\n",
       "2         _NaN\n",
       "3            L\n",
       "4            C\n",
       "          ... \n",
       "199995       L\n",
       "199996       L\n",
       "199997    _NaN\n",
       "199998       O\n",
       "199999    _NaN\n",
       "Name: ax_rfm_total_offline_orders_under_50_range_rng, Length: 200000, dtype: object"
      ]
     },
     "execution_count": 30,
     "metadata": {},
     "output_type": "execute_result"
    }
   ],
   "source": [
    "# there are a lot of NaNs, so we should fill them with a unique value\n",
    "train_df['ax_rfm_total_offline_orders_under_50_range_rng'].fillna('_NaN', inplace=True)\n",
    "test_df['ax_rfm_total_offline_orders_under_50_range_rng'].fillna('_NaN', inplace=True)"
   ]
  },
  {
   "cell_type": "markdown",
   "id": "4711c1ba-0222-42ee-8e89-3cbe6dc0f331",
   "metadata": {},
   "source": [
    "## ax_religious_inspirational"
   ]
  },
  {
   "cell_type": "code",
   "execution_count": null,
   "id": "8784764d-7a71-43bd-a814-d92a266b5cac",
   "metadata": {},
   "outputs": [],
   "source": [
    "train_df['ax_religious_inspirational'].value_counts(), test_df['ax_religious_inspirational'].value_counts()"
   ]
  },
  {
   "cell_type": "code",
   "execution_count": null,
   "id": "45101ee6-49d8-4cc4-bd8f-edb96a37a3fa",
   "metadata": {},
   "outputs": [],
   "source": [
    "train_df['ax_religious_inspirational'] = train_df['ax_religious_inspirational'].apply(lambda x: 1 if x == x else 0)\n",
    "test_df['ax_religious_inspirational'] = test_df['ax_religious_inspirational'].apply(lambda x: 1 if x == x else 0)"
   ]
  },
  {
   "cell_type": "markdown",
   "id": "85fcfebb-5944-4215-9840-86436b4a2e99",
   "metadata": {},
   "source": [
    "## ax_apparel_mens_big_and_tall_c"
   ]
  },
  {
   "cell_type": "code",
   "execution_count": null,
   "id": "3cdb4629-92f5-4a05-bee4-8e8a7a460752",
   "metadata": {},
   "outputs": [],
   "source": [
    "train_df['ax_apparel_mens_big_and_tall_c'].value_counts(), test_df['ax_apparel_mens_big_and_tall_c'].value_counts()"
   ]
  },
  {
   "cell_type": "code",
   "execution_count": null,
   "id": "caf3a701-3746-4b2f-a15c-9b8a2cc99919",
   "metadata": {},
   "outputs": [],
   "source": [
    "train_df['ax_apparel_mens_big_and_tall_c'] = train_df['ax_apparel_mens_big_and_tall_c'].apply(lambda x: 1 if x == x else 0)\n",
    "test_df['ax_apparel_mens_big_and_tall_c'] = test_df['ax_apparel_mens_big_and_tall_c'].apply(lambda x: 1 if x == x else 0)"
   ]
  },
  {
   "cell_type": "code",
   "execution_count": null,
   "id": "edd1fcc4-443d-41f7-820c-80b3310659df",
   "metadata": {},
   "outputs": [],
   "source": []
  },
  {
   "cell_type": "code",
   "execution_count": null,
   "id": "5894d00e-a33c-4642-aaa7-23bbbac2fe70",
   "metadata": {},
   "outputs": [],
   "source": []
  },
  {
   "cell_type": "code",
   "execution_count": null,
   "id": "ba0f2ccf-6d2c-4b33-8800-f2588978f7ec",
   "metadata": {},
   "outputs": [],
   "source": []
  },
  {
   "cell_type": "markdown",
   "id": "68419764-35d9-4a6c-9759-85373497e9ac",
   "metadata": {},
   "source": [
    " 'VC_ID'  ---- basic id <br>\n",
    " 'VC_DATEMAIL' --- the date when the person was mailed during the campaign;<br>\n",
    " 'VC_DATERESP' --- the date of response for the mail (when the person donated some money ‘GIFT’) if the person responded;<br>\n",
    " 'VC_GIFT'  --- TARGET (did they respond to the associated mailing) doesn’t present on validation file<br>\n",
    " 'VC_CATHA',<br>\n",
    " 'VC_CATHMC',<br>\n",
    " 'PX_WO_CRR',<br>\n",
    " 'PX_WO_CRR6MTH',<br>\n",
    " 'ax_donation_contribution_c',<br>\n",
    " 'ax_religious_inspirational',<br>\n",
    " 'ax_apparel_mens_big_and_tall_c',<br>\n",
    " 'ax_books_and_music_books_c',<br>\n",
    " 'ax_adult_age_ranges_present_in_household_females_75',<br>\n",
    " 'ax_rfm_total_offline_orders_under_50_range_rng',<br>\n",
    " 'ax_rfm_total_offline_orders_rng',<br>\n",
    " 'ax_personicx_digital_cluster',<br>\n",
    " 'ax_income_range_premium_sc',<br>\n",
    " 'ax_income_range_broad_sc',<br>\n",
    " 'VC_DATEMAILLAST' --- the mail date of previous to the associated mailing campaign <br>\n",
    " 'PX_WO_CR',<br>\n",
    " 'ax_rfm_last_offline_purchase_date',<br>\n",
    " 'PX_WO_CMD',<br>\n",
    " 'VC_DATEGIFTLAST' --- last date responded (as of the time of this mailing)<br>\n",
    " 'ax_spose_income',<br>\n",
    " 'VC_GIFTMAX1Y',<br>\n",
    " 'PX_international_relief_CAG',<br>\n",
    " 'PX_international_relief_CAG6MTH',<br>\n",
    " 'ax_scuba_diving',<br>\n",
    " 'ax_adult_age_ranges_present_in_household_unknown_gender_18_24',<br>\n",
    " 'ax_childrens_age_ranges_present_in_hhld_reseller_age_00_02_female',<br>\n",
    " 'ax_home_owner_type_detail_rp',<br>\n",
    " 'ax_home_market_value_deciles_estimated_rp',<br>\n",
    " 'ax_home_property_type_rp',<br>\n",
    " 'PX_WO_PMD',<br>\n",
    " 'ax_home_loan_date_3_rp_year',<br>\n",
    " 'PX_WO_PR',<br>\n",
    " 'ax_sex'<br>"
   ]
  },
  {
   "cell_type": "code",
   "execution_count": null,
   "id": "fcfc6b37-fdad-4d18-abbb-7cafd4a1a9d9",
   "metadata": {},
   "outputs": [],
   "source": [
    "(train_df['VC_GIFT'].notna()).sum()"
   ]
  },
  {
   "cell_type": "code",
   "execution_count": null,
   "id": "166a7092-0697-4079-820d-b481794a519b",
   "metadata": {},
   "outputs": [],
   "source": [
    "train_df['VC_GIFTMAX1Y'].notna().sum()"
   ]
  },
  {
   "cell_type": "code",
   "execution_count": null,
   "id": "fe3e421a-8c63-4c38-80bc-3bb3db24f102",
   "metadata": {},
   "outputs": [],
   "source": [
    "train_df['VC_GIFTMAX1Y'].max()"
   ]
  },
  {
   "cell_type": "code",
   "execution_count": null,
   "id": "cf7917ca-d506-4005-be0b-75781f30c670",
   "metadata": {},
   "outputs": [],
   "source": [
    "train_df['VC_GIFT'].max()"
   ]
  },
  {
   "cell_type": "code",
   "execution_count": null,
   "id": "5bbabcf7-ec45-4259-ac2f-470d4abf8085",
   "metadata": {},
   "outputs": [],
   "source": []
  }
 ],
 "metadata": {
  "kernelspec": {
   "display_name": "Python 3",
   "language": "python",
   "name": "python3"
  },
  "language_info": {
   "codemirror_mode": {
    "name": "ipython",
    "version": 3
   },
   "file_extension": ".py",
   "mimetype": "text/x-python",
   "name": "python",
   "nbconvert_exporter": "python",
   "pygments_lexer": "ipython3",
   "version": "3.8.8"
  }
 },
 "nbformat": 4,
 "nbformat_minor": 5
}
